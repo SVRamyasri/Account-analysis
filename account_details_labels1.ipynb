{
 "cells": [
  {
   "cell_type": "code",
   "execution_count": 1,
   "id": "94c57082",
   "metadata": {},
   "outputs": [],
   "source": [
    "import warnings\n",
    "warnings.filterwarnings('ignore')"
   ]
  },
  {
   "cell_type": "code",
   "execution_count": 2,
   "id": "794e43d5",
   "metadata": {},
   "outputs": [],
   "source": [
    "import numpy as np\n",
    "import pandas as pd\n",
    "import seaborn as sns\n",
    "import matplotlib.pyplot as plt "
   ]
  },
  {
   "cell_type": "code",
   "execution_count": 3,
   "id": "4e3aba5b",
   "metadata": {},
   "outputs": [],
   "source": [
    "import sklearn\n",
    "from sklearn.preprocessing import StandardScaler\n",
    "from sklearn.cluster import KMeans\n",
    "from sklearn.metrics import silhouette_score"
   ]
  },
  {
   "cell_type": "code",
   "execution_count": 5,
   "id": "0211a4a5",
   "metadata": {},
   "outputs": [
    {
     "data": {
      "text/html": [
       "<div>\n",
       "<style scoped>\n",
       "    .dataframe tbody tr th:only-of-type {\n",
       "        vertical-align: middle;\n",
       "    }\n",
       "\n",
       "    .dataframe tbody tr th {\n",
       "        vertical-align: top;\n",
       "    }\n",
       "\n",
       "    .dataframe thead th {\n",
       "        text-align: right;\n",
       "    }\n",
       "</style>\n",
       "<table border=\"1\" class=\"dataframe\">\n",
       "  <thead>\n",
       "    <tr style=\"text-align: right;\">\n",
       "      <th></th>\n",
       "      <th>ID</th>\n",
       "      <th>MM</th>\n",
       "      <th>CPT</th>\n",
       "      <th>REV_CD</th>\n",
       "      <th>Type</th>\n",
       "      <th>imt</th>\n",
       "      <th>Expect_Amount</th>\n",
       "      <th>TotPayment</th>\n",
       "      <th>Code</th>\n",
       "      <th>Amount_Due</th>\n",
       "      <th>AR_Dollar_threshold</th>\n",
       "      <th>AR_Percentage</th>\n",
       "      <th>AR_Exist</th>\n",
       "    </tr>\n",
       "  </thead>\n",
       "  <tbody>\n",
       "    <tr>\n",
       "      <th>0</th>\n",
       "      <td>TEDEL21429317</td>\n",
       "      <td>202</td>\n",
       "      <td>NaN</td>\n",
       "      <td>943</td>\n",
       "      <td>2</td>\n",
       "      <td>False</td>\n",
       "      <td>70.38</td>\n",
       "      <td>0.00</td>\n",
       "      <td>Other</td>\n",
       "      <td>70.38</td>\n",
       "      <td>False</td>\n",
       "      <td>1.000000</td>\n",
       "      <td>True</td>\n",
       "    </tr>\n",
       "    <tr>\n",
       "      <th>1</th>\n",
       "      <td>TEGSM76438944</td>\n",
       "      <td>12</td>\n",
       "      <td>NaN</td>\n",
       "      <td>921</td>\n",
       "      <td>2</td>\n",
       "      <td>False</td>\n",
       "      <td>203.00</td>\n",
       "      <td>24.08</td>\n",
       "      <td>XR001</td>\n",
       "      <td>6.01</td>\n",
       "      <td>False</td>\n",
       "      <td>0.029606</td>\n",
       "      <td>True</td>\n",
       "    </tr>\n",
       "    <tr>\n",
       "      <th>2</th>\n",
       "      <td>TEGSM76438944</td>\n",
       "      <td>12</td>\n",
       "      <td>NaN</td>\n",
       "      <td>320</td>\n",
       "      <td>2</td>\n",
       "      <td>False</td>\n",
       "      <td>203.00</td>\n",
       "      <td>24.08</td>\n",
       "      <td>XR001</td>\n",
       "      <td>6.01</td>\n",
       "      <td>False</td>\n",
       "      <td>0.029606</td>\n",
       "      <td>True</td>\n",
       "    </tr>\n",
       "    <tr>\n",
       "      <th>3</th>\n",
       "      <td>TEGSM76757665</td>\n",
       "      <td>102</td>\n",
       "      <td>NaN</td>\n",
       "      <td>320</td>\n",
       "      <td>2</td>\n",
       "      <td>False</td>\n",
       "      <td>38.93</td>\n",
       "      <td>29.59</td>\n",
       "      <td>Other</td>\n",
       "      <td>5.22</td>\n",
       "      <td>False</td>\n",
       "      <td>0.134087</td>\n",
       "      <td>True</td>\n",
       "    </tr>\n",
       "    <tr>\n",
       "      <th>4</th>\n",
       "      <td>TEGSM78301736</td>\n",
       "      <td>203</td>\n",
       "      <td>NaN</td>\n",
       "      <td>350</td>\n",
       "      <td>1</td>\n",
       "      <td>False</td>\n",
       "      <td>398.00</td>\n",
       "      <td>0.00</td>\n",
       "      <td>Other</td>\n",
       "      <td>398.00</td>\n",
       "      <td>True</td>\n",
       "      <td>1.000000</td>\n",
       "      <td>True</td>\n",
       "    </tr>\n",
       "    <tr>\n",
       "      <th>5</th>\n",
       "      <td>TEGSM78301736</td>\n",
       "      <td>203</td>\n",
       "      <td>NaN</td>\n",
       "      <td>636</td>\n",
       "      <td>1</td>\n",
       "      <td>False</td>\n",
       "      <td>398.00</td>\n",
       "      <td>0.00</td>\n",
       "      <td>Other</td>\n",
       "      <td>398.00</td>\n",
       "      <td>True</td>\n",
       "      <td>1.000000</td>\n",
       "      <td>True</td>\n",
       "    </tr>\n",
       "    <tr>\n",
       "      <th>6</th>\n",
       "      <td>TEGSM78301736</td>\n",
       "      <td>203</td>\n",
       "      <td>NaN</td>\n",
       "      <td>636</td>\n",
       "      <td>1</td>\n",
       "      <td>False</td>\n",
       "      <td>398.00</td>\n",
       "      <td>0.00</td>\n",
       "      <td>Other</td>\n",
       "      <td>398.00</td>\n",
       "      <td>True</td>\n",
       "      <td>1.000000</td>\n",
       "      <td>True</td>\n",
       "    </tr>\n",
       "    <tr>\n",
       "      <th>7</th>\n",
       "      <td>TEGSM78328200</td>\n",
       "      <td>203</td>\n",
       "      <td>NaN</td>\n",
       "      <td>636</td>\n",
       "      <td>2</td>\n",
       "      <td>False</td>\n",
       "      <td>1342.00</td>\n",
       "      <td>885.68</td>\n",
       "      <td>Other</td>\n",
       "      <td>1342.00</td>\n",
       "      <td>True</td>\n",
       "      <td>1.000000</td>\n",
       "      <td>True</td>\n",
       "    </tr>\n",
       "    <tr>\n",
       "      <th>8</th>\n",
       "      <td>TEGSM78328200</td>\n",
       "      <td>203</td>\n",
       "      <td>NaN</td>\n",
       "      <td>341</td>\n",
       "      <td>2</td>\n",
       "      <td>False</td>\n",
       "      <td>1342.00</td>\n",
       "      <td>885.68</td>\n",
       "      <td>Other</td>\n",
       "      <td>1342.00</td>\n",
       "      <td>True</td>\n",
       "      <td>1.000000</td>\n",
       "      <td>True</td>\n",
       "    </tr>\n",
       "    <tr>\n",
       "      <th>9</th>\n",
       "      <td>TEGSM78328200</td>\n",
       "      <td>203</td>\n",
       "      <td>NaN</td>\n",
       "      <td>343</td>\n",
       "      <td>2</td>\n",
       "      <td>False</td>\n",
       "      <td>1342.00</td>\n",
       "      <td>885.68</td>\n",
       "      <td>Other</td>\n",
       "      <td>1342.00</td>\n",
       "      <td>True</td>\n",
       "      <td>1.000000</td>\n",
       "      <td>True</td>\n",
       "    </tr>\n",
       "  </tbody>\n",
       "</table>\n",
       "</div>"
      ],
      "text/plain": [
       "              ID   MM  CPT  REV_CD  Type    imt  Expect_Amount  TotPayment  \\\n",
       "0  TEDEL21429317  202  NaN     943     2  False          70.38        0.00   \n",
       "1  TEGSM76438944   12  NaN     921     2  False         203.00       24.08   \n",
       "2  TEGSM76438944   12  NaN     320     2  False         203.00       24.08   \n",
       "3  TEGSM76757665  102  NaN     320     2  False          38.93       29.59   \n",
       "4  TEGSM78301736  203  NaN     350     1  False         398.00        0.00   \n",
       "5  TEGSM78301736  203  NaN     636     1  False         398.00        0.00   \n",
       "6  TEGSM78301736  203  NaN     636     1  False         398.00        0.00   \n",
       "7  TEGSM78328200  203  NaN     636     2  False        1342.00      885.68   \n",
       "8  TEGSM78328200  203  NaN     341     2  False        1342.00      885.68   \n",
       "9  TEGSM78328200  203  NaN     343     2  False        1342.00      885.68   \n",
       "\n",
       "    Code  Amount_Due  AR_Dollar_threshold  AR_Percentage  AR_Exist  \n",
       "0  Other       70.38                False       1.000000      True  \n",
       "1  XR001        6.01                False       0.029606      True  \n",
       "2  XR001        6.01                False       0.029606      True  \n",
       "3  Other        5.22                False       0.134087      True  \n",
       "4  Other      398.00                 True       1.000000      True  \n",
       "5  Other      398.00                 True       1.000000      True  \n",
       "6  Other      398.00                 True       1.000000      True  \n",
       "7  Other     1342.00                 True       1.000000      True  \n",
       "8  Other     1342.00                 True       1.000000      True  \n",
       "9  Other     1342.00                 True       1.000000      True  "
      ]
     },
     "execution_count": 5,
     "metadata": {},
     "output_type": "execute_result"
    }
   ],
   "source": [
    "account_details_labels= pd.read_csv(\"account_details_labels.csv\")\n",
    "account_details_labels.head(10)"
   ]
  },
  {
   "cell_type": "code",
   "execution_count": 7,
   "id": "8eaef8f3",
   "metadata": {},
   "outputs": [
    {
     "data": {
      "text/plain": [
       "(18305, 13)"
      ]
     },
     "execution_count": 7,
     "metadata": {},
     "output_type": "execute_result"
    }
   ],
   "source": [
    "account_details_labels.shape"
   ]
  },
  {
   "cell_type": "code",
   "execution_count": 8,
   "id": "9584b68d",
   "metadata": {},
   "outputs": [
    {
     "name": "stdout",
     "output_type": "stream",
     "text": [
      "<class 'pandas.core.frame.DataFrame'>\n",
      "RangeIndex: 18305 entries, 0 to 18304\n",
      "Data columns (total 13 columns):\n",
      " #   Column               Non-Null Count  Dtype  \n",
      "---  ------               --------------  -----  \n",
      " 0   ID                   18305 non-null  object \n",
      " 1   MM                   18305 non-null  int64  \n",
      " 2   CPT                  1592 non-null   float64\n",
      " 3   REV_CD               18305 non-null  int64  \n",
      " 4   Type                 18305 non-null  int64  \n",
      " 5   imt                  18305 non-null  bool   \n",
      " 6   Expect_Amount        18305 non-null  float64\n",
      " 7   TotPayment           18305 non-null  float64\n",
      " 8   Code                 9740 non-null   object \n",
      " 9   Amount_Due           18305 non-null  float64\n",
      " 10  AR_Dollar_threshold  18305 non-null  bool   \n",
      " 11  AR_Percentage        18305 non-null  float64\n",
      " 12  AR_Exist             18305 non-null  bool   \n",
      "dtypes: bool(3), float64(5), int64(3), object(2)\n",
      "memory usage: 1.4+ MB\n"
     ]
    }
   ],
   "source": [
    "account_details_labels.info()"
   ]
  },
  {
   "cell_type": "code",
   "execution_count": 9,
   "id": "bb61a348",
   "metadata": {},
   "outputs": [
    {
     "data": {
      "text/html": [
       "<div>\n",
       "<style scoped>\n",
       "    .dataframe tbody tr th:only-of-type {\n",
       "        vertical-align: middle;\n",
       "    }\n",
       "\n",
       "    .dataframe tbody tr th {\n",
       "        vertical-align: top;\n",
       "    }\n",
       "\n",
       "    .dataframe thead th {\n",
       "        text-align: right;\n",
       "    }\n",
       "</style>\n",
       "<table border=\"1\" class=\"dataframe\">\n",
       "  <thead>\n",
       "    <tr style=\"text-align: right;\">\n",
       "      <th></th>\n",
       "      <th>MM</th>\n",
       "      <th>CPT</th>\n",
       "      <th>REV_CD</th>\n",
       "      <th>Type</th>\n",
       "      <th>Expect_Amount</th>\n",
       "      <th>TotPayment</th>\n",
       "      <th>Amount_Due</th>\n",
       "      <th>AR_Percentage</th>\n",
       "    </tr>\n",
       "  </thead>\n",
       "  <tbody>\n",
       "    <tr>\n",
       "      <th>count</th>\n",
       "      <td>18305.000000</td>\n",
       "      <td>1592.00000</td>\n",
       "      <td>18305.000000</td>\n",
       "      <td>18305.000000</td>\n",
       "      <td>18305.000000</td>\n",
       "      <td>18305.000000</td>\n",
       "      <td>18305.000000</td>\n",
       "      <td>18305.000000</td>\n",
       "    </tr>\n",
       "    <tr>\n",
       "      <th>mean</th>\n",
       "      <td>66.513084</td>\n",
       "      <td>32403.09108</td>\n",
       "      <td>474.827643</td>\n",
       "      <td>1.625567</td>\n",
       "      <td>25073.042457</td>\n",
       "      <td>19551.072959</td>\n",
       "      <td>6059.637282</td>\n",
       "      <td>0.188729</td>\n",
       "    </tr>\n",
       "    <tr>\n",
       "      <th>std</th>\n",
       "      <td>61.823697</td>\n",
       "      <td>10102.79031</td>\n",
       "      <td>199.630701</td>\n",
       "      <td>0.483989</td>\n",
       "      <td>22619.856617</td>\n",
       "      <td>19274.686331</td>\n",
       "      <td>15282.359594</td>\n",
       "      <td>0.603247</td>\n",
       "    </tr>\n",
       "    <tr>\n",
       "      <th>min</th>\n",
       "      <td>1.000000</td>\n",
       "      <td>410.00000</td>\n",
       "      <td>250.000000</td>\n",
       "      <td>1.000000</td>\n",
       "      <td>0.000000</td>\n",
       "      <td>0.000000</td>\n",
       "      <td>-1236.650000</td>\n",
       "      <td>0.000000</td>\n",
       "    </tr>\n",
       "    <tr>\n",
       "      <th>25%</th>\n",
       "      <td>8.000000</td>\n",
       "      <td>33285.00000</td>\n",
       "      <td>300.000000</td>\n",
       "      <td>1.000000</td>\n",
       "      <td>1342.000000</td>\n",
       "      <td>1086.000000</td>\n",
       "      <td>0.000000</td>\n",
       "      <td>0.000000</td>\n",
       "    </tr>\n",
       "    <tr>\n",
       "      <th>50%</th>\n",
       "      <td>101.000000</td>\n",
       "      <td>36569.00000</td>\n",
       "      <td>403.000000</td>\n",
       "      <td>2.000000</td>\n",
       "      <td>16068.620000</td>\n",
       "      <td>14735.800000</td>\n",
       "      <td>215.080000</td>\n",
       "      <td>0.020357</td>\n",
       "    </tr>\n",
       "    <tr>\n",
       "      <th>75%</th>\n",
       "      <td>108.000000</td>\n",
       "      <td>36590.00000</td>\n",
       "      <td>636.000000</td>\n",
       "      <td>2.000000</td>\n",
       "      <td>42916.140000</td>\n",
       "      <td>32352.440000</td>\n",
       "      <td>9299.150000</td>\n",
       "      <td>0.239047</td>\n",
       "    </tr>\n",
       "    <tr>\n",
       "      <th>max</th>\n",
       "      <td>203.000000</td>\n",
       "      <td>37197.00000</td>\n",
       "      <td>943.000000</td>\n",
       "      <td>2.000000</td>\n",
       "      <td>138125.110000</td>\n",
       "      <td>186732.400000</td>\n",
       "      <td>270319.000000</td>\n",
       "      <td>44.389241</td>\n",
       "    </tr>\n",
       "  </tbody>\n",
       "</table>\n",
       "</div>"
      ],
      "text/plain": [
       "                 MM          CPT        REV_CD          Type  Expect_Amount  \\\n",
       "count  18305.000000   1592.00000  18305.000000  18305.000000   18305.000000   \n",
       "mean      66.513084  32403.09108    474.827643      1.625567   25073.042457   \n",
       "std       61.823697  10102.79031    199.630701      0.483989   22619.856617   \n",
       "min        1.000000    410.00000    250.000000      1.000000       0.000000   \n",
       "25%        8.000000  33285.00000    300.000000      1.000000    1342.000000   \n",
       "50%      101.000000  36569.00000    403.000000      2.000000   16068.620000   \n",
       "75%      108.000000  36590.00000    636.000000      2.000000   42916.140000   \n",
       "max      203.000000  37197.00000    943.000000      2.000000  138125.110000   \n",
       "\n",
       "          TotPayment     Amount_Due  AR_Percentage  \n",
       "count   18305.000000   18305.000000   18305.000000  \n",
       "mean    19551.072959    6059.637282       0.188729  \n",
       "std     19274.686331   15282.359594       0.603247  \n",
       "min         0.000000   -1236.650000       0.000000  \n",
       "25%      1086.000000       0.000000       0.000000  \n",
       "50%     14735.800000     215.080000       0.020357  \n",
       "75%     32352.440000    9299.150000       0.239047  \n",
       "max    186732.400000  270319.000000      44.389241  "
      ]
     },
     "execution_count": 9,
     "metadata": {},
     "output_type": "execute_result"
    }
   ],
   "source": [
    "account_details_labels.describe()"
   ]
  },
  {
   "cell_type": "code",
   "execution_count": 11,
   "id": "66c66ebd",
   "metadata": {},
   "outputs": [
    {
     "data": {
      "text/plain": [
       "Index(['ID', 'MM', 'CPT', 'REV_CD', 'Type', 'imt', 'Expect_Amount',\n",
       "       'TotPayment', 'Code', 'Amount_Due', 'AR_Dollar_threshold',\n",
       "       'AR_Percentage', 'AR_Exist'],\n",
       "      dtype='object')"
      ]
     },
     "execution_count": 11,
     "metadata": {},
     "output_type": "execute_result"
    }
   ],
   "source": [
    "account_details_labels.columns"
   ]
  },
  {
   "cell_type": "code",
   "execution_count": 13,
   "id": "fb3a4585",
   "metadata": {},
   "outputs": [
    {
     "data": {
      "text/plain": [
       "ID                      object\n",
       "MM                       int64\n",
       "CPT                    float64\n",
       "REV_CD                   int64\n",
       "Type                     int64\n",
       "imt                       bool\n",
       "Expect_Amount          float64\n",
       "TotPayment             float64\n",
       "Code                    object\n",
       "Amount_Due             float64\n",
       "AR_Dollar_threshold       bool\n",
       "AR_Percentage          float64\n",
       "AR_Exist                  bool\n",
       "dtype: object"
      ]
     },
     "execution_count": 13,
     "metadata": {},
     "output_type": "execute_result"
    }
   ],
   "source": [
    "account_details_labels.dtypes"
   ]
  },
  {
   "cell_type": "code",
   "execution_count": 16,
   "id": "cc29c8cd",
   "metadata": {},
   "outputs": [
    {
     "data": {
      "text/plain": [
       "ID                         0\n",
       "MM                         0\n",
       "CPT                    16713\n",
       "REV_CD                     0\n",
       "Type                       0\n",
       "imt                        0\n",
       "Expect_Amount              0\n",
       "TotPayment                 0\n",
       "Code                    8565\n",
       "Amount_Due                 0\n",
       "AR_Dollar_threshold        0\n",
       "AR_Percentage              0\n",
       "AR_Exist                   0\n",
       "dtype: int64"
      ]
     },
     "execution_count": 16,
     "metadata": {},
     "output_type": "execute_result"
    }
   ],
   "source": [
    "account_details_labels.isna().sum()"
   ]
  },
  {
   "cell_type": "code",
   "execution_count": 17,
   "id": "0c2087e5",
   "metadata": {},
   "outputs": [
    {
     "data": {
      "text/plain": [
       "ID                      0.00\n",
       "MM                      0.00\n",
       "CPT                    91.30\n",
       "REV_CD                  0.00\n",
       "Type                    0.00\n",
       "imt                     0.00\n",
       "Expect_Amount           0.00\n",
       "TotPayment              0.00\n",
       "Code                   46.79\n",
       "Amount_Due              0.00\n",
       "AR_Dollar_threshold     0.00\n",
       "AR_Percentage           0.00\n",
       "AR_Exist                0.00\n",
       "dtype: float64"
      ]
     },
     "execution_count": 17,
     "metadata": {},
     "output_type": "execute_result"
    }
   ],
   "source": [
    "round(100*(account_details_labels.isnull().sum()/len(account_details_labels.index)), 2)"
   ]
  },
  {
   "cell_type": "code",
   "execution_count": 18,
   "id": "31b5c219",
   "metadata": {},
   "outputs": [],
   "source": [
    "account_details_labels.drop('CPT', inplace=True, axis=1)"
   ]
  },
  {
   "cell_type": "code",
   "execution_count": 19,
   "id": "572fa482",
   "metadata": {},
   "outputs": [
    {
     "data": {
      "text/html": [
       "<div>\n",
       "<style scoped>\n",
       "    .dataframe tbody tr th:only-of-type {\n",
       "        vertical-align: middle;\n",
       "    }\n",
       "\n",
       "    .dataframe tbody tr th {\n",
       "        vertical-align: top;\n",
       "    }\n",
       "\n",
       "    .dataframe thead th {\n",
       "        text-align: right;\n",
       "    }\n",
       "</style>\n",
       "<table border=\"1\" class=\"dataframe\">\n",
       "  <thead>\n",
       "    <tr style=\"text-align: right;\">\n",
       "      <th></th>\n",
       "      <th>ID</th>\n",
       "      <th>MM</th>\n",
       "      <th>REV_CD</th>\n",
       "      <th>Type</th>\n",
       "      <th>imt</th>\n",
       "      <th>Expect_Amount</th>\n",
       "      <th>TotPayment</th>\n",
       "      <th>Code</th>\n",
       "      <th>Amount_Due</th>\n",
       "      <th>AR_Dollar_threshold</th>\n",
       "      <th>AR_Percentage</th>\n",
       "      <th>AR_Exist</th>\n",
       "    </tr>\n",
       "  </thead>\n",
       "  <tbody>\n",
       "    <tr>\n",
       "      <th>0</th>\n",
       "      <td>TEDEL21429317</td>\n",
       "      <td>202</td>\n",
       "      <td>943</td>\n",
       "      <td>2</td>\n",
       "      <td>False</td>\n",
       "      <td>70.38</td>\n",
       "      <td>0.00</td>\n",
       "      <td>Other</td>\n",
       "      <td>70.38</td>\n",
       "      <td>False</td>\n",
       "      <td>1.000000</td>\n",
       "      <td>True</td>\n",
       "    </tr>\n",
       "    <tr>\n",
       "      <th>1</th>\n",
       "      <td>TEGSM76438944</td>\n",
       "      <td>12</td>\n",
       "      <td>921</td>\n",
       "      <td>2</td>\n",
       "      <td>False</td>\n",
       "      <td>203.00</td>\n",
       "      <td>24.08</td>\n",
       "      <td>XR001</td>\n",
       "      <td>6.01</td>\n",
       "      <td>False</td>\n",
       "      <td>0.029606</td>\n",
       "      <td>True</td>\n",
       "    </tr>\n",
       "    <tr>\n",
       "      <th>2</th>\n",
       "      <td>TEGSM76438944</td>\n",
       "      <td>12</td>\n",
       "      <td>320</td>\n",
       "      <td>2</td>\n",
       "      <td>False</td>\n",
       "      <td>203.00</td>\n",
       "      <td>24.08</td>\n",
       "      <td>XR001</td>\n",
       "      <td>6.01</td>\n",
       "      <td>False</td>\n",
       "      <td>0.029606</td>\n",
       "      <td>True</td>\n",
       "    </tr>\n",
       "    <tr>\n",
       "      <th>3</th>\n",
       "      <td>TEGSM76757665</td>\n",
       "      <td>102</td>\n",
       "      <td>320</td>\n",
       "      <td>2</td>\n",
       "      <td>False</td>\n",
       "      <td>38.93</td>\n",
       "      <td>29.59</td>\n",
       "      <td>Other</td>\n",
       "      <td>5.22</td>\n",
       "      <td>False</td>\n",
       "      <td>0.134087</td>\n",
       "      <td>True</td>\n",
       "    </tr>\n",
       "    <tr>\n",
       "      <th>4</th>\n",
       "      <td>TEGSM78301736</td>\n",
       "      <td>203</td>\n",
       "      <td>350</td>\n",
       "      <td>1</td>\n",
       "      <td>False</td>\n",
       "      <td>398.00</td>\n",
       "      <td>0.00</td>\n",
       "      <td>Other</td>\n",
       "      <td>398.00</td>\n",
       "      <td>True</td>\n",
       "      <td>1.000000</td>\n",
       "      <td>True</td>\n",
       "    </tr>\n",
       "  </tbody>\n",
       "</table>\n",
       "</div>"
      ],
      "text/plain": [
       "              ID   MM  REV_CD  Type    imt  Expect_Amount  TotPayment   Code  \\\n",
       "0  TEDEL21429317  202     943     2  False          70.38        0.00  Other   \n",
       "1  TEGSM76438944   12     921     2  False         203.00       24.08  XR001   \n",
       "2  TEGSM76438944   12     320     2  False         203.00       24.08  XR001   \n",
       "3  TEGSM76757665  102     320     2  False          38.93       29.59  Other   \n",
       "4  TEGSM78301736  203     350     1  False         398.00        0.00  Other   \n",
       "\n",
       "   Amount_Due  AR_Dollar_threshold  AR_Percentage  AR_Exist  \n",
       "0       70.38                False       1.000000      True  \n",
       "1        6.01                False       0.029606      True  \n",
       "2        6.01                False       0.029606      True  \n",
       "3        5.22                False       0.134087      True  \n",
       "4      398.00                 True       1.000000      True  "
      ]
     },
     "execution_count": 19,
     "metadata": {},
     "output_type": "execute_result"
    }
   ],
   "source": [
    "account_details_labels.head(5)"
   ]
  },
  {
   "cell_type": "code",
   "execution_count": 22,
   "id": "033e0a99",
   "metadata": {},
   "outputs": [
    {
     "data": {
      "text/plain": [
       "300    4452\n",
       "636    4249\n",
       "480    1816\n",
       "278    1104\n",
       "943    1087\n",
       "272     949\n",
       "250     787\n",
       "370     738\n",
       "637     724\n",
       "730     571\n",
       "320     319\n",
       "710     290\n",
       "402     242\n",
       "350     173\n",
       "482     137\n",
       "360     117\n",
       "260      95\n",
       "921      87\n",
       "343      82\n",
       "341      79\n",
       "610      42\n",
       "731      36\n",
       "403      34\n",
       "410      22\n",
       "460      10\n",
       "740       9\n",
       "419       9\n",
       "420       8\n",
       "258       8\n",
       "510       6\n",
       "750       5\n",
       "430       4\n",
       "440       4\n",
       "424       2\n",
       "615       2\n",
       "450       2\n",
       "310       1\n",
       "771       1\n",
       "401       1\n",
       "444       1\n",
       "Name: REV_CD, dtype: int64"
      ]
     },
     "execution_count": 22,
     "metadata": {},
     "output_type": "execute_result"
    }
   ],
   "source": [
    "account_details_labels['REV_CD'].value_counts()"
   ]
  },
  {
   "cell_type": "code",
   "execution_count": 23,
   "id": "07f08345",
   "metadata": {},
   "outputs": [
    {
     "data": {
      "text/plain": [
       "2    11451\n",
       "1     6854\n",
       "Name: Type, dtype: int64"
      ]
     },
     "execution_count": 23,
     "metadata": {},
     "output_type": "execute_result"
    }
   ],
   "source": [
    "account_details_labels['Type'].value_counts()"
   ]
  },
  {
   "cell_type": "code",
   "execution_count": 24,
   "id": "55352a4b",
   "metadata": {},
   "outputs": [
    {
     "data": {
      "text/plain": [
       "<AxesSubplot:ylabel='Type'>"
      ]
     },
     "execution_count": 24,
     "metadata": {},
     "output_type": "execute_result"
    },
    {
     "data": {
      "image/png": "[encoded data removed]",
      "text/plain": [
       "<Figure size 432x288 with 1 Axes>"
      ]
     },
     "metadata": {},
     "output_type": "display_data"
    }
   ],
   "source": [
    "account_details_labels['Type'].value_counts().plot.pie()"
   ]
  },
  {
   "cell_type": "code",
   "execution_count": 25,
   "id": "6da0c7f2",
   "metadata": {},
   "outputs": [
    {
     "data": {
      "text/plain": [
       "<AxesSubplot:ylabel='imt'>"
      ]
     },
     "execution_count": 25,
     "metadata": {},
     "output_type": "execute_result"
    },
    {
     "data": {
      "image/png": "[encoded data removed]",
      "text/plain": [
       "<Figure size 432x288 with 1 Axes>"
      ]
     },
     "metadata": {},
     "output_type": "display_data"
    }
   ],
   "source": [
    "account_details_labels['imt'].value_counts().plot.pie()"
   ]
  },
  {
   "cell_type": "code",
   "execution_count": 27,
   "id": "1a755500",
   "metadata": {},
   "outputs": [
    {
     "data": {
      "image/png": "[encoded data removed]",
      "text/plain": [
       "<Figure size 432x288 with 2 Axes>"
      ]
     },
     "metadata": {
      "needs_background": "light"
     },
     "output_type": "display_data"
    }
   ],
   "source": [
    "sns.heatmap(account_details_labels.corr(),cmap=\"YlGnBu\",annot = True)\n",
    "plt.show()"
   ]
  },
  {
   "cell_type": "code",
   "execution_count": 34,
   "id": "b085849a",
   "metadata": {},
   "outputs": [
    {
     "data": {
      "image/png": "[encoded data removed]",
      "text/plain": [
       "<Figure size 360x180 with 2 Axes>"
      ]
     },
     "metadata": {
      "needs_background": "light"
     },
     "output_type": "display_data"
    }
   ],
   "source": [
    "sns.pairplot(account_details_labels, x_vars=['Amount_Due','AR_Percentage'], y_vars='Code',kind='scatter')\n",
    "plt.show()"
   ]
  },
  {
   "cell_type": "code",
   "execution_count": 35,
   "id": "b9882cbc",
   "metadata": {},
   "outputs": [
    {
     "data": {
      "text/plain": [
       "<AxesSubplot:xlabel='Expect_Amount'>"
      ]
     },
     "execution_count": 35,
     "metadata": {},
     "output_type": "execute_result"
    },
    {
     "data": {
      "image/png": "[encoded data removed]",
      "text/plain": [
       "<Figure size 432x288 with 1 Axes>"
      ]
     },
     "metadata": {
      "needs_background": "light"
     },
     "output_type": "display_data"
    }
   ],
   "source": [
    "sns.boxplot(account_details_labels['Expect_Amount'])"
   ]
  },
  {
   "cell_type": "code",
   "execution_count": 36,
   "id": "787d4a54",
   "metadata": {},
   "outputs": [
    {
     "data": {
      "text/plain": [
       "<AxesSubplot:xlabel='TotPayment'>"
      ]
     },
     "execution_count": 36,
     "metadata": {},
     "output_type": "execute_result"
    },
    {
     "data": {
      "image/png": "[encoded data removed]",
      "text/plain": [
       "<Figure size 432x288 with 1 Axes>"
      ]
     },
     "metadata": {
      "needs_background": "light"
     },
     "output_type": "display_data"
    }
   ],
   "source": [
    "sns.boxplot(account_details_labels['TotPayment'])"
   ]
  },
  {
   "cell_type": "code",
   "execution_count": 37,
   "id": "0b7cb285",
   "metadata": {},
   "outputs": [
    {
     "data": {
      "text/plain": [
       "<AxesSubplot:xlabel='REV_CD'>"
      ]
     },
     "execution_count": 37,
     "metadata": {},
     "output_type": "execute_result"
    },
    {
     "data": {
      "image/png": "[encoded data removed]",
      "text/plain": [
       "<Figure size 432x288 with 1 Axes>"
      ]
     },
     "metadata": {
      "needs_background": "light"
     },
     "output_type": "display_data"
    }
   ],
   "source": [
    "sns.boxplot(account_details_labels['REV_CD'])"
   ]
  },
  {
   "cell_type": "code",
   "execution_count": 38,
   "id": "137e17c5",
   "metadata": {},
   "outputs": [
    {
     "data": {
      "text/plain": [
       "0.00        8565\n",
       "11738.72      56\n",
       "16819.21      54\n",
       "22387.25      53\n",
       "9638.47       53\n",
       "            ... \n",
       "175.00         1\n",
       "15.16          1\n",
       "1064.96        1\n",
       "760.00         1\n",
       "70.38          1\n",
       "Name: Amount_Due, Length: 468, dtype: int64"
      ]
     },
     "execution_count": 38,
     "metadata": {},
     "output_type": "execute_result"
    }
   ],
   "source": [
    "account_details_labels['Amount_Due'].value_counts()"
   ]
  },
  {
   "cell_type": "markdown",
   "id": "4363e0e8",
   "metadata": {},
   "source": [
    "#### Deleting amount_due is equal to 0... Because of No due."
   ]
  },
  {
   "cell_type": "code",
   "execution_count": 39,
   "id": "e8cb494b",
   "metadata": {
    "scrolled": true
   },
   "outputs": [
    {
     "data": {
      "text/html": [
       "<div>\n",
       "<style scoped>\n",
       "    .dataframe tbody tr th:only-of-type {\n",
       "        vertical-align: middle;\n",
       "    }\n",
       "\n",
       "    .dataframe tbody tr th {\n",
       "        vertical-align: top;\n",
       "    }\n",
       "\n",
       "    .dataframe thead th {\n",
       "        text-align: right;\n",
       "    }\n",
       "</style>\n",
       "<table border=\"1\" class=\"dataframe\">\n",
       "  <thead>\n",
       "    <tr style=\"text-align: right;\">\n",
       "      <th></th>\n",
       "      <th>ID</th>\n",
       "      <th>MM</th>\n",
       "      <th>REV_CD</th>\n",
       "      <th>Type</th>\n",
       "      <th>imt</th>\n",
       "      <th>Expect_Amount</th>\n",
       "      <th>TotPayment</th>\n",
       "      <th>Code</th>\n",
       "      <th>Amount_Due</th>\n",
       "      <th>AR_Dollar_threshold</th>\n",
       "      <th>AR_Percentage</th>\n",
       "      <th>AR_Exist</th>\n",
       "    </tr>\n",
       "  </thead>\n",
       "  <tbody>\n",
       "    <tr>\n",
       "      <th>0</th>\n",
       "      <td>TEDEL21429317</td>\n",
       "      <td>202</td>\n",
       "      <td>943</td>\n",
       "      <td>2</td>\n",
       "      <td>False</td>\n",
       "      <td>70.38</td>\n",
       "      <td>0.00</td>\n",
       "      <td>Other</td>\n",
       "      <td>70.38</td>\n",
       "      <td>False</td>\n",
       "      <td>1.000000</td>\n",
       "      <td>True</td>\n",
       "    </tr>\n",
       "    <tr>\n",
       "      <th>1</th>\n",
       "      <td>TEGSM76438944</td>\n",
       "      <td>12</td>\n",
       "      <td>921</td>\n",
       "      <td>2</td>\n",
       "      <td>False</td>\n",
       "      <td>203.00</td>\n",
       "      <td>24.08</td>\n",
       "      <td>XR001</td>\n",
       "      <td>6.01</td>\n",
       "      <td>False</td>\n",
       "      <td>0.029606</td>\n",
       "      <td>True</td>\n",
       "    </tr>\n",
       "    <tr>\n",
       "      <th>2</th>\n",
       "      <td>TEGSM76438944</td>\n",
       "      <td>12</td>\n",
       "      <td>320</td>\n",
       "      <td>2</td>\n",
       "      <td>False</td>\n",
       "      <td>203.00</td>\n",
       "      <td>24.08</td>\n",
       "      <td>XR001</td>\n",
       "      <td>6.01</td>\n",
       "      <td>False</td>\n",
       "      <td>0.029606</td>\n",
       "      <td>True</td>\n",
       "    </tr>\n",
       "    <tr>\n",
       "      <th>3</th>\n",
       "      <td>TEGSM76757665</td>\n",
       "      <td>102</td>\n",
       "      <td>320</td>\n",
       "      <td>2</td>\n",
       "      <td>False</td>\n",
       "      <td>38.93</td>\n",
       "      <td>29.59</td>\n",
       "      <td>Other</td>\n",
       "      <td>5.22</td>\n",
       "      <td>False</td>\n",
       "      <td>0.134087</td>\n",
       "      <td>True</td>\n",
       "    </tr>\n",
       "    <tr>\n",
       "      <th>4</th>\n",
       "      <td>TEGSM78301736</td>\n",
       "      <td>203</td>\n",
       "      <td>350</td>\n",
       "      <td>1</td>\n",
       "      <td>False</td>\n",
       "      <td>398.00</td>\n",
       "      <td>0.00</td>\n",
       "      <td>Other</td>\n",
       "      <td>398.00</td>\n",
       "      <td>True</td>\n",
       "      <td>1.000000</td>\n",
       "      <td>True</td>\n",
       "    </tr>\n",
       "    <tr>\n",
       "      <th>5</th>\n",
       "      <td>TEGSM78301736</td>\n",
       "      <td>203</td>\n",
       "      <td>636</td>\n",
       "      <td>1</td>\n",
       "      <td>False</td>\n",
       "      <td>398.00</td>\n",
       "      <td>0.00</td>\n",
       "      <td>Other</td>\n",
       "      <td>398.00</td>\n",
       "      <td>True</td>\n",
       "      <td>1.000000</td>\n",
       "      <td>True</td>\n",
       "    </tr>\n",
       "    <tr>\n",
       "      <th>6</th>\n",
       "      <td>TEGSM78301736</td>\n",
       "      <td>203</td>\n",
       "      <td>636</td>\n",
       "      <td>1</td>\n",
       "      <td>False</td>\n",
       "      <td>398.00</td>\n",
       "      <td>0.00</td>\n",
       "      <td>Other</td>\n",
       "      <td>398.00</td>\n",
       "      <td>True</td>\n",
       "      <td>1.000000</td>\n",
       "      <td>True</td>\n",
       "    </tr>\n",
       "    <tr>\n",
       "      <th>7</th>\n",
       "      <td>TEGSM78328200</td>\n",
       "      <td>203</td>\n",
       "      <td>636</td>\n",
       "      <td>2</td>\n",
       "      <td>False</td>\n",
       "      <td>1342.00</td>\n",
       "      <td>885.68</td>\n",
       "      <td>Other</td>\n",
       "      <td>1342.00</td>\n",
       "      <td>True</td>\n",
       "      <td>1.000000</td>\n",
       "      <td>True</td>\n",
       "    </tr>\n",
       "    <tr>\n",
       "      <th>8</th>\n",
       "      <td>TEGSM78328200</td>\n",
       "      <td>203</td>\n",
       "      <td>341</td>\n",
       "      <td>2</td>\n",
       "      <td>False</td>\n",
       "      <td>1342.00</td>\n",
       "      <td>885.68</td>\n",
       "      <td>Other</td>\n",
       "      <td>1342.00</td>\n",
       "      <td>True</td>\n",
       "      <td>1.000000</td>\n",
       "      <td>True</td>\n",
       "    </tr>\n",
       "    <tr>\n",
       "      <th>9</th>\n",
       "      <td>TEGSM78328200</td>\n",
       "      <td>203</td>\n",
       "      <td>343</td>\n",
       "      <td>2</td>\n",
       "      <td>False</td>\n",
       "      <td>1342.00</td>\n",
       "      <td>885.68</td>\n",
       "      <td>Other</td>\n",
       "      <td>1342.00</td>\n",
       "      <td>True</td>\n",
       "      <td>1.000000</td>\n",
       "      <td>True</td>\n",
       "    </tr>\n",
       "  </tbody>\n",
       "</table>\n",
       "</div>"
      ],
      "text/plain": [
       "              ID   MM  REV_CD  Type    imt  Expect_Amount  TotPayment   Code  \\\n",
       "0  TEDEL21429317  202     943     2  False          70.38        0.00  Other   \n",
       "1  TEGSM76438944   12     921     2  False         203.00       24.08  XR001   \n",
       "2  TEGSM76438944   12     320     2  False         203.00       24.08  XR001   \n",
       "3  TEGSM76757665  102     320     2  False          38.93       29.59  Other   \n",
       "4  TEGSM78301736  203     350     1  False         398.00        0.00  Other   \n",
       "5  TEGSM78301736  203     636     1  False         398.00        0.00  Other   \n",
       "6  TEGSM78301736  203     636     1  False         398.00        0.00  Other   \n",
       "7  TEGSM78328200  203     636     2  False        1342.00      885.68  Other   \n",
       "8  TEGSM78328200  203     341     2  False        1342.00      885.68  Other   \n",
       "9  TEGSM78328200  203     343     2  False        1342.00      885.68  Other   \n",
       "\n",
       "   Amount_Due  AR_Dollar_threshold  AR_Percentage  AR_Exist  \n",
       "0       70.38                False       1.000000      True  \n",
       "1        6.01                False       0.029606      True  \n",
       "2        6.01                False       0.029606      True  \n",
       "3        5.22                False       0.134087      True  \n",
       "4      398.00                 True       1.000000      True  \n",
       "5      398.00                 True       1.000000      True  \n",
       "6      398.00                 True       1.000000      True  \n",
       "7     1342.00                 True       1.000000      True  \n",
       "8     1342.00                 True       1.000000      True  \n",
       "9     1342.00                 True       1.000000      True  "
      ]
     },
     "execution_count": 39,
     "metadata": {},
     "output_type": "execute_result"
    }
   ],
   "source": [
    "account_details_labels = account_details_labels.loc[~((account_details_labels['Amount_Due'] == 0) | (account_details_labels['Amount_Due'] == 0))]\n",
    "account_details_labels.head(10)"
   ]
  },
  {
   "cell_type": "code",
   "execution_count": 40,
   "id": "1e067d3e",
   "metadata": {},
   "outputs": [
    {
     "data": {
      "text/plain": [
       "(9740, 12)"
      ]
     },
     "execution_count": 40,
     "metadata": {},
     "output_type": "execute_result"
    }
   ],
   "source": [
    "account_details_labels.shape"
   ]
  },
  {
   "cell_type": "code",
   "execution_count": 41,
   "id": "618e558d",
   "metadata": {},
   "outputs": [
    {
     "data": {
      "text/plain": [
       "True     9537\n",
       "False     203\n",
       "Name: AR_Exist, dtype: int64"
      ]
     },
     "execution_count": 41,
     "metadata": {},
     "output_type": "execute_result"
    }
   ],
   "source": [
    "account_details_labels['AR_Exist'].value_counts()"
   ]
  },
  {
   "cell_type": "code",
   "execution_count": 46,
   "id": "023206a4",
   "metadata": {},
   "outputs": [
    {
     "data": {
      "text/plain": [
       "<AxesSubplot:>"
      ]
     },
     "execution_count": 46,
     "metadata": {},
     "output_type": "execute_result"
    },
    {
     "data": {
      "image/png": "[encoded data removed]",
      "text/plain": [
       "<Figure size 432x288 with 1 Axes>"
      ]
     },
     "metadata": {
      "needs_background": "light"
     },
     "output_type": "display_data"
    }
   ],
   "source": [
    "account_details_labels['AR_Exist'].value_counts().plot.barh()"
   ]
  },
  {
   "cell_type": "code",
   "execution_count": 47,
   "id": "0a5ae0cb",
   "metadata": {},
   "outputs": [
    {
     "data": {
      "text/plain": [
       "<AxesSubplot:xlabel='AR_Percentage', ylabel='Density'>"
      ]
     },
     "execution_count": 47,
     "metadata": {},
     "output_type": "execute_result"
    },
    {
     "data": {
      "image/png": "[encoded data removed]",
      "text/plain": [
       "<Figure size 432x288 with 1 Axes>"
      ]
     },
     "metadata": {
      "needs_background": "light"
     },
     "output_type": "display_data"
    }
   ],
   "source": [
    "sns.distplot(account_details_labels['AR_Percentage'])"
   ]
  },
  {
   "cell_type": "code",
   "execution_count": 50,
   "id": "0b4743a0",
   "metadata": {},
   "outputs": [
    {
     "data": {
      "text/plain": [
       "<AxesSubplot:xlabel='Amount_Due', ylabel='Density'>"
      ]
     },
     "execution_count": 50,
     "metadata": {},
     "output_type": "execute_result"
    },
    {
     "data": {
      "image/png": "[encoded data removed]",
      "text/plain": [
       "<Figure size 432x288 with 1 Axes>"
      ]
     },
     "metadata": {
      "needs_background": "light"
     },
     "output_type": "display_data"
    }
   ],
   "source": [
    "sns.distplot(account_details_labels['Amount_Due'])"
   ]
  },
  {
   "cell_type": "code",
   "execution_count": 51,
   "id": "7b1a78d3",
   "metadata": {},
   "outputs": [
    {
     "data": {
      "text/plain": [
       "MR080    4506\n",
       "Other    1435\n",
       "HR004     614\n",
       "MR076     310\n",
       "HR027     275\n",
       "BR049     228\n",
       "MR081     207\n",
       "HR006     187\n",
       "BR029     184\n",
       "MR103     166\n",
       "BR074     162\n",
       "MR098     152\n",
       "MR083     136\n",
       "MR036     123\n",
       "PR002     118\n",
       "HR014      85\n",
       "MR032      66\n",
       "XR001      55\n",
       "MR157      54\n",
       "XR020      52\n",
       "HR028      44\n",
       "XR006      44\n",
       "MR042      42\n",
       "MR021      42\n",
       "MR023      41\n",
       "BR078      40\n",
       "HR044      33\n",
       "BR042      31\n",
       "BR016      29\n",
       "BR014      29\n",
       "MR077      28\n",
       "BR048      27\n",
       "HR058      27\n",
       "BR070      26\n",
       "BR009      24\n",
       "PR021      23\n",
       "MR172      22\n",
       "MR094      20\n",
       "HR001      18\n",
       "MR029      18\n",
       "HR040       5\n",
       "HR068       4\n",
       "MR063       3\n",
       "PR001       2\n",
       "MR116       2\n",
       "BR001       1\n",
       "Name: Code, dtype: int64"
      ]
     },
     "execution_count": 51,
     "metadata": {},
     "output_type": "execute_result"
    }
   ],
   "source": [
    "account_details_labels['Code'].value_counts()"
   ]
  },
  {
   "cell_type": "code",
   "execution_count": 52,
   "id": "6a8353ed",
   "metadata": {},
   "outputs": [
    {
     "data": {
      "text/html": [
       "<div>\n",
       "<style scoped>\n",
       "    .dataframe tbody tr th:only-of-type {\n",
       "        vertical-align: middle;\n",
       "    }\n",
       "\n",
       "    .dataframe tbody tr th {\n",
       "        vertical-align: top;\n",
       "    }\n",
       "\n",
       "    .dataframe thead th {\n",
       "        text-align: right;\n",
       "    }\n",
       "</style>\n",
       "<table border=\"1\" class=\"dataframe\">\n",
       "  <thead>\n",
       "    <tr style=\"text-align: right;\">\n",
       "      <th></th>\n",
       "      <th>ID</th>\n",
       "      <th>TotPayment</th>\n",
       "    </tr>\n",
       "  </thead>\n",
       "  <tbody>\n",
       "    <tr>\n",
       "      <th>0</th>\n",
       "      <td>TEDEL19469808</td>\n",
       "      <td>516528.00</td>\n",
       "    </tr>\n",
       "    <tr>\n",
       "      <th>1</th>\n",
       "      <td>TEDEL19519236</td>\n",
       "      <td>762961.00</td>\n",
       "    </tr>\n",
       "    <tr>\n",
       "      <th>2</th>\n",
       "      <td>TEDEL19519953</td>\n",
       "      <td>250.00</td>\n",
       "    </tr>\n",
       "    <tr>\n",
       "      <th>3</th>\n",
       "      <td>TEDEL19545547</td>\n",
       "      <td>211496.88</td>\n",
       "    </tr>\n",
       "    <tr>\n",
       "      <th>4</th>\n",
       "      <td>TEDEL19575837</td>\n",
       "      <td>1000.00</td>\n",
       "    </tr>\n",
       "    <tr>\n",
       "      <th>...</th>\n",
       "      <td>...</td>\n",
       "      <td>...</td>\n",
       "    </tr>\n",
       "    <tr>\n",
       "      <th>472</th>\n",
       "      <td>TEWBO103624304</td>\n",
       "      <td>121.44</td>\n",
       "    </tr>\n",
       "    <tr>\n",
       "      <th>473</th>\n",
       "      <td>TEWBO103880483</td>\n",
       "      <td>0.00</td>\n",
       "    </tr>\n",
       "    <tr>\n",
       "      <th>474</th>\n",
       "      <td>TEWBO103938880</td>\n",
       "      <td>2506.18</td>\n",
       "    </tr>\n",
       "    <tr>\n",
       "      <th>475</th>\n",
       "      <td>TEWBO104106714</td>\n",
       "      <td>0.00</td>\n",
       "    </tr>\n",
       "    <tr>\n",
       "      <th>476</th>\n",
       "      <td>TEWBO104464998</td>\n",
       "      <td>0.00</td>\n",
       "    </tr>\n",
       "  </tbody>\n",
       "</table>\n",
       "<p>477 rows × 2 columns</p>\n",
       "</div>"
      ],
      "text/plain": [
       "                 ID  TotPayment\n",
       "0     TEDEL19469808   516528.00\n",
       "1     TEDEL19519236   762961.00\n",
       "2     TEDEL19519953      250.00\n",
       "3     TEDEL19545547   211496.88\n",
       "4     TEDEL19575837     1000.00\n",
       "..              ...         ...\n",
       "472  TEWBO103624304      121.44\n",
       "473  TEWBO103880483        0.00\n",
       "474  TEWBO103938880     2506.18\n",
       "475  TEWBO104106714        0.00\n",
       "476  TEWBO104464998        0.00\n",
       "\n",
       "[477 rows x 2 columns]"
      ]
     },
     "execution_count": 52,
     "metadata": {},
     "output_type": "execute_result"
    }
   ],
   "source": [
    "grouped_df = account_details_labels.groupby('ID')['TotPayment'].sum()\n",
    "grouped_df = grouped_df.reset_index()\n",
    "grouped_df"
   ]
  },
  {
   "cell_type": "code",
   "execution_count": 53,
   "id": "5d409009",
   "metadata": {},
   "outputs": [
    {
     "data": {
      "text/html": [
       "<div>\n",
       "<style scoped>\n",
       "    .dataframe tbody tr th:only-of-type {\n",
       "        vertical-align: middle;\n",
       "    }\n",
       "\n",
       "    .dataframe tbody tr th {\n",
       "        vertical-align: top;\n",
       "    }\n",
       "\n",
       "    .dataframe thead th {\n",
       "        text-align: right;\n",
       "    }\n",
       "</style>\n",
       "<table border=\"1\" class=\"dataframe\">\n",
       "  <thead>\n",
       "    <tr style=\"text-align: right;\">\n",
       "      <th></th>\n",
       "      <th>ID</th>\n",
       "      <th>Amount_Due</th>\n",
       "    </tr>\n",
       "  </thead>\n",
       "  <tbody>\n",
       "    <tr>\n",
       "      <th>0</th>\n",
       "      <td>TEDEL19469808</td>\n",
       "      <td>135456.00</td>\n",
       "    </tr>\n",
       "    <tr>\n",
       "      <th>1</th>\n",
       "      <td>TEDEL19519236</td>\n",
       "      <td>125898.57</td>\n",
       "    </tr>\n",
       "    <tr>\n",
       "      <th>2</th>\n",
       "      <td>TEDEL19519953</td>\n",
       "      <td>5520.00</td>\n",
       "    </tr>\n",
       "    <tr>\n",
       "      <th>3</th>\n",
       "      <td>TEDEL19545547</td>\n",
       "      <td>20868.12</td>\n",
       "    </tr>\n",
       "    <tr>\n",
       "      <th>4</th>\n",
       "      <td>TEDEL19575837</td>\n",
       "      <td>1008.00</td>\n",
       "    </tr>\n",
       "    <tr>\n",
       "      <th>...</th>\n",
       "      <td>...</td>\n",
       "      <td>...</td>\n",
       "    </tr>\n",
       "    <tr>\n",
       "      <th>472</th>\n",
       "      <td>TEWBO103624304</td>\n",
       "      <td>70.56</td>\n",
       "    </tr>\n",
       "    <tr>\n",
       "      <th>473</th>\n",
       "      <td>TEWBO103880483</td>\n",
       "      <td>2220.00</td>\n",
       "    </tr>\n",
       "    <tr>\n",
       "      <th>474</th>\n",
       "      <td>TEWBO103938880</td>\n",
       "      <td>1064.96</td>\n",
       "    </tr>\n",
       "    <tr>\n",
       "      <th>475</th>\n",
       "      <td>TEWBO104106714</td>\n",
       "      <td>85.56</td>\n",
       "    </tr>\n",
       "    <tr>\n",
       "      <th>476</th>\n",
       "      <td>TEWBO104464998</td>\n",
       "      <td>4453.00</td>\n",
       "    </tr>\n",
       "  </tbody>\n",
       "</table>\n",
       "<p>477 rows × 2 columns</p>\n",
       "</div>"
      ],
      "text/plain": [
       "                 ID  Amount_Due\n",
       "0     TEDEL19469808   135456.00\n",
       "1     TEDEL19519236   125898.57\n",
       "2     TEDEL19519953     5520.00\n",
       "3     TEDEL19545547    20868.12\n",
       "4     TEDEL19575837     1008.00\n",
       "..              ...         ...\n",
       "472  TEWBO103624304       70.56\n",
       "473  TEWBO103880483     2220.00\n",
       "474  TEWBO103938880     1064.96\n",
       "475  TEWBO104106714       85.56\n",
       "476  TEWBO104464998     4453.00\n",
       "\n",
       "[477 rows x 2 columns]"
      ]
     },
     "execution_count": 53,
     "metadata": {},
     "output_type": "execute_result"
    }
   ],
   "source": [
    "grouped_df1 = account_details_labels.groupby('ID')['Amount_Due'].sum()\n",
    "grouped_df1 = grouped_df1.reset_index()\n",
    "grouped_df1"
   ]
  },
  {
   "cell_type": "code",
   "execution_count": 54,
   "id": "e770c8de",
   "metadata": {},
   "outputs": [
    {
     "data": {
      "text/html": [
       "<div>\n",
       "<style scoped>\n",
       "    .dataframe tbody tr th:only-of-type {\n",
       "        vertical-align: middle;\n",
       "    }\n",
       "\n",
       "    .dataframe tbody tr th {\n",
       "        vertical-align: top;\n",
       "    }\n",
       "\n",
       "    .dataframe thead th {\n",
       "        text-align: right;\n",
       "    }\n",
       "</style>\n",
       "<table border=\"1\" class=\"dataframe\">\n",
       "  <thead>\n",
       "    <tr style=\"text-align: right;\">\n",
       "      <th></th>\n",
       "      <th>ID</th>\n",
       "      <th>TotPayment</th>\n",
       "      <th>Amount_Due</th>\n",
       "    </tr>\n",
       "  </thead>\n",
       "  <tbody>\n",
       "    <tr>\n",
       "      <th>0</th>\n",
       "      <td>TEDEL19469808</td>\n",
       "      <td>516528.00</td>\n",
       "      <td>135456.00</td>\n",
       "    </tr>\n",
       "    <tr>\n",
       "      <th>1</th>\n",
       "      <td>TEDEL19519236</td>\n",
       "      <td>762961.00</td>\n",
       "      <td>125898.57</td>\n",
       "    </tr>\n",
       "    <tr>\n",
       "      <th>2</th>\n",
       "      <td>TEDEL19519953</td>\n",
       "      <td>250.00</td>\n",
       "      <td>5520.00</td>\n",
       "    </tr>\n",
       "    <tr>\n",
       "      <th>3</th>\n",
       "      <td>TEDEL19545547</td>\n",
       "      <td>211496.88</td>\n",
       "      <td>20868.12</td>\n",
       "    </tr>\n",
       "    <tr>\n",
       "      <th>4</th>\n",
       "      <td>TEDEL19575837</td>\n",
       "      <td>1000.00</td>\n",
       "      <td>1008.00</td>\n",
       "    </tr>\n",
       "  </tbody>\n",
       "</table>\n",
       "</div>"
      ],
      "text/plain": [
       "              ID  TotPayment  Amount_Due\n",
       "0  TEDEL19469808   516528.00   135456.00\n",
       "1  TEDEL19519236   762961.00   125898.57\n",
       "2  TEDEL19519953      250.00     5520.00\n",
       "3  TEDEL19545547   211496.88    20868.12\n",
       "4  TEDEL19575837     1000.00     1008.00"
      ]
     },
     "execution_count": 54,
     "metadata": {},
     "output_type": "execute_result"
    }
   ],
   "source": [
    "grouped_df = pd.merge(grouped_df, grouped_df1, on='ID', how='inner')\n",
    "grouped_df.head()"
   ]
  },
  {
   "cell_type": "code",
   "execution_count": 55,
   "id": "12585a9e",
   "metadata": {},
   "outputs": [
    {
     "data": {
      "text/html": [
       "<div>\n",
       "<style scoped>\n",
       "    .dataframe tbody tr th:only-of-type {\n",
       "        vertical-align: middle;\n",
       "    }\n",
       "\n",
       "    .dataframe tbody tr th {\n",
       "        vertical-align: top;\n",
       "    }\n",
       "\n",
       "    .dataframe thead th {\n",
       "        text-align: right;\n",
       "    }\n",
       "</style>\n",
       "<table border=\"1\" class=\"dataframe\">\n",
       "  <thead>\n",
       "    <tr style=\"text-align: right;\">\n",
       "      <th></th>\n",
       "      <th>ID</th>\n",
       "      <th>AR_Percentage</th>\n",
       "    </tr>\n",
       "  </thead>\n",
       "  <tbody>\n",
       "    <tr>\n",
       "      <th>0</th>\n",
       "      <td>TEDEL19469808</td>\n",
       "      <td>24</td>\n",
       "    </tr>\n",
       "    <tr>\n",
       "      <th>1</th>\n",
       "      <td>TEDEL19519236</td>\n",
       "      <td>29</td>\n",
       "    </tr>\n",
       "    <tr>\n",
       "      <th>2</th>\n",
       "      <td>TEDEL19519953</td>\n",
       "      <td>5</td>\n",
       "    </tr>\n",
       "    <tr>\n",
       "      <th>3</th>\n",
       "      <td>TEDEL19545547</td>\n",
       "      <td>21</td>\n",
       "    </tr>\n",
       "    <tr>\n",
       "      <th>4</th>\n",
       "      <td>TEDEL19575837</td>\n",
       "      <td>2</td>\n",
       "    </tr>\n",
       "    <tr>\n",
       "      <th>...</th>\n",
       "      <td>...</td>\n",
       "      <td>...</td>\n",
       "    </tr>\n",
       "    <tr>\n",
       "      <th>472</th>\n",
       "      <td>TEWBO103624304</td>\n",
       "      <td>1</td>\n",
       "    </tr>\n",
       "    <tr>\n",
       "      <th>473</th>\n",
       "      <td>TEWBO103880483</td>\n",
       "      <td>6</td>\n",
       "    </tr>\n",
       "    <tr>\n",
       "      <th>474</th>\n",
       "      <td>TEWBO103938880</td>\n",
       "      <td>1</td>\n",
       "    </tr>\n",
       "    <tr>\n",
       "      <th>475</th>\n",
       "      <td>TEWBO104106714</td>\n",
       "      <td>2</td>\n",
       "    </tr>\n",
       "    <tr>\n",
       "      <th>476</th>\n",
       "      <td>TEWBO104464998</td>\n",
       "      <td>1</td>\n",
       "    </tr>\n",
       "  </tbody>\n",
       "</table>\n",
       "<p>477 rows × 2 columns</p>\n",
       "</div>"
      ],
      "text/plain": [
       "                 ID  AR_Percentage\n",
       "0     TEDEL19469808             24\n",
       "1     TEDEL19519236             29\n",
       "2     TEDEL19519953              5\n",
       "3     TEDEL19545547             21\n",
       "4     TEDEL19575837              2\n",
       "..              ...            ...\n",
       "472  TEWBO103624304              1\n",
       "473  TEWBO103880483              6\n",
       "474  TEWBO103938880              1\n",
       "475  TEWBO104106714              2\n",
       "476  TEWBO104464998              1\n",
       "\n",
       "[477 rows x 2 columns]"
      ]
     },
     "execution_count": 55,
     "metadata": {},
     "output_type": "execute_result"
    }
   ],
   "source": [
    "frequency = account_details_labels.groupby('ID')['AR_Percentage'].count()\n",
    "frequency = frequency.reset_index()\n",
    "frequency"
   ]
  },
  {
   "cell_type": "code",
   "execution_count": 56,
   "id": "a354a191",
   "metadata": {},
   "outputs": [
    {
     "data": {
      "text/html": [
       "<div>\n",
       "<style scoped>\n",
       "    .dataframe tbody tr th:only-of-type {\n",
       "        vertical-align: middle;\n",
       "    }\n",
       "\n",
       "    .dataframe tbody tr th {\n",
       "        vertical-align: top;\n",
       "    }\n",
       "\n",
       "    .dataframe thead th {\n",
       "        text-align: right;\n",
       "    }\n",
       "</style>\n",
       "<table border=\"1\" class=\"dataframe\">\n",
       "  <thead>\n",
       "    <tr style=\"text-align: right;\">\n",
       "      <th></th>\n",
       "      <th>ID</th>\n",
       "      <th>TotPayment</th>\n",
       "      <th>Amount_Due</th>\n",
       "      <th>AR_Percentage</th>\n",
       "    </tr>\n",
       "  </thead>\n",
       "  <tbody>\n",
       "    <tr>\n",
       "      <th>0</th>\n",
       "      <td>TEDEL19469808</td>\n",
       "      <td>516528.00</td>\n",
       "      <td>135456.00</td>\n",
       "      <td>24</td>\n",
       "    </tr>\n",
       "    <tr>\n",
       "      <th>1</th>\n",
       "      <td>TEDEL19519236</td>\n",
       "      <td>762961.00</td>\n",
       "      <td>125898.57</td>\n",
       "      <td>29</td>\n",
       "    </tr>\n",
       "    <tr>\n",
       "      <th>2</th>\n",
       "      <td>TEDEL19519953</td>\n",
       "      <td>250.00</td>\n",
       "      <td>5520.00</td>\n",
       "      <td>5</td>\n",
       "    </tr>\n",
       "    <tr>\n",
       "      <th>3</th>\n",
       "      <td>TEDEL19545547</td>\n",
       "      <td>211496.88</td>\n",
       "      <td>20868.12</td>\n",
       "      <td>21</td>\n",
       "    </tr>\n",
       "    <tr>\n",
       "      <th>4</th>\n",
       "      <td>TEDEL19575837</td>\n",
       "      <td>1000.00</td>\n",
       "      <td>1008.00</td>\n",
       "      <td>2</td>\n",
       "    </tr>\n",
       "  </tbody>\n",
       "</table>\n",
       "</div>"
      ],
      "text/plain": [
       "              ID  TotPayment  Amount_Due  AR_Percentage\n",
       "0  TEDEL19469808   516528.00   135456.00             24\n",
       "1  TEDEL19519236   762961.00   125898.57             29\n",
       "2  TEDEL19519953      250.00     5520.00              5\n",
       "3  TEDEL19545547   211496.88    20868.12             21\n",
       "4  TEDEL19575837     1000.00     1008.00              2"
      ]
     },
     "execution_count": 56,
     "metadata": {},
     "output_type": "execute_result"
    }
   ],
   "source": [
    "grouped_df = pd.merge(grouped_df, frequency, on='ID', how='inner')\n",
    "grouped_df.columns = ['ID', 'TotPayment', 'Amount_Due', 'AR_Percentage']\n",
    "grouped_df.head()"
   ]
  },
  {
   "cell_type": "code",
   "execution_count": 57,
   "id": "6ecea5fc",
   "metadata": {},
   "outputs": [
    {
     "data": {
      "text/plain": [
       "9740"
      ]
     },
     "execution_count": 57,
     "metadata": {},
     "output_type": "execute_result"
    }
   ],
   "source": [
    "grouped_df['AR_Percentage'].sum()"
   ]
  },
  {
   "cell_type": "code",
   "execution_count": 58,
   "id": "6b2a60bd",
   "metadata": {},
   "outputs": [
    {
     "data": {
      "text/plain": [
       "{'whiskers': [<matplotlib.lines.Line2D at 0x28f86ee3100>,\n",
       "  <matplotlib.lines.Line2D at 0x28f86ee33d0>],\n",
       " 'caps': [<matplotlib.lines.Line2D at 0x28f86ee36a0>,\n",
       "  <matplotlib.lines.Line2D at 0x28f86ee3970>],\n",
       " 'boxes': [<matplotlib.lines.Line2D at 0x28f86ed6df0>],\n",
       " 'medians': [<matplotlib.lines.Line2D at 0x28f86ee3bb0>],\n",
       " 'fliers': [<matplotlib.lines.Line2D at 0x28f86ee3e80>],\n",
       " 'means': []}"
      ]
     },
     "execution_count": 58,
     "metadata": {},
     "output_type": "execute_result"
    },
    {
     "data": {
      "image/png": "[encoded data removed]",
      "text/plain": [
       "<Figure size 432x288 with 1 Axes>"
      ]
     },
     "metadata": {
      "needs_background": "light"
     },
     "output_type": "display_data"
    }
   ],
   "source": [
    "# 1. outlier treatment\n",
    "plt.boxplot(grouped_df['AR_Percentage'])"
   ]
  },
  {
   "cell_type": "code",
   "execution_count": 61,
   "id": "11be2fb7",
   "metadata": {},
   "outputs": [],
   "source": [
    "# 1. removing (statistical) outliers"
   ]
  },
  {
   "cell_type": "code",
   "execution_count": 62,
   "id": "f7d06146",
   "metadata": {},
   "outputs": [],
   "source": [
    "Q1 = grouped_df.TotPayment.quantile(0.05)\n",
    "Q3 = grouped_df.TotPayment.quantile(0.95)\n",
    "IQR = Q3 - Q1\n",
    "grouped_df = grouped_df[(grouped_df.TotPayment >= Q1 - 1.5*IQR) & (grouped_df.TotPayment <= Q3 + 1.5*IQR)]\n",
    "\n",
    "# outlier treatment for Amount_Due\n",
    "Q1 = grouped_df.Amount_Due.quantile(0.05)\n",
    "Q3 = grouped_df.Amount_Due.quantile(0.95)\n",
    "IQR = Q3 - Q1\n",
    "grouped_df = grouped_df[(grouped_df.Amount_Due >= Q1 - 1.5*IQR) & (grouped_df.Amount_Due <= Q3 + 1.5*IQR)]\n",
    "\n",
    "# outlier treatment for AR_Percentage\n",
    "Q1 = grouped_df.AR_Percentage.quantile(0.05)\n",
    "Q3 = grouped_df.AR_Percentage.quantile(0.95)\n",
    "IQR = Q3 - Q1\n",
    "grouped_df = grouped_df[(grouped_df.AR_Percentage >= Q1 - 1.5*IQR) & (grouped_df.AR_Percentage <= Q3 + 1.5*IQR)]"
   ]
  },
  {
   "cell_type": "code",
   "execution_count": 63,
   "id": "b36c3338",
   "metadata": {},
   "outputs": [
    {
     "data": {
      "text/plain": [
       "(472, 3)"
      ]
     },
     "execution_count": 63,
     "metadata": {},
     "output_type": "execute_result"
    }
   ],
   "source": [
    "# 2. rescaling\n",
    "rfm_df = grouped_df[['TotPayment', 'Amount_Due', 'AR_Percentage']]\n",
    "\n",
    "# instantiate\n",
    "scaler = StandardScaler()\n",
    "\n",
    "# fit_transform\n",
    "rfm_df_scaled = scaler.fit_transform(rfm_df)\n",
    "rfm_df_scaled.shape"
   ]
  },
  {
   "cell_type": "code",
   "execution_count": 64,
   "id": "05fa6ddf",
   "metadata": {},
   "outputs": [
    {
     "data": {
      "text/html": [
       "<div>\n",
       "<style scoped>\n",
       "    .dataframe tbody tr th:only-of-type {\n",
       "        vertical-align: middle;\n",
       "    }\n",
       "\n",
       "    .dataframe tbody tr th {\n",
       "        vertical-align: top;\n",
       "    }\n",
       "\n",
       "    .dataframe thead th {\n",
       "        text-align: right;\n",
       "    }\n",
       "</style>\n",
       "<table border=\"1\" class=\"dataframe\">\n",
       "  <thead>\n",
       "    <tr style=\"text-align: right;\">\n",
       "      <th></th>\n",
       "      <th>TotPayment</th>\n",
       "      <th>Amount_Due</th>\n",
       "      <th>AR_Percentage</th>\n",
       "    </tr>\n",
       "  </thead>\n",
       "  <tbody>\n",
       "    <tr>\n",
       "      <th>0</th>\n",
       "      <td>-0.001485</td>\n",
       "      <td>-0.192645</td>\n",
       "      <td>0.244128</td>\n",
       "    </tr>\n",
       "    <tr>\n",
       "      <th>1</th>\n",
       "      <td>0.365888</td>\n",
       "      <td>-0.222422</td>\n",
       "      <td>0.567985</td>\n",
       "    </tr>\n",
       "    <tr>\n",
       "      <th>2</th>\n",
       "      <td>-0.771134</td>\n",
       "      <td>-0.597472</td>\n",
       "      <td>-0.986529</td>\n",
       "    </tr>\n",
       "    <tr>\n",
       "      <th>3</th>\n",
       "      <td>-0.456215</td>\n",
       "      <td>-0.549653</td>\n",
       "      <td>0.049814</td>\n",
       "    </tr>\n",
       "    <tr>\n",
       "      <th>4</th>\n",
       "      <td>-0.770016</td>\n",
       "      <td>-0.611529</td>\n",
       "      <td>-1.180844</td>\n",
       "    </tr>\n",
       "  </tbody>\n",
       "</table>\n",
       "</div>"
      ],
      "text/plain": [
       "   TotPayment  Amount_Due  AR_Percentage\n",
       "0   -0.001485   -0.192645       0.244128\n",
       "1    0.365888   -0.222422       0.567985\n",
       "2   -0.771134   -0.597472      -0.986529\n",
       "3   -0.456215   -0.549653       0.049814\n",
       "4   -0.770016   -0.611529      -1.180844"
      ]
     },
     "execution_count": 64,
     "metadata": {},
     "output_type": "execute_result"
    }
   ],
   "source": [
    "rfm_df_scaled = pd.DataFrame(rfm_df_scaled)\n",
    "rfm_df_scaled.columns = ['TotPayment', 'Amount_Due', 'AR_Percentage']\n",
    "rfm_df_scaled.head()"
   ]
  },
  {
   "cell_type": "code",
   "execution_count": 65,
   "id": "0fe4888c",
   "metadata": {},
   "outputs": [
    {
     "data": {
      "text/plain": [
       "KMeans(max_iter=50, n_clusters=4)"
      ]
     },
     "execution_count": 65,
     "metadata": {},
     "output_type": "execute_result"
    }
   ],
   "source": [
    "# k-means with some arbitrary k\n",
    "kmeans = KMeans(n_clusters=4, max_iter=50)\n",
    "kmeans.fit(rfm_df_scaled)"
   ]
  },
  {
   "cell_type": "code",
   "execution_count": 66,
   "id": "a1463a41",
   "metadata": {},
   "outputs": [
    {
     "data": {
      "text/plain": [
       "array([0, 0, 2, 0, 2, 0, 2, 1, 2, 0, 0, 1, 1, 0, 2, 2, 1, 0, 0, 0, 1, 0,\n",
       "       0, 2, 1, 1, 1, 1, 0, 0, 0, 0, 0, 2, 1, 0, 2, 2, 2, 2, 0, 2, 1, 1,\n",
       "       0, 2, 1, 2, 0, 1, 2, 1, 1, 0, 0, 1, 1, 2, 1, 0, 0, 1, 1, 1, 1, 1,\n",
       "       1, 1, 0, 1, 0, 1, 1, 1, 1, 1, 1, 0, 0, 0, 0, 0, 0, 2, 2, 2, 2, 2,\n",
       "       3, 2, 3, 2, 2, 2, 2, 2, 2, 2, 0, 2, 2, 2, 2, 2, 2, 0, 2, 2, 2, 2,\n",
       "       2, 2, 0, 2, 2, 2, 2, 2, 2, 2, 2, 2, 2, 2, 0, 2, 2, 2, 2, 2, 2, 2,\n",
       "       2, 2, 2, 2, 2, 2, 2, 2, 2, 2, 2, 0, 2, 2, 2, 0, 2, 2, 2, 2, 2, 2,\n",
       "       2, 2, 2, 2, 0, 0, 2, 2, 2, 2, 2, 0, 2, 2, 2, 2, 0, 2, 2, 2, 2, 2,\n",
       "       2, 2, 2, 2, 2, 2, 2, 2, 2, 2, 2, 2, 0, 2, 2, 2, 0, 1, 1, 0, 0, 1,\n",
       "       1, 1, 0, 1, 1, 3, 1, 0, 1, 1, 0, 0, 0, 0, 1, 0, 0, 0, 0, 0, 1, 1,\n",
       "       0, 0, 1, 2, 0, 2, 0, 1, 0, 3, 0, 0, 1, 0, 1, 0, 1, 1, 0, 0, 0, 0,\n",
       "       0, 1, 2, 0, 0, 0, 0, 0, 0, 2, 0, 1, 0, 0, 1, 0, 1, 1, 3, 1, 1, 0,\n",
       "       1, 0, 2, 0, 2, 1, 3, 1, 0, 0, 1, 0, 1, 0, 3, 0, 1, 0, 0, 0, 0, 0,\n",
       "       1, 0, 0, 0, 2, 0, 2, 0, 3, 1, 2, 1, 1, 0, 1, 0, 0, 0, 1, 0, 0, 1,\n",
       "       1, 0, 0, 0, 0, 0, 1, 0, 0, 0, 0, 0, 2, 0, 0, 0, 0, 1, 1, 0, 1, 1,\n",
       "       1, 0, 3, 0, 1, 0, 1, 0, 0, 3, 1, 0, 1, 1, 0, 2, 0, 3, 0, 0, 0, 0,\n",
       "       1, 1, 1, 3, 0, 0, 0, 1, 1, 0, 2, 1, 0, 0, 2, 0, 1, 0, 1, 2, 0, 0,\n",
       "       0, 1, 0, 0, 2, 1, 0, 3, 1, 2, 1, 1, 1, 1, 2, 3, 1, 3, 0, 1, 0, 2,\n",
       "       2, 0, 0, 0, 1, 0, 2, 2, 2, 2, 2, 2, 0, 0, 2, 0, 0, 2, 0, 0, 0, 2,\n",
       "       0, 2, 0, 2, 2, 2, 2, 2, 3, 0, 2, 2, 2, 2, 3, 2, 2, 2, 0, 2, 2, 2,\n",
       "       2, 2, 2, 2, 0, 2, 2, 2, 2, 2, 2, 2, 2, 0, 2, 2, 2, 2, 2, 2, 2, 2,\n",
       "       2, 2, 0, 2, 2, 2, 2, 2, 2, 2])"
      ]
     },
     "execution_count": 66,
     "metadata": {},
     "output_type": "execute_result"
    }
   ],
   "source": [
    "kmeans.labels_"
   ]
  },
  {
   "cell_type": "markdown",
   "id": "e7f91e54",
   "metadata": {},
   "source": [
    "### Finding the Optimal Number of Clusters SSD"
   ]
  },
  {
   "cell_type": "code",
   "execution_count": 67,
   "id": "f6698aec",
   "metadata": {},
   "outputs": [
    {
     "data": {
      "text/plain": [
       "[<matplotlib.lines.Line2D at 0x28f86f495b0>]"
      ]
     },
     "execution_count": 67,
     "metadata": {},
     "output_type": "execute_result"
    },
    {
     "data": {
      "image/png": "[encoded data removed]",
      "text/plain": [
       "<Figure size 432x288 with 1 Axes>"
      ]
     },
     "metadata": {
      "needs_background": "light"
     },
     "output_type": "display_data"
    }
   ],
   "source": [
    "# elbow-curve/SSD\n",
    "ssd = []\n",
    "range_n_clusters = [2, 3, 4, 5, 6, 7, 8]\n",
    "for num_clusters in range_n_clusters:\n",
    "    kmeans = KMeans(n_clusters=num_clusters, max_iter=50)\n",
    "    kmeans.fit(rfm_df_scaled)\n",
    "    \n",
    "    ssd.append(kmeans.inertia_)\n",
    "    \n",
    "# plot the SSDs for each n_clusters\n",
    "# ssd\n",
    "plt.plot(ssd)"
   ]
  },
  {
   "cell_type": "code",
   "execution_count": 69,
   "id": "629adb80",
   "metadata": {},
   "outputs": [
    {
     "data": {
      "text/plain": [
       "KMeans(max_iter=50, n_clusters=3)"
      ]
     },
     "execution_count": 69,
     "metadata": {},
     "output_type": "execute_result"
    }
   ],
   "source": [
    "# final model with k=3\n",
    "kmeans = KMeans(n_clusters=3, max_iter=50)\n",
    "kmeans.fit(rfm_df_scaled)"
   ]
  },
  {
   "cell_type": "code",
   "execution_count": 70,
   "id": "71521310",
   "metadata": {},
   "outputs": [
    {
     "data": {
      "text/plain": [
       "array([2, 2, 0, 2, 0, 2, 0, 1, 0, 2, 2, 1, 1, 2, 0, 0, 1, 2, 2, 2, 1, 2,\n",
       "       2, 0, 1, 1, 1, 1, 2, 2, 2, 2, 2, 0, 1, 2, 0, 0, 0, 0, 2, 0, 1, 1,\n",
       "       2, 0, 2, 0, 2, 1, 0, 1, 1, 2, 2, 1, 1, 0, 1, 2, 2, 1, 1, 1, 2, 1,\n",
       "       1, 1, 2, 1, 2, 1, 1, 1, 1, 1, 1, 2, 2, 2, 2, 2, 2, 0, 0, 0, 0, 0,\n",
       "       1, 0, 1, 0, 0, 0, 0, 0, 0, 0, 2, 0, 0, 0, 0, 0, 0, 2, 0, 0, 0, 0,\n",
       "       0, 0, 2, 0, 0, 0, 0, 0, 0, 0, 0, 0, 0, 0, 2, 0, 0, 0, 0, 0, 0, 0,\n",
       "       0, 0, 0, 0, 0, 0, 0, 0, 0, 0, 0, 2, 0, 0, 0, 2, 0, 0, 0, 0, 0, 0,\n",
       "       0, 0, 0, 0, 2, 2, 0, 0, 0, 0, 0, 2, 0, 0, 0, 0, 2, 0, 0, 0, 0, 0,\n",
       "       0, 0, 0, 0, 0, 0, 0, 0, 0, 0, 0, 0, 2, 0, 0, 0, 2, 1, 1, 2, 2, 1,\n",
       "       1, 1, 2, 1, 1, 1, 1, 2, 1, 1, 2, 2, 2, 2, 1, 2, 2, 2, 2, 2, 1, 1,\n",
       "       2, 2, 1, 0, 2, 0, 2, 1, 2, 1, 2, 2, 1, 2, 1, 2, 1, 1, 2, 2, 2, 2,\n",
       "       1, 1, 0, 2, 2, 2, 2, 2, 2, 0, 2, 2, 2, 2, 1, 2, 1, 1, 1, 1, 1, 2,\n",
       "       1, 2, 0, 2, 0, 1, 1, 1, 2, 2, 1, 2, 1, 2, 1, 2, 1, 2, 2, 2, 2, 2,\n",
       "       1, 2, 2, 2, 0, 2, 0, 2, 1, 1, 0, 1, 1, 2, 1, 2, 2, 2, 1, 2, 2, 1,\n",
       "       1, 2, 2, 2, 2, 2, 1, 2, 2, 2, 2, 2, 0, 2, 2, 2, 2, 1, 1, 2, 1, 2,\n",
       "       1, 2, 1, 2, 1, 2, 1, 2, 2, 1, 1, 2, 1, 1, 2, 0, 2, 1, 2, 2, 2, 2,\n",
       "       1, 1, 1, 1, 2, 2, 2, 1, 1, 2, 0, 1, 2, 2, 0, 2, 1, 2, 1, 0, 2, 2,\n",
       "       2, 1, 2, 2, 0, 1, 2, 1, 1, 0, 1, 1, 1, 1, 0, 1, 1, 1, 0, 1, 2, 0,\n",
       "       0, 2, 2, 2, 1, 2, 0, 0, 0, 0, 0, 0, 2, 2, 0, 2, 2, 0, 2, 2, 2, 0,\n",
       "       2, 0, 2, 0, 0, 0, 0, 0, 1, 2, 0, 0, 0, 0, 1, 0, 0, 0, 2, 0, 0, 0,\n",
       "       0, 0, 0, 0, 2, 0, 0, 0, 0, 0, 0, 0, 0, 2, 0, 0, 0, 0, 0, 0, 0, 0,\n",
       "       0, 0, 2, 0, 0, 0, 0, 0, 0, 0])"
      ]
     },
     "execution_count": 70,
     "metadata": {},
     "output_type": "execute_result"
    }
   ],
   "source": [
    "kmeans.labels_"
   ]
  },
  {
   "cell_type": "code",
   "execution_count": 71,
   "id": "69c938cb",
   "metadata": {},
   "outputs": [
    {
     "data": {
      "text/html": [
       "<div>\n",
       "<style scoped>\n",
       "    .dataframe tbody tr th:only-of-type {\n",
       "        vertical-align: middle;\n",
       "    }\n",
       "\n",
       "    .dataframe tbody tr th {\n",
       "        vertical-align: top;\n",
       "    }\n",
       "\n",
       "    .dataframe thead th {\n",
       "        text-align: right;\n",
       "    }\n",
       "</style>\n",
       "<table border=\"1\" class=\"dataframe\">\n",
       "  <thead>\n",
       "    <tr style=\"text-align: right;\">\n",
       "      <th></th>\n",
       "      <th>ID</th>\n",
       "      <th>TotPayment</th>\n",
       "      <th>Amount_Due</th>\n",
       "      <th>AR_Percentage</th>\n",
       "      <th>cluster_id</th>\n",
       "    </tr>\n",
       "  </thead>\n",
       "  <tbody>\n",
       "    <tr>\n",
       "      <th>0</th>\n",
       "      <td>TEDEL19469808</td>\n",
       "      <td>516528.00</td>\n",
       "      <td>135456.00</td>\n",
       "      <td>24</td>\n",
       "      <td>2</td>\n",
       "    </tr>\n",
       "    <tr>\n",
       "      <th>1</th>\n",
       "      <td>TEDEL19519236</td>\n",
       "      <td>762961.00</td>\n",
       "      <td>125898.57</td>\n",
       "      <td>29</td>\n",
       "      <td>2</td>\n",
       "    </tr>\n",
       "    <tr>\n",
       "      <th>2</th>\n",
       "      <td>TEDEL19519953</td>\n",
       "      <td>250.00</td>\n",
       "      <td>5520.00</td>\n",
       "      <td>5</td>\n",
       "      <td>0</td>\n",
       "    </tr>\n",
       "    <tr>\n",
       "      <th>3</th>\n",
       "      <td>TEDEL19545547</td>\n",
       "      <td>211496.88</td>\n",
       "      <td>20868.12</td>\n",
       "      <td>21</td>\n",
       "      <td>2</td>\n",
       "    </tr>\n",
       "    <tr>\n",
       "      <th>4</th>\n",
       "      <td>TEDEL19575837</td>\n",
       "      <td>1000.00</td>\n",
       "      <td>1008.00</td>\n",
       "      <td>2</td>\n",
       "      <td>0</td>\n",
       "    </tr>\n",
       "  </tbody>\n",
       "</table>\n",
       "</div>"
      ],
      "text/plain": [
       "              ID  TotPayment  Amount_Due  AR_Percentage  cluster_id\n",
       "0  TEDEL19469808   516528.00   135456.00             24           2\n",
       "1  TEDEL19519236   762961.00   125898.57             29           2\n",
       "2  TEDEL19519953      250.00     5520.00              5           0\n",
       "3  TEDEL19545547   211496.88    20868.12             21           2\n",
       "4  TEDEL19575837     1000.00     1008.00              2           0"
      ]
     },
     "execution_count": 71,
     "metadata": {},
     "output_type": "execute_result"
    }
   ],
   "source": [
    "# assign the label\n",
    "grouped_df['cluster_id'] = kmeans.labels_\n",
    "grouped_df.head()"
   ]
  },
  {
   "cell_type": "code",
   "execution_count": 72,
   "id": "adfb5d8b",
   "metadata": {},
   "outputs": [
    {
     "data": {
      "text/plain": [
       "<AxesSubplot:xlabel='cluster_id', ylabel='TotPayment'>"
      ]
     },
     "execution_count": 72,
     "metadata": {},
     "output_type": "execute_result"
    },
    {
     "data": {
      "image/png": "[encoded data removed]",
      "text/plain": [
       "<Figure size 432x288 with 1 Axes>"
      ]
     },
     "metadata": {
      "needs_background": "light"
     },
     "output_type": "display_data"
    }
   ],
   "source": [
    "# plot\n",
    "sns.boxplot(x='cluster_id', y='TotPayment', data=grouped_df)"
   ]
  },
  {
   "cell_type": "code",
   "execution_count": 73,
   "id": "d040c1c5",
   "metadata": {},
   "outputs": [
    {
     "data": {
      "text/plain": [
       "<AxesSubplot:xlabel='cluster_id', ylabel='Amount_Due'>"
      ]
     },
     "execution_count": 73,
     "metadata": {},
     "output_type": "execute_result"
    },
    {
     "data": {
      "image/png": "[encoded data removed]",
      "text/plain": [
       "<Figure size 432x288 with 1 Axes>"
      ]
     },
     "metadata": {
      "needs_background": "light"
     },
     "output_type": "display_data"
    }
   ],
   "source": [
    "# plot\n",
    "sns.boxplot(x='cluster_id', y='Amount_Due', data=grouped_df)"
   ]
  },
  {
   "cell_type": "code",
   "execution_count": 74,
   "id": "24df27a7",
   "metadata": {},
   "outputs": [
    {
     "data": {
      "text/plain": [
       "True     9537\n",
       "False     203\n",
       "Name: AR_Exist, dtype: int64"
      ]
     },
     "execution_count": 74,
     "metadata": {},
     "output_type": "execute_result"
    }
   ],
   "source": [
    "account_details_labels['AR_Exist'].value_counts()"
   ]
  },
  {
   "cell_type": "code",
   "execution_count": 75,
   "id": "0cde99ec",
   "metadata": {},
   "outputs": [
    {
     "data": {
      "text/plain": [
       "True     9356\n",
       "False     384\n",
       "Name: AR_Dollar_threshold, dtype: int64"
      ]
     },
     "execution_count": 75,
     "metadata": {},
     "output_type": "execute_result"
    }
   ],
   "source": [
    "account_details_labels['AR_Dollar_threshold'].value_counts()"
   ]
  },
  {
   "cell_type": "code",
   "execution_count": 76,
   "id": "bb890719",
   "metadata": {},
   "outputs": [
    {
     "data": {
      "text/html": [
       "<div>\n",
       "<style scoped>\n",
       "    .dataframe tbody tr th:only-of-type {\n",
       "        vertical-align: middle;\n",
       "    }\n",
       "\n",
       "    .dataframe tbody tr th {\n",
       "        vertical-align: top;\n",
       "    }\n",
       "\n",
       "    .dataframe thead th {\n",
       "        text-align: right;\n",
       "    }\n",
       "</style>\n",
       "<table border=\"1\" class=\"dataframe\">\n",
       "  <thead>\n",
       "    <tr style=\"text-align: right;\">\n",
       "      <th></th>\n",
       "      <th>Code</th>\n",
       "      <th>Amount_Due</th>\n",
       "    </tr>\n",
       "  </thead>\n",
       "  <tbody>\n",
       "    <tr>\n",
       "      <th>0</th>\n",
       "      <td>BR001</td>\n",
       "      <td>222.38</td>\n",
       "    </tr>\n",
       "    <tr>\n",
       "      <th>1</th>\n",
       "      <td>BR009</td>\n",
       "      <td>128730.68</td>\n",
       "    </tr>\n",
       "    <tr>\n",
       "      <th>2</th>\n",
       "      <td>BR014</td>\n",
       "      <td>8084.44</td>\n",
       "    </tr>\n",
       "    <tr>\n",
       "      <th>3</th>\n",
       "      <td>BR016</td>\n",
       "      <td>1161995.20</td>\n",
       "    </tr>\n",
       "    <tr>\n",
       "      <th>4</th>\n",
       "      <td>BR029</td>\n",
       "      <td>750757.98</td>\n",
       "    </tr>\n",
       "    <tr>\n",
       "      <th>5</th>\n",
       "      <td>BR042</td>\n",
       "      <td>925315.80</td>\n",
       "    </tr>\n",
       "    <tr>\n",
       "      <th>6</th>\n",
       "      <td>BR048</td>\n",
       "      <td>160759.08</td>\n",
       "    </tr>\n",
       "    <tr>\n",
       "      <th>7</th>\n",
       "      <td>BR049</td>\n",
       "      <td>1192683.07</td>\n",
       "    </tr>\n",
       "    <tr>\n",
       "      <th>8</th>\n",
       "      <td>BR070</td>\n",
       "      <td>60756.28</td>\n",
       "    </tr>\n",
       "    <tr>\n",
       "      <th>9</th>\n",
       "      <td>BR074</td>\n",
       "      <td>1543624.16</td>\n",
       "    </tr>\n",
       "    <tr>\n",
       "      <th>10</th>\n",
       "      <td>BR078</td>\n",
       "      <td>56889.10</td>\n",
       "    </tr>\n",
       "    <tr>\n",
       "      <th>11</th>\n",
       "      <td>HR001</td>\n",
       "      <td>60912.00</td>\n",
       "    </tr>\n",
       "    <tr>\n",
       "      <th>12</th>\n",
       "      <td>HR004</td>\n",
       "      <td>3264787.21</td>\n",
       "    </tr>\n",
       "    <tr>\n",
       "      <th>13</th>\n",
       "      <td>HR006</td>\n",
       "      <td>2032278.20</td>\n",
       "    </tr>\n",
       "    <tr>\n",
       "      <th>14</th>\n",
       "      <td>HR014</td>\n",
       "      <td>529036.23</td>\n",
       "    </tr>\n",
       "    <tr>\n",
       "      <th>15</th>\n",
       "      <td>HR027</td>\n",
       "      <td>2320184.38</td>\n",
       "    </tr>\n",
       "    <tr>\n",
       "      <th>16</th>\n",
       "      <td>HR028</td>\n",
       "      <td>60899.40</td>\n",
       "    </tr>\n",
       "    <tr>\n",
       "      <th>17</th>\n",
       "      <td>HR040</td>\n",
       "      <td>2029.80</td>\n",
       "    </tr>\n",
       "    <tr>\n",
       "      <th>18</th>\n",
       "      <td>HR044</td>\n",
       "      <td>178075.26</td>\n",
       "    </tr>\n",
       "    <tr>\n",
       "      <th>19</th>\n",
       "      <td>HR058</td>\n",
       "      <td>15633.00</td>\n",
       "    </tr>\n",
       "    <tr>\n",
       "      <th>20</th>\n",
       "      <td>HR068</td>\n",
       "      <td>407.28</td>\n",
       "    </tr>\n",
       "    <tr>\n",
       "      <th>21</th>\n",
       "      <td>MR021</td>\n",
       "      <td>-35916.43</td>\n",
       "    </tr>\n",
       "    <tr>\n",
       "      <th>22</th>\n",
       "      <td>MR023</td>\n",
       "      <td>556382.30</td>\n",
       "    </tr>\n",
       "    <tr>\n",
       "      <th>23</th>\n",
       "      <td>MR029</td>\n",
       "      <td>207156.42</td>\n",
       "    </tr>\n",
       "    <tr>\n",
       "      <th>24</th>\n",
       "      <td>MR032</td>\n",
       "      <td>160279.24</td>\n",
       "    </tr>\n",
       "    <tr>\n",
       "      <th>25</th>\n",
       "      <td>MR036</td>\n",
       "      <td>219387.72</td>\n",
       "    </tr>\n",
       "    <tr>\n",
       "      <th>26</th>\n",
       "      <td>MR042</td>\n",
       "      <td>130697.43</td>\n",
       "    </tr>\n",
       "    <tr>\n",
       "      <th>27</th>\n",
       "      <td>MR063</td>\n",
       "      <td>37.95</td>\n",
       "    </tr>\n",
       "    <tr>\n",
       "      <th>28</th>\n",
       "      <td>MR076</td>\n",
       "      <td>1115322.27</td>\n",
       "    </tr>\n",
       "    <tr>\n",
       "      <th>29</th>\n",
       "      <td>MR077</td>\n",
       "      <td>6022.24</td>\n",
       "    </tr>\n",
       "    <tr>\n",
       "      <th>30</th>\n",
       "      <td>MR080</td>\n",
       "      <td>62716635.90</td>\n",
       "    </tr>\n",
       "    <tr>\n",
       "      <th>31</th>\n",
       "      <td>MR081</td>\n",
       "      <td>1459307.72</td>\n",
       "    </tr>\n",
       "    <tr>\n",
       "      <th>32</th>\n",
       "      <td>MR083</td>\n",
       "      <td>160200.84</td>\n",
       "    </tr>\n",
       "    <tr>\n",
       "      <th>33</th>\n",
       "      <td>MR094</td>\n",
       "      <td>48766.80</td>\n",
       "    </tr>\n",
       "    <tr>\n",
       "      <th>34</th>\n",
       "      <td>MR098</td>\n",
       "      <td>1172459.68</td>\n",
       "    </tr>\n",
       "    <tr>\n",
       "      <th>35</th>\n",
       "      <td>MR103</td>\n",
       "      <td>2121935.04</td>\n",
       "    </tr>\n",
       "    <tr>\n",
       "      <th>36</th>\n",
       "      <td>MR116</td>\n",
       "      <td>85.56</td>\n",
       "    </tr>\n",
       "    <tr>\n",
       "      <th>37</th>\n",
       "      <td>MR157</td>\n",
       "      <td>135108.40</td>\n",
       "    </tr>\n",
       "    <tr>\n",
       "      <th>38</th>\n",
       "      <td>MR172</td>\n",
       "      <td>85268.70</td>\n",
       "    </tr>\n",
       "    <tr>\n",
       "      <th>39</th>\n",
       "      <td>Other</td>\n",
       "      <td>22758357.19</td>\n",
       "    </tr>\n",
       "    <tr>\n",
       "      <th>40</th>\n",
       "      <td>PR001</td>\n",
       "      <td>406.78</td>\n",
       "    </tr>\n",
       "    <tr>\n",
       "      <th>41</th>\n",
       "      <td>PR002</td>\n",
       "      <td>593784.17</td>\n",
       "    </tr>\n",
       "    <tr>\n",
       "      <th>42</th>\n",
       "      <td>PR021</td>\n",
       "      <td>4758.24</td>\n",
       "    </tr>\n",
       "    <tr>\n",
       "      <th>43</th>\n",
       "      <td>XR001</td>\n",
       "      <td>1186536.27</td>\n",
       "    </tr>\n",
       "    <tr>\n",
       "      <th>44</th>\n",
       "      <td>XR006</td>\n",
       "      <td>1567349.96</td>\n",
       "    </tr>\n",
       "    <tr>\n",
       "      <th>45</th>\n",
       "      <td>XR020</td>\n",
       "      <td>97269.12</td>\n",
       "    </tr>\n",
       "  </tbody>\n",
       "</table>\n",
       "</div>"
      ],
      "text/plain": [
       "     Code   Amount_Due\n",
       "0   BR001       222.38\n",
       "1   BR009    128730.68\n",
       "2   BR014      8084.44\n",
       "3   BR016   1161995.20\n",
       "4   BR029    750757.98\n",
       "5   BR042    925315.80\n",
       "6   BR048    160759.08\n",
       "7   BR049   1192683.07\n",
       "8   BR070     60756.28\n",
       "9   BR074   1543624.16\n",
       "10  BR078     56889.10\n",
       "11  HR001     60912.00\n",
       "12  HR004   3264787.21\n",
       "13  HR006   2032278.20\n",
       "14  HR014    529036.23\n",
       "15  HR027   2320184.38\n",
       "16  HR028     60899.40\n",
       "17  HR040      2029.80\n",
       "18  HR044    178075.26\n",
       "19  HR058     15633.00\n",
       "20  HR068       407.28\n",
       "21  MR021    -35916.43\n",
       "22  MR023    556382.30\n",
       "23  MR029    207156.42\n",
       "24  MR032    160279.24\n",
       "25  MR036    219387.72\n",
       "26  MR042    130697.43\n",
       "27  MR063        37.95\n",
       "28  MR076   1115322.27\n",
       "29  MR077      6022.24\n",
       "30  MR080  62716635.90\n",
       "31  MR081   1459307.72\n",
       "32  MR083    160200.84\n",
       "33  MR094     48766.80\n",
       "34  MR098   1172459.68\n",
       "35  MR103   2121935.04\n",
       "36  MR116        85.56\n",
       "37  MR157    135108.40\n",
       "38  MR172     85268.70\n",
       "39  Other  22758357.19\n",
       "40  PR001       406.78\n",
       "41  PR002    593784.17\n",
       "42  PR021      4758.24\n",
       "43  XR001   1186536.27\n",
       "44  XR006   1567349.96\n",
       "45  XR020     97269.12"
      ]
     },
     "execution_count": 76,
     "metadata": {},
     "output_type": "execute_result"
    }
   ],
   "source": [
    "df=account_details_labels.groupby(['Code'])['Amount_Due'].sum()\n",
    "df = df.reset_index()\n",
    "df"
   ]
  },
  {
   "cell_type": "code",
   "execution_count": 78,
   "id": "def1bd8f",
   "metadata": {},
   "outputs": [
    {
     "data": {
      "image/png": "[encoded data removed]",
      "text/plain": [
       "<Figure size 3600x1440 with 1 Axes>"
      ]
     },
     "metadata": {
      "needs_background": "light"
     },
     "output_type": "display_data"
    }
   ],
   "source": [
    "df.plot(x=\"Code\", y=\"Amount_Due\", kind=\"bar\")\n",
    "plt.rcParams[\"figure.figsize\"] = (100, 50)"
   ]
  },
  {
   "cell_type": "code",
   "execution_count": 79,
   "id": "a34a787c",
   "metadata": {},
   "outputs": [
    {
     "data": {
      "text/plain": [
       "100977142.83"
      ]
     },
     "execution_count": 79,
     "metadata": {},
     "output_type": "execute_result"
    }
   ],
   "source": [
    "df['Amount_Due'].nlargest(n=10).sum()"
   ]
  },
  {
   "cell_type": "code",
   "execution_count": 80,
   "id": "41c116a6",
   "metadata": {},
   "outputs": [
    {
     "data": {
      "text/plain": [
       "110921660.44000001"
      ]
     },
     "execution_count": 80,
     "metadata": {},
     "output_type": "execute_result"
    }
   ],
   "source": [
    "df['Amount_Due'].sum()"
   ]
  },
  {
   "cell_type": "code",
   "execution_count": 81,
   "id": "6b1b02fc",
   "metadata": {},
   "outputs": [
    {
     "data": {
      "text/html": [
       "<div>\n",
       "<style scoped>\n",
       "    .dataframe tbody tr th:only-of-type {\n",
       "        vertical-align: middle;\n",
       "    }\n",
       "\n",
       "    .dataframe tbody tr th {\n",
       "        vertical-align: top;\n",
       "    }\n",
       "\n",
       "    .dataframe thead th {\n",
       "        text-align: right;\n",
       "    }\n",
       "</style>\n",
       "<table border=\"1\" class=\"dataframe\">\n",
       "  <thead>\n",
       "    <tr style=\"text-align: right;\">\n",
       "      <th></th>\n",
       "      <th>Code</th>\n",
       "      <th>AR_Dollar_threshold</th>\n",
       "    </tr>\n",
       "  </thead>\n",
       "  <tbody>\n",
       "    <tr>\n",
       "      <th>0</th>\n",
       "      <td>BR001</td>\n",
       "      <td>1</td>\n",
       "    </tr>\n",
       "    <tr>\n",
       "      <th>1</th>\n",
       "      <td>BR009</td>\n",
       "      <td>23</td>\n",
       "    </tr>\n",
       "    <tr>\n",
       "      <th>2</th>\n",
       "      <td>BR014</td>\n",
       "      <td>27</td>\n",
       "    </tr>\n",
       "    <tr>\n",
       "      <th>3</th>\n",
       "      <td>BR016</td>\n",
       "      <td>29</td>\n",
       "    </tr>\n",
       "    <tr>\n",
       "      <th>4</th>\n",
       "      <td>BR029</td>\n",
       "      <td>158</td>\n",
       "    </tr>\n",
       "    <tr>\n",
       "      <th>5</th>\n",
       "      <td>BR042</td>\n",
       "      <td>31</td>\n",
       "    </tr>\n",
       "    <tr>\n",
       "      <th>6</th>\n",
       "      <td>BR048</td>\n",
       "      <td>27</td>\n",
       "    </tr>\n",
       "    <tr>\n",
       "      <th>7</th>\n",
       "      <td>BR049</td>\n",
       "      <td>228</td>\n",
       "    </tr>\n",
       "    <tr>\n",
       "      <th>8</th>\n",
       "      <td>BR070</td>\n",
       "      <td>26</td>\n",
       "    </tr>\n",
       "    <tr>\n",
       "      <th>9</th>\n",
       "      <td>BR074</td>\n",
       "      <td>162</td>\n",
       "    </tr>\n",
       "    <tr>\n",
       "      <th>10</th>\n",
       "      <td>BR078</td>\n",
       "      <td>40</td>\n",
       "    </tr>\n",
       "    <tr>\n",
       "      <th>11</th>\n",
       "      <td>HR001</td>\n",
       "      <td>18</td>\n",
       "    </tr>\n",
       "    <tr>\n",
       "      <th>12</th>\n",
       "      <td>HR004</td>\n",
       "      <td>614</td>\n",
       "    </tr>\n",
       "    <tr>\n",
       "      <th>13</th>\n",
       "      <td>HR006</td>\n",
       "      <td>187</td>\n",
       "    </tr>\n",
       "    <tr>\n",
       "      <th>14</th>\n",
       "      <td>HR014</td>\n",
       "      <td>85</td>\n",
       "    </tr>\n",
       "    <tr>\n",
       "      <th>15</th>\n",
       "      <td>HR027</td>\n",
       "      <td>275</td>\n",
       "    </tr>\n",
       "    <tr>\n",
       "      <th>16</th>\n",
       "      <td>HR028</td>\n",
       "      <td>44</td>\n",
       "    </tr>\n",
       "    <tr>\n",
       "      <th>17</th>\n",
       "      <td>HR040</td>\n",
       "      <td>5</td>\n",
       "    </tr>\n",
       "    <tr>\n",
       "      <th>18</th>\n",
       "      <td>HR044</td>\n",
       "      <td>33</td>\n",
       "    </tr>\n",
       "    <tr>\n",
       "      <th>19</th>\n",
       "      <td>HR058</td>\n",
       "      <td>27</td>\n",
       "    </tr>\n",
       "    <tr>\n",
       "      <th>20</th>\n",
       "      <td>HR068</td>\n",
       "      <td>4</td>\n",
       "    </tr>\n",
       "    <tr>\n",
       "      <th>21</th>\n",
       "      <td>MR021</td>\n",
       "      <td>0</td>\n",
       "    </tr>\n",
       "    <tr>\n",
       "      <th>22</th>\n",
       "      <td>MR023</td>\n",
       "      <td>41</td>\n",
       "    </tr>\n",
       "    <tr>\n",
       "      <th>23</th>\n",
       "      <td>MR029</td>\n",
       "      <td>18</td>\n",
       "    </tr>\n",
       "    <tr>\n",
       "      <th>24</th>\n",
       "      <td>MR032</td>\n",
       "      <td>66</td>\n",
       "    </tr>\n",
       "    <tr>\n",
       "      <th>25</th>\n",
       "      <td>MR036</td>\n",
       "      <td>123</td>\n",
       "    </tr>\n",
       "    <tr>\n",
       "      <th>26</th>\n",
       "      <td>MR042</td>\n",
       "      <td>25</td>\n",
       "    </tr>\n",
       "    <tr>\n",
       "      <th>27</th>\n",
       "      <td>MR063</td>\n",
       "      <td>0</td>\n",
       "    </tr>\n",
       "    <tr>\n",
       "      <th>28</th>\n",
       "      <td>MR076</td>\n",
       "      <td>251</td>\n",
       "    </tr>\n",
       "    <tr>\n",
       "      <th>29</th>\n",
       "      <td>MR077</td>\n",
       "      <td>28</td>\n",
       "    </tr>\n",
       "    <tr>\n",
       "      <th>30</th>\n",
       "      <td>MR080</td>\n",
       "      <td>4485</td>\n",
       "    </tr>\n",
       "    <tr>\n",
       "      <th>31</th>\n",
       "      <td>MR081</td>\n",
       "      <td>206</td>\n",
       "    </tr>\n",
       "    <tr>\n",
       "      <th>32</th>\n",
       "      <td>MR083</td>\n",
       "      <td>126</td>\n",
       "    </tr>\n",
       "    <tr>\n",
       "      <th>33</th>\n",
       "      <td>MR094</td>\n",
       "      <td>20</td>\n",
       "    </tr>\n",
       "    <tr>\n",
       "      <th>34</th>\n",
       "      <td>MR098</td>\n",
       "      <td>152</td>\n",
       "    </tr>\n",
       "    <tr>\n",
       "      <th>35</th>\n",
       "      <td>MR103</td>\n",
       "      <td>166</td>\n",
       "    </tr>\n",
       "    <tr>\n",
       "      <th>36</th>\n",
       "      <td>MR116</td>\n",
       "      <td>0</td>\n",
       "    </tr>\n",
       "    <tr>\n",
       "      <th>37</th>\n",
       "      <td>MR157</td>\n",
       "      <td>54</td>\n",
       "    </tr>\n",
       "    <tr>\n",
       "      <th>38</th>\n",
       "      <td>MR172</td>\n",
       "      <td>22</td>\n",
       "    </tr>\n",
       "    <tr>\n",
       "      <th>39</th>\n",
       "      <td>Other</td>\n",
       "      <td>1239</td>\n",
       "    </tr>\n",
       "    <tr>\n",
       "      <th>40</th>\n",
       "      <td>PR001</td>\n",
       "      <td>2</td>\n",
       "    </tr>\n",
       "    <tr>\n",
       "      <th>41</th>\n",
       "      <td>PR002</td>\n",
       "      <td>116</td>\n",
       "    </tr>\n",
       "    <tr>\n",
       "      <th>42</th>\n",
       "      <td>PR021</td>\n",
       "      <td>23</td>\n",
       "    </tr>\n",
       "    <tr>\n",
       "      <th>43</th>\n",
       "      <td>XR001</td>\n",
       "      <td>53</td>\n",
       "    </tr>\n",
       "    <tr>\n",
       "      <th>44</th>\n",
       "      <td>XR006</td>\n",
       "      <td>44</td>\n",
       "    </tr>\n",
       "    <tr>\n",
       "      <th>45</th>\n",
       "      <td>XR020</td>\n",
       "      <td>52</td>\n",
       "    </tr>\n",
       "  </tbody>\n",
       "</table>\n",
       "</div>"
      ],
      "text/plain": [
       "     Code  AR_Dollar_threshold\n",
       "0   BR001                    1\n",
       "1   BR009                   23\n",
       "2   BR014                   27\n",
       "3   BR016                   29\n",
       "4   BR029                  158\n",
       "5   BR042                   31\n",
       "6   BR048                   27\n",
       "7   BR049                  228\n",
       "8   BR070                   26\n",
       "9   BR074                  162\n",
       "10  BR078                   40\n",
       "11  HR001                   18\n",
       "12  HR004                  614\n",
       "13  HR006                  187\n",
       "14  HR014                   85\n",
       "15  HR027                  275\n",
       "16  HR028                   44\n",
       "17  HR040                    5\n",
       "18  HR044                   33\n",
       "19  HR058                   27\n",
       "20  HR068                    4\n",
       "21  MR021                    0\n",
       "22  MR023                   41\n",
       "23  MR029                   18\n",
       "24  MR032                   66\n",
       "25  MR036                  123\n",
       "26  MR042                   25\n",
       "27  MR063                    0\n",
       "28  MR076                  251\n",
       "29  MR077                   28\n",
       "30  MR080                 4485\n",
       "31  MR081                  206\n",
       "32  MR083                  126\n",
       "33  MR094                   20\n",
       "34  MR098                  152\n",
       "35  MR103                  166\n",
       "36  MR116                    0\n",
       "37  MR157                   54\n",
       "38  MR172                   22\n",
       "39  Other                 1239\n",
       "40  PR001                    2\n",
       "41  PR002                  116\n",
       "42  PR021                   23\n",
       "43  XR001                   53\n",
       "44  XR006                   44\n",
       "45  XR020                   52"
      ]
     },
     "execution_count": 81,
     "metadata": {},
     "output_type": "execute_result"
    }
   ],
   "source": [
    "df1=account_details_labels.groupby(['Code'])['AR_Dollar_threshold'].sum()\n",
    "df1 = df1.reset_index()\n",
    "df1"
   ]
  },
  {
   "cell_type": "code",
   "execution_count": 82,
   "id": "e4d829d6",
   "metadata": {},
   "outputs": [
    {
     "data": {
      "image/png": "[encoded data removed]",
      "text/plain": [
       "<Figure size 7200x3600 with 1 Axes>"
      ]
     },
     "metadata": {
      "needs_background": "light"
     },
     "output_type": "display_data"
    }
   ],
   "source": [
    "df1.plot(x=\"Code\", y=\"AR_Dollar_threshold\", kind=\"bar\")\n",
    "plt.rcParams[\"figure.figsize\"] = (100, 50)"
   ]
  },
  {
   "cell_type": "code",
   "execution_count": 83,
   "id": "223c7a13",
   "metadata": {},
   "outputs": [
    {
     "data": {
      "text/plain": [
       "4485"
      ]
     },
     "execution_count": 83,
     "metadata": {},
     "output_type": "execute_result"
    }
   ],
   "source": [
    "df1['AR_Dollar_threshold'].max()"
   ]
  },
  {
   "cell_type": "code",
   "execution_count": 84,
   "id": "ae10f917",
   "metadata": {},
   "outputs": [
    {
     "data": {
      "text/plain": [
       "9356"
      ]
     },
     "execution_count": 84,
     "metadata": {},
     "output_type": "execute_result"
    }
   ],
   "source": [
    "df1['AR_Dollar_threshold'].sum()"
   ]
  },
  {
   "cell_type": "code",
   "execution_count": 85,
   "id": "a7b54d79",
   "metadata": {},
   "outputs": [
    {
     "data": {
      "text/html": [
       "<div>\n",
       "<style scoped>\n",
       "    .dataframe tbody tr th:only-of-type {\n",
       "        vertical-align: middle;\n",
       "    }\n",
       "\n",
       "    .dataframe tbody tr th {\n",
       "        vertical-align: top;\n",
       "    }\n",
       "\n",
       "    .dataframe thead th {\n",
       "        text-align: right;\n",
       "    }\n",
       "</style>\n",
       "<table border=\"1\" class=\"dataframe\">\n",
       "  <thead>\n",
       "    <tr style=\"text-align: right;\">\n",
       "      <th></th>\n",
       "      <th>Code</th>\n",
       "      <th>AR_Percentage</th>\n",
       "    </tr>\n",
       "  </thead>\n",
       "  <tbody>\n",
       "    <tr>\n",
       "      <th>0</th>\n",
       "      <td>BR001</td>\n",
       "      <td>0.882355</td>\n",
       "    </tr>\n",
       "    <tr>\n",
       "      <th>1</th>\n",
       "      <td>BR009</td>\n",
       "      <td>3.430718</td>\n",
       "    </tr>\n",
       "    <tr>\n",
       "      <th>2</th>\n",
       "      <td>BR014</td>\n",
       "      <td>1.601288</td>\n",
       "    </tr>\n",
       "    <tr>\n",
       "      <th>3</th>\n",
       "      <td>BR016</td>\n",
       "      <td>29.237880</td>\n",
       "    </tr>\n",
       "    <tr>\n",
       "      <th>4</th>\n",
       "      <td>BR029</td>\n",
       "      <td>23.648615</td>\n",
       "    </tr>\n",
       "    <tr>\n",
       "      <th>5</th>\n",
       "      <td>BR042</td>\n",
       "      <td>21.165075</td>\n",
       "    </tr>\n",
       "    <tr>\n",
       "      <th>6</th>\n",
       "      <td>BR048</td>\n",
       "      <td>5.142023</td>\n",
       "    </tr>\n",
       "    <tr>\n",
       "      <th>7</th>\n",
       "      <td>BR049</td>\n",
       "      <td>216.179987</td>\n",
       "    </tr>\n",
       "    <tr>\n",
       "      <th>8</th>\n",
       "      <td>BR070</td>\n",
       "      <td>3.879231</td>\n",
       "    </tr>\n",
       "    <tr>\n",
       "      <th>9</th>\n",
       "      <td>BR074</td>\n",
       "      <td>56.448264</td>\n",
       "    </tr>\n",
       "    <tr>\n",
       "      <th>10</th>\n",
       "      <td>BR078</td>\n",
       "      <td>4.750444</td>\n",
       "    </tr>\n",
       "    <tr>\n",
       "      <th>11</th>\n",
       "      <td>HR001</td>\n",
       "      <td>5.104072</td>\n",
       "    </tr>\n",
       "    <tr>\n",
       "      <th>12</th>\n",
       "      <td>HR004</td>\n",
       "      <td>106.040730</td>\n",
       "    </tr>\n",
       "    <tr>\n",
       "      <th>13</th>\n",
       "      <td>HR006</td>\n",
       "      <td>49.654810</td>\n",
       "    </tr>\n",
       "    <tr>\n",
       "      <th>14</th>\n",
       "      <td>HR014</td>\n",
       "      <td>13.284811</td>\n",
       "    </tr>\n",
       "    <tr>\n",
       "      <th>15</th>\n",
       "      <td>HR027</td>\n",
       "      <td>51.833779</td>\n",
       "    </tr>\n",
       "    <tr>\n",
       "      <th>16</th>\n",
       "      <td>HR028</td>\n",
       "      <td>2.635654</td>\n",
       "    </tr>\n",
       "    <tr>\n",
       "      <th>17</th>\n",
       "      <td>HR040</td>\n",
       "      <td>2.522250</td>\n",
       "    </tr>\n",
       "    <tr>\n",
       "      <th>18</th>\n",
       "      <td>HR044</td>\n",
       "      <td>6.333767</td>\n",
       "    </tr>\n",
       "    <tr>\n",
       "      <th>19</th>\n",
       "      <td>HR058</td>\n",
       "      <td>1.038876</td>\n",
       "    </tr>\n",
       "    <tr>\n",
       "      <th>20</th>\n",
       "      <td>HR068</td>\n",
       "      <td>0.509100</td>\n",
       "    </tr>\n",
       "    <tr>\n",
       "      <th>21</th>\n",
       "      <td>MR021</td>\n",
       "      <td>0.221877</td>\n",
       "    </tr>\n",
       "    <tr>\n",
       "      <th>22</th>\n",
       "      <td>MR023</td>\n",
       "      <td>15.658459</td>\n",
       "    </tr>\n",
       "    <tr>\n",
       "      <th>23</th>\n",
       "      <td>MR029</td>\n",
       "      <td>15.542937</td>\n",
       "    </tr>\n",
       "    <tr>\n",
       "      <th>24</th>\n",
       "      <td>MR032</td>\n",
       "      <td>4.782521</td>\n",
       "    </tr>\n",
       "    <tr>\n",
       "      <th>25</th>\n",
       "      <td>MR036</td>\n",
       "      <td>22.029071</td>\n",
       "    </tr>\n",
       "    <tr>\n",
       "      <th>26</th>\n",
       "      <td>MR042</td>\n",
       "      <td>6.231612</td>\n",
       "    </tr>\n",
       "    <tr>\n",
       "      <th>27</th>\n",
       "      <td>MR063</td>\n",
       "      <td>0.173375</td>\n",
       "    </tr>\n",
       "    <tr>\n",
       "      <th>28</th>\n",
       "      <td>MR076</td>\n",
       "      <td>32.714880</td>\n",
       "    </tr>\n",
       "    <tr>\n",
       "      <th>29</th>\n",
       "      <td>MR077</td>\n",
       "      <td>0.115080</td>\n",
       "    </tr>\n",
       "    <tr>\n",
       "      <th>30</th>\n",
       "      <td>MR080</td>\n",
       "      <td>1432.268263</td>\n",
       "    </tr>\n",
       "    <tr>\n",
       "      <th>31</th>\n",
       "      <td>MR081</td>\n",
       "      <td>64.847308</td>\n",
       "    </tr>\n",
       "    <tr>\n",
       "      <th>32</th>\n",
       "      <td>MR083</td>\n",
       "      <td>10.760698</td>\n",
       "    </tr>\n",
       "    <tr>\n",
       "      <th>33</th>\n",
       "      <td>MR094</td>\n",
       "      <td>2.989829</td>\n",
       "    </tr>\n",
       "    <tr>\n",
       "      <th>34</th>\n",
       "      <td>MR098</td>\n",
       "      <td>28.469320</td>\n",
       "    </tr>\n",
       "    <tr>\n",
       "      <th>35</th>\n",
       "      <td>MR103</td>\n",
       "      <td>29.145630</td>\n",
       "    </tr>\n",
       "    <tr>\n",
       "      <th>36</th>\n",
       "      <td>MR116</td>\n",
       "      <td>2.000000</td>\n",
       "    </tr>\n",
       "    <tr>\n",
       "      <th>37</th>\n",
       "      <td>MR157</td>\n",
       "      <td>5.972874</td>\n",
       "    </tr>\n",
       "    <tr>\n",
       "      <th>38</th>\n",
       "      <td>MR172</td>\n",
       "      <td>1.231583</td>\n",
       "    </tr>\n",
       "    <tr>\n",
       "      <th>39</th>\n",
       "      <td>Other</td>\n",
       "      <td>1086.904812</td>\n",
       "    </tr>\n",
       "    <tr>\n",
       "      <th>40</th>\n",
       "      <td>PR001</td>\n",
       "      <td>1.029823</td>\n",
       "    </tr>\n",
       "    <tr>\n",
       "      <th>41</th>\n",
       "      <td>PR002</td>\n",
       "      <td>41.652037</td>\n",
       "    </tr>\n",
       "    <tr>\n",
       "      <th>42</th>\n",
       "      <td>PR021</td>\n",
       "      <td>0.382345</td>\n",
       "    </tr>\n",
       "    <tr>\n",
       "      <th>43</th>\n",
       "      <td>XR001</td>\n",
       "      <td>20.996289</td>\n",
       "    </tr>\n",
       "    <tr>\n",
       "      <th>44</th>\n",
       "      <td>XR006</td>\n",
       "      <td>21.707961</td>\n",
       "    </tr>\n",
       "    <tr>\n",
       "      <th>45</th>\n",
       "      <td>XR020</td>\n",
       "      <td>1.530384</td>\n",
       "    </tr>\n",
       "  </tbody>\n",
       "</table>\n",
       "</div>"
      ],
      "text/plain": [
       "     Code  AR_Percentage\n",
       "0   BR001       0.882355\n",
       "1   BR009       3.430718\n",
       "2   BR014       1.601288\n",
       "3   BR016      29.237880\n",
       "4   BR029      23.648615\n",
       "5   BR042      21.165075\n",
       "6   BR048       5.142023\n",
       "7   BR049     216.179987\n",
       "8   BR070       3.879231\n",
       "9   BR074      56.448264\n",
       "10  BR078       4.750444\n",
       "11  HR001       5.104072\n",
       "12  HR004     106.040730\n",
       "13  HR006      49.654810\n",
       "14  HR014      13.284811\n",
       "15  HR027      51.833779\n",
       "16  HR028       2.635654\n",
       "17  HR040       2.522250\n",
       "18  HR044       6.333767\n",
       "19  HR058       1.038876\n",
       "20  HR068       0.509100\n",
       "21  MR021       0.221877\n",
       "22  MR023      15.658459\n",
       "23  MR029      15.542937\n",
       "24  MR032       4.782521\n",
       "25  MR036      22.029071\n",
       "26  MR042       6.231612\n",
       "27  MR063       0.173375\n",
       "28  MR076      32.714880\n",
       "29  MR077       0.115080\n",
       "30  MR080    1432.268263\n",
       "31  MR081      64.847308\n",
       "32  MR083      10.760698\n",
       "33  MR094       2.989829\n",
       "34  MR098      28.469320\n",
       "35  MR103      29.145630\n",
       "36  MR116       2.000000\n",
       "37  MR157       5.972874\n",
       "38  MR172       1.231583\n",
       "39  Other    1086.904812\n",
       "40  PR001       1.029823\n",
       "41  PR002      41.652037\n",
       "42  PR021       0.382345\n",
       "43  XR001      20.996289\n",
       "44  XR006      21.707961\n",
       "45  XR020       1.530384"
      ]
     },
     "execution_count": 85,
     "metadata": {},
     "output_type": "execute_result"
    }
   ],
   "source": [
    "df2=account_details_labels.groupby(['Code'])['AR_Percentage'].sum()\n",
    "df2 = df2.reset_index()\n",
    "df2"
   ]
  },
  {
   "cell_type": "code",
   "execution_count": 86,
   "id": "4d1d2c5f",
   "metadata": {},
   "outputs": [
    {
     "data": {
      "image/png": "[encoded data removed]",
      "text/plain": [
       "<Figure size 7200x3600 with 1 Axes>"
      ]
     },
     "metadata": {
      "needs_background": "light"
     },
     "output_type": "display_data"
    }
   ],
   "source": [
    "df2.plot(x=\"Code\", y=\"AR_Percentage\", kind=\"bar\")\n",
    "plt.rcParams[\"figure.figsize\"] = (100, 50)"
   ]
  },
  {
   "cell_type": "code",
   "execution_count": 87,
   "id": "9d1f61c0",
   "metadata": {},
   "outputs": [
    {
     "data": {
      "text/html": [
       "<div>\n",
       "<style scoped>\n",
       "    .dataframe tbody tr th:only-of-type {\n",
       "        vertical-align: middle;\n",
       "    }\n",
       "\n",
       "    .dataframe tbody tr th {\n",
       "        vertical-align: top;\n",
       "    }\n",
       "\n",
       "    .dataframe thead th {\n",
       "        text-align: right;\n",
       "    }\n",
       "</style>\n",
       "<table border=\"1\" class=\"dataframe\">\n",
       "  <thead>\n",
       "    <tr style=\"text-align: right;\">\n",
       "      <th></th>\n",
       "      <th>Code</th>\n",
       "      <th>AR_Exist</th>\n",
       "    </tr>\n",
       "  </thead>\n",
       "  <tbody>\n",
       "    <tr>\n",
       "      <th>0</th>\n",
       "      <td>BR001</td>\n",
       "      <td>1</td>\n",
       "    </tr>\n",
       "    <tr>\n",
       "      <th>1</th>\n",
       "      <td>BR009</td>\n",
       "      <td>23</td>\n",
       "    </tr>\n",
       "    <tr>\n",
       "      <th>2</th>\n",
       "      <td>BR014</td>\n",
       "      <td>29</td>\n",
       "    </tr>\n",
       "    <tr>\n",
       "      <th>3</th>\n",
       "      <td>BR016</td>\n",
       "      <td>29</td>\n",
       "    </tr>\n",
       "    <tr>\n",
       "      <th>4</th>\n",
       "      <td>BR029</td>\n",
       "      <td>158</td>\n",
       "    </tr>\n",
       "    <tr>\n",
       "      <th>5</th>\n",
       "      <td>BR042</td>\n",
       "      <td>31</td>\n",
       "    </tr>\n",
       "    <tr>\n",
       "      <th>6</th>\n",
       "      <td>BR048</td>\n",
       "      <td>27</td>\n",
       "    </tr>\n",
       "    <tr>\n",
       "      <th>7</th>\n",
       "      <td>BR049</td>\n",
       "      <td>228</td>\n",
       "    </tr>\n",
       "    <tr>\n",
       "      <th>8</th>\n",
       "      <td>BR070</td>\n",
       "      <td>26</td>\n",
       "    </tr>\n",
       "    <tr>\n",
       "      <th>9</th>\n",
       "      <td>BR074</td>\n",
       "      <td>162</td>\n",
       "    </tr>\n",
       "    <tr>\n",
       "      <th>10</th>\n",
       "      <td>BR078</td>\n",
       "      <td>40</td>\n",
       "    </tr>\n",
       "    <tr>\n",
       "      <th>11</th>\n",
       "      <td>HR001</td>\n",
       "      <td>18</td>\n",
       "    </tr>\n",
       "    <tr>\n",
       "      <th>12</th>\n",
       "      <td>HR004</td>\n",
       "      <td>614</td>\n",
       "    </tr>\n",
       "    <tr>\n",
       "      <th>13</th>\n",
       "      <td>HR006</td>\n",
       "      <td>187</td>\n",
       "    </tr>\n",
       "    <tr>\n",
       "      <th>14</th>\n",
       "      <td>HR014</td>\n",
       "      <td>85</td>\n",
       "    </tr>\n",
       "    <tr>\n",
       "      <th>15</th>\n",
       "      <td>HR027</td>\n",
       "      <td>275</td>\n",
       "    </tr>\n",
       "    <tr>\n",
       "      <th>16</th>\n",
       "      <td>HR028</td>\n",
       "      <td>44</td>\n",
       "    </tr>\n",
       "    <tr>\n",
       "      <th>17</th>\n",
       "      <td>HR040</td>\n",
       "      <td>5</td>\n",
       "    </tr>\n",
       "    <tr>\n",
       "      <th>18</th>\n",
       "      <td>HR044</td>\n",
       "      <td>33</td>\n",
       "    </tr>\n",
       "    <tr>\n",
       "      <th>19</th>\n",
       "      <td>HR058</td>\n",
       "      <td>27</td>\n",
       "    </tr>\n",
       "    <tr>\n",
       "      <th>20</th>\n",
       "      <td>HR068</td>\n",
       "      <td>4</td>\n",
       "    </tr>\n",
       "    <tr>\n",
       "      <th>21</th>\n",
       "      <td>MR021</td>\n",
       "      <td>1</td>\n",
       "    </tr>\n",
       "    <tr>\n",
       "      <th>22</th>\n",
       "      <td>MR023</td>\n",
       "      <td>41</td>\n",
       "    </tr>\n",
       "    <tr>\n",
       "      <th>23</th>\n",
       "      <td>MR029</td>\n",
       "      <td>18</td>\n",
       "    </tr>\n",
       "    <tr>\n",
       "      <th>24</th>\n",
       "      <td>MR032</td>\n",
       "      <td>66</td>\n",
       "    </tr>\n",
       "    <tr>\n",
       "      <th>25</th>\n",
       "      <td>MR036</td>\n",
       "      <td>123</td>\n",
       "    </tr>\n",
       "    <tr>\n",
       "      <th>26</th>\n",
       "      <td>MR042</td>\n",
       "      <td>25</td>\n",
       "    </tr>\n",
       "    <tr>\n",
       "      <th>27</th>\n",
       "      <td>MR063</td>\n",
       "      <td>3</td>\n",
       "    </tr>\n",
       "    <tr>\n",
       "      <th>28</th>\n",
       "      <td>MR076</td>\n",
       "      <td>310</td>\n",
       "    </tr>\n",
       "    <tr>\n",
       "      <th>29</th>\n",
       "      <td>MR077</td>\n",
       "      <td>28</td>\n",
       "    </tr>\n",
       "    <tr>\n",
       "      <th>30</th>\n",
       "      <td>MR080</td>\n",
       "      <td>4485</td>\n",
       "    </tr>\n",
       "    <tr>\n",
       "      <th>31</th>\n",
       "      <td>MR081</td>\n",
       "      <td>207</td>\n",
       "    </tr>\n",
       "    <tr>\n",
       "      <th>32</th>\n",
       "      <td>MR083</td>\n",
       "      <td>136</td>\n",
       "    </tr>\n",
       "    <tr>\n",
       "      <th>33</th>\n",
       "      <td>MR094</td>\n",
       "      <td>20</td>\n",
       "    </tr>\n",
       "    <tr>\n",
       "      <th>34</th>\n",
       "      <td>MR098</td>\n",
       "      <td>152</td>\n",
       "    </tr>\n",
       "    <tr>\n",
       "      <th>35</th>\n",
       "      <td>MR103</td>\n",
       "      <td>166</td>\n",
       "    </tr>\n",
       "    <tr>\n",
       "      <th>36</th>\n",
       "      <td>MR116</td>\n",
       "      <td>2</td>\n",
       "    </tr>\n",
       "    <tr>\n",
       "      <th>37</th>\n",
       "      <td>MR157</td>\n",
       "      <td>54</td>\n",
       "    </tr>\n",
       "    <tr>\n",
       "      <th>38</th>\n",
       "      <td>MR172</td>\n",
       "      <td>22</td>\n",
       "    </tr>\n",
       "    <tr>\n",
       "      <th>39</th>\n",
       "      <td>Other</td>\n",
       "      <td>1340</td>\n",
       "    </tr>\n",
       "    <tr>\n",
       "      <th>40</th>\n",
       "      <td>PR001</td>\n",
       "      <td>2</td>\n",
       "    </tr>\n",
       "    <tr>\n",
       "      <th>41</th>\n",
       "      <td>PR002</td>\n",
       "      <td>116</td>\n",
       "    </tr>\n",
       "    <tr>\n",
       "      <th>42</th>\n",
       "      <td>PR021</td>\n",
       "      <td>23</td>\n",
       "    </tr>\n",
       "    <tr>\n",
       "      <th>43</th>\n",
       "      <td>XR001</td>\n",
       "      <td>55</td>\n",
       "    </tr>\n",
       "    <tr>\n",
       "      <th>44</th>\n",
       "      <td>XR006</td>\n",
       "      <td>44</td>\n",
       "    </tr>\n",
       "    <tr>\n",
       "      <th>45</th>\n",
       "      <td>XR020</td>\n",
       "      <td>52</td>\n",
       "    </tr>\n",
       "  </tbody>\n",
       "</table>\n",
       "</div>"
      ],
      "text/plain": [
       "     Code  AR_Exist\n",
       "0   BR001         1\n",
       "1   BR009        23\n",
       "2   BR014        29\n",
       "3   BR016        29\n",
       "4   BR029       158\n",
       "5   BR042        31\n",
       "6   BR048        27\n",
       "7   BR049       228\n",
       "8   BR070        26\n",
       "9   BR074       162\n",
       "10  BR078        40\n",
       "11  HR001        18\n",
       "12  HR004       614\n",
       "13  HR006       187\n",
       "14  HR014        85\n",
       "15  HR027       275\n",
       "16  HR028        44\n",
       "17  HR040         5\n",
       "18  HR044        33\n",
       "19  HR058        27\n",
       "20  HR068         4\n",
       "21  MR021         1\n",
       "22  MR023        41\n",
       "23  MR029        18\n",
       "24  MR032        66\n",
       "25  MR036       123\n",
       "26  MR042        25\n",
       "27  MR063         3\n",
       "28  MR076       310\n",
       "29  MR077        28\n",
       "30  MR080      4485\n",
       "31  MR081       207\n",
       "32  MR083       136\n",
       "33  MR094        20\n",
       "34  MR098       152\n",
       "35  MR103       166\n",
       "36  MR116         2\n",
       "37  MR157        54\n",
       "38  MR172        22\n",
       "39  Other      1340\n",
       "40  PR001         2\n",
       "41  PR002       116\n",
       "42  PR021        23\n",
       "43  XR001        55\n",
       "44  XR006        44\n",
       "45  XR020        52"
      ]
     },
     "execution_count": 87,
     "metadata": {},
     "output_type": "execute_result"
    }
   ],
   "source": [
    "df3=account_details_labels.groupby(['Code'])['AR_Exist'].sum()\n",
    "df3 = df3.reset_index()\n",
    "df3"
   ]
  },
  {
   "cell_type": "code",
   "execution_count": 88,
   "id": "d244ccaf",
   "metadata": {},
   "outputs": [
    {
     "data": {
      "image/png": "[encoded data removed]",
      "text/plain": [
       "<Figure size 7200x3600 with 1 Axes>"
      ]
     },
     "metadata": {
      "needs_background": "light"
     },
     "output_type": "display_data"
    }
   ],
   "source": [
    "df3.plot(x=\"Code\", y=\"AR_Exist\", kind=\"line\")\n",
    "plt.rcParams[\"figure.figsize\"] = (100, 50)"
   ]
  },
  {
   "cell_type": "code",
   "execution_count": null,
   "id": "b878649f",
   "metadata": {},
   "outputs": [],
   "source": []
  }
 ],
 "metadata": {
  "kernelspec": {
   "display_name": "Python 3 (ipykernel)",
   "language": "python",
   "name": "python3"
  },
  "language_info": {
   "codemirror_mode": {
    "name": "ipython",
    "version": 3
   },
   "file_extension": ".py",
   "mimetype": "text/x-python",
   "name": "python",
   "nbconvert_exporter": "python",
   "pygments_lexer": "ipython3",
   "version": "3.9.12"
  }
 },
 "nbformat": 4,
 "nbformat_minor": 5
}
