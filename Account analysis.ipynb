{
 "cells": [
  {
   "cell_type": "markdown",
   "id": "517d4510",
   "metadata": {},
   "source": [
    "### 1. Read and understand the data"
   ]
  },
  {
   "cell_type": "code",
   "execution_count": 1,
   "id": "0889915d",
   "metadata": {},
   "outputs": [],
   "source": [
    "import warnings\n",
    "warnings.filterwarnings('ignore')"
   ]
  },
  {
   "cell_type": "code",
   "execution_count": 3,
   "id": "90db2ac7",
   "metadata": {},
   "outputs": [],
   "source": [
    "import numpy as np\n",
    "import pandas as pd\n",
    "import matplotlib as plt\n",
    "import seaborn as sns"
   ]
  },
  {
   "cell_type": "code",
   "execution_count": 30,
   "id": "c924a19e",
   "metadata": {},
   "outputs": [],
   "source": [
    "import matplotlib.pyplot as plt \n",
    "import seaborn as sns"
   ]
  },
  {
   "cell_type": "code",
   "execution_count": 58,
   "id": "50f0ead4",
   "metadata": {},
   "outputs": [],
   "source": [
    "import sklearn\n",
    "from sklearn.preprocessing import StandardScaler\n",
    "from sklearn.cluster import KMeans\n",
    "from sklearn.metrics import silhouette_score"
   ]
  },
  {
   "cell_type": "code",
   "execution_count": 4,
   "id": "620df600",
   "metadata": {},
   "outputs": [],
   "source": [
    "labels= pd.read_csv(\"labels.csv\")"
   ]
  },
  {
   "cell_type": "code",
   "execution_count": 6,
   "id": "cf0c8775",
   "metadata": {},
   "outputs": [
    {
     "data": {
      "text/plain": [
       "(18305, 5)"
      ]
     },
     "execution_count": 6,
     "metadata": {},
     "output_type": "execute_result"
    }
   ],
   "source": [
    "labels.shape"
   ]
  },
  {
   "cell_type": "code",
   "execution_count": 7,
   "id": "aec9732a",
   "metadata": {},
   "outputs": [],
   "source": [
    "account_details= pd.read_csv(\"account_details.csv\")"
   ]
  },
  {
   "cell_type": "code",
   "execution_count": 8,
   "id": "f5630b1c",
   "metadata": {},
   "outputs": [
    {
     "data": {
      "text/plain": [
       "(18305, 9)"
      ]
     },
     "execution_count": 8,
     "metadata": {},
     "output_type": "execute_result"
    }
   ],
   "source": [
    "account_details.shape"
   ]
  },
  {
   "cell_type": "code",
   "execution_count": 9,
   "id": "9540f1ca",
   "metadata": {},
   "outputs": [
    {
     "name": "stdout",
     "output_type": "stream",
     "text": [
      "<class 'pandas.core.frame.DataFrame'>\n",
      "RangeIndex: 18305 entries, 0 to 18304\n",
      "Data columns (total 9 columns):\n",
      " #   Column         Non-Null Count  Dtype  \n",
      "---  ------         --------------  -----  \n",
      " 0   ID             18305 non-null  object \n",
      " 1   MM             18305 non-null  int64  \n",
      " 2   CPT            1592 non-null   float64\n",
      " 3   REV_CD         18305 non-null  int64  \n",
      " 4   Type           18305 non-null  int64  \n",
      " 5   imt            18305 non-null  bool   \n",
      " 6   Expect_Amount  18305 non-null  float64\n",
      " 7   TotPayment     18305 non-null  float64\n",
      " 8   Code           9740 non-null   object \n",
      "dtypes: bool(1), float64(3), int64(3), object(2)\n",
      "memory usage: 1.1+ MB\n"
     ]
    }
   ],
   "source": [
    "account_details.info()"
   ]
  },
  {
   "cell_type": "code",
   "execution_count": 10,
   "id": "5bada3af",
   "metadata": {},
   "outputs": [
    {
     "data": {
      "text/html": [
       "<div>\n",
       "<style scoped>\n",
       "    .dataframe tbody tr th:only-of-type {\n",
       "        vertical-align: middle;\n",
       "    }\n",
       "\n",
       "    .dataframe tbody tr th {\n",
       "        vertical-align: top;\n",
       "    }\n",
       "\n",
       "    .dataframe thead th {\n",
       "        text-align: right;\n",
       "    }\n",
       "</style>\n",
       "<table border=\"1\" class=\"dataframe\">\n",
       "  <thead>\n",
       "    <tr style=\"text-align: right;\">\n",
       "      <th></th>\n",
       "      <th>MM</th>\n",
       "      <th>CPT</th>\n",
       "      <th>REV_CD</th>\n",
       "      <th>Type</th>\n",
       "      <th>Expect_Amount</th>\n",
       "      <th>TotPayment</th>\n",
       "    </tr>\n",
       "  </thead>\n",
       "  <tbody>\n",
       "    <tr>\n",
       "      <th>count</th>\n",
       "      <td>18305.000000</td>\n",
       "      <td>1592.00000</td>\n",
       "      <td>18305.000000</td>\n",
       "      <td>18305.000000</td>\n",
       "      <td>18305.000000</td>\n",
       "      <td>18305.000000</td>\n",
       "    </tr>\n",
       "    <tr>\n",
       "      <th>mean</th>\n",
       "      <td>66.513084</td>\n",
       "      <td>32403.09108</td>\n",
       "      <td>474.827643</td>\n",
       "      <td>1.625567</td>\n",
       "      <td>25073.042457</td>\n",
       "      <td>19551.072959</td>\n",
       "    </tr>\n",
       "    <tr>\n",
       "      <th>std</th>\n",
       "      <td>61.823697</td>\n",
       "      <td>10102.79031</td>\n",
       "      <td>199.630701</td>\n",
       "      <td>0.483989</td>\n",
       "      <td>22619.856617</td>\n",
       "      <td>19274.686331</td>\n",
       "    </tr>\n",
       "    <tr>\n",
       "      <th>min</th>\n",
       "      <td>1.000000</td>\n",
       "      <td>410.00000</td>\n",
       "      <td>250.000000</td>\n",
       "      <td>1.000000</td>\n",
       "      <td>0.000000</td>\n",
       "      <td>0.000000</td>\n",
       "    </tr>\n",
       "    <tr>\n",
       "      <th>25%</th>\n",
       "      <td>8.000000</td>\n",
       "      <td>33285.00000</td>\n",
       "      <td>300.000000</td>\n",
       "      <td>1.000000</td>\n",
       "      <td>1342.000000</td>\n",
       "      <td>1086.000000</td>\n",
       "    </tr>\n",
       "    <tr>\n",
       "      <th>50%</th>\n",
       "      <td>101.000000</td>\n",
       "      <td>36569.00000</td>\n",
       "      <td>403.000000</td>\n",
       "      <td>2.000000</td>\n",
       "      <td>16068.620000</td>\n",
       "      <td>14735.800000</td>\n",
       "    </tr>\n",
       "    <tr>\n",
       "      <th>75%</th>\n",
       "      <td>108.000000</td>\n",
       "      <td>36590.00000</td>\n",
       "      <td>636.000000</td>\n",
       "      <td>2.000000</td>\n",
       "      <td>42916.140000</td>\n",
       "      <td>32352.440000</td>\n",
       "    </tr>\n",
       "    <tr>\n",
       "      <th>max</th>\n",
       "      <td>203.000000</td>\n",
       "      <td>37197.00000</td>\n",
       "      <td>943.000000</td>\n",
       "      <td>2.000000</td>\n",
       "      <td>138125.110000</td>\n",
       "      <td>186732.400000</td>\n",
       "    </tr>\n",
       "  </tbody>\n",
       "</table>\n",
       "</div>"
      ],
      "text/plain": [
       "                 MM          CPT        REV_CD          Type  Expect_Amount  \\\n",
       "count  18305.000000   1592.00000  18305.000000  18305.000000   18305.000000   \n",
       "mean      66.513084  32403.09108    474.827643      1.625567   25073.042457   \n",
       "std       61.823697  10102.79031    199.630701      0.483989   22619.856617   \n",
       "min        1.000000    410.00000    250.000000      1.000000       0.000000   \n",
       "25%        8.000000  33285.00000    300.000000      1.000000    1342.000000   \n",
       "50%      101.000000  36569.00000    403.000000      2.000000   16068.620000   \n",
       "75%      108.000000  36590.00000    636.000000      2.000000   42916.140000   \n",
       "max      203.000000  37197.00000    943.000000      2.000000  138125.110000   \n",
       "\n",
       "          TotPayment  \n",
       "count   18305.000000  \n",
       "mean    19551.072959  \n",
       "std     19274.686331  \n",
       "min         0.000000  \n",
       "25%      1086.000000  \n",
       "50%     14735.800000  \n",
       "75%     32352.440000  \n",
       "max    186732.400000  "
      ]
     },
     "execution_count": 10,
     "metadata": {},
     "output_type": "execute_result"
    }
   ],
   "source": [
    "account_details.describe()"
   ]
  },
  {
   "cell_type": "code",
   "execution_count": 12,
   "id": "64615cb3",
   "metadata": {},
   "outputs": [
    {
     "name": "stdout",
     "output_type": "stream",
     "text": [
      "<class 'pandas.core.frame.DataFrame'>\n",
      "RangeIndex: 18305 entries, 0 to 18304\n",
      "Data columns (total 5 columns):\n",
      " #   Column               Non-Null Count  Dtype  \n",
      "---  ------               --------------  -----  \n",
      " 0   ID                   18305 non-null  object \n",
      " 1   Amount_Due           18305 non-null  float64\n",
      " 2   AR_Dollar_threshold  18305 non-null  bool   \n",
      " 3   AR_Percentage        18305 non-null  float64\n",
      " 4   AR_Exist             18305 non-null  bool   \n",
      "dtypes: bool(2), float64(2), object(1)\n",
      "memory usage: 464.9+ KB\n"
     ]
    }
   ],
   "source": [
    "labels.info()"
   ]
  },
  {
   "cell_type": "code",
   "execution_count": 11,
   "id": "46a38124",
   "metadata": {
    "scrolled": true
   },
   "outputs": [
    {
     "data": {
      "text/html": [
       "<div>\n",
       "<style scoped>\n",
       "    .dataframe tbody tr th:only-of-type {\n",
       "        vertical-align: middle;\n",
       "    }\n",
       "\n",
       "    .dataframe tbody tr th {\n",
       "        vertical-align: top;\n",
       "    }\n",
       "\n",
       "    .dataframe thead th {\n",
       "        text-align: right;\n",
       "    }\n",
       "</style>\n",
       "<table border=\"1\" class=\"dataframe\">\n",
       "  <thead>\n",
       "    <tr style=\"text-align: right;\">\n",
       "      <th></th>\n",
       "      <th>Amount_Due</th>\n",
       "      <th>AR_Percentage</th>\n",
       "    </tr>\n",
       "  </thead>\n",
       "  <tbody>\n",
       "    <tr>\n",
       "      <th>count</th>\n",
       "      <td>18305.000000</td>\n",
       "      <td>18305.000000</td>\n",
       "    </tr>\n",
       "    <tr>\n",
       "      <th>mean</th>\n",
       "      <td>6059.637282</td>\n",
       "      <td>0.188729</td>\n",
       "    </tr>\n",
       "    <tr>\n",
       "      <th>std</th>\n",
       "      <td>15282.359594</td>\n",
       "      <td>0.603247</td>\n",
       "    </tr>\n",
       "    <tr>\n",
       "      <th>min</th>\n",
       "      <td>-1236.650000</td>\n",
       "      <td>0.000000</td>\n",
       "    </tr>\n",
       "    <tr>\n",
       "      <th>25%</th>\n",
       "      <td>0.000000</td>\n",
       "      <td>0.000000</td>\n",
       "    </tr>\n",
       "    <tr>\n",
       "      <th>50%</th>\n",
       "      <td>215.080000</td>\n",
       "      <td>0.020357</td>\n",
       "    </tr>\n",
       "    <tr>\n",
       "      <th>75%</th>\n",
       "      <td>9299.150000</td>\n",
       "      <td>0.239047</td>\n",
       "    </tr>\n",
       "    <tr>\n",
       "      <th>max</th>\n",
       "      <td>270319.000000</td>\n",
       "      <td>44.389241</td>\n",
       "    </tr>\n",
       "  </tbody>\n",
       "</table>\n",
       "</div>"
      ],
      "text/plain": [
       "          Amount_Due  AR_Percentage\n",
       "count   18305.000000   18305.000000\n",
       "mean     6059.637282       0.188729\n",
       "std     15282.359594       0.603247\n",
       "min     -1236.650000       0.000000\n",
       "25%         0.000000       0.000000\n",
       "50%       215.080000       0.020357\n",
       "75%      9299.150000       0.239047\n",
       "max    270319.000000      44.389241"
      ]
     },
     "execution_count": 11,
     "metadata": {},
     "output_type": "execute_result"
    }
   ],
   "source": [
    "labels.describe()"
   ]
  },
  {
   "cell_type": "code",
   "execution_count": 17,
   "id": "22abaa6c",
   "metadata": {},
   "outputs": [
    {
     "data": {
      "text/plain": [
       "Index(['ID', 'MM', 'CPT', 'REV_CD', 'Type', 'imt', 'Expect_Amount',\n",
       "       'TotPayment', 'Code'],\n",
       "      dtype='object')"
      ]
     },
     "execution_count": 17,
     "metadata": {},
     "output_type": "execute_result"
    }
   ],
   "source": [
    "account_details.columns"
   ]
  },
  {
   "cell_type": "code",
   "execution_count": 15,
   "id": "8b0bfd1c",
   "metadata": {},
   "outputs": [
    {
     "data": {
      "text/plain": [
       "Index(['ID', 'Amount_Due', 'AR_Dollar_threshold', 'AR_Percentage', 'AR_Exist'], dtype='object')"
      ]
     },
     "execution_count": 15,
     "metadata": {},
     "output_type": "execute_result"
    }
   ],
   "source": [
    "labels.columns"
   ]
  },
  {
   "cell_type": "code",
   "execution_count": 20,
   "id": "98eec497",
   "metadata": {},
   "outputs": [
    {
     "data": {
      "text/html": [
       "<div>\n",
       "<style scoped>\n",
       "    .dataframe tbody tr th:only-of-type {\n",
       "        vertical-align: middle;\n",
       "    }\n",
       "\n",
       "    .dataframe tbody tr th {\n",
       "        vertical-align: top;\n",
       "    }\n",
       "\n",
       "    .dataframe thead th {\n",
       "        text-align: right;\n",
       "    }\n",
       "</style>\n",
       "<table border=\"1\" class=\"dataframe\">\n",
       "  <thead>\n",
       "    <tr style=\"text-align: right;\">\n",
       "      <th></th>\n",
       "      <th>ID</th>\n",
       "      <th>Amount_Due</th>\n",
       "      <th>AR_Dollar_threshold</th>\n",
       "      <th>AR_Percentage</th>\n",
       "      <th>AR_Exist</th>\n",
       "    </tr>\n",
       "  </thead>\n",
       "  <tbody>\n",
       "    <tr>\n",
       "      <th>0</th>\n",
       "      <td>TEDEL21429317</td>\n",
       "      <td>70.38</td>\n",
       "      <td>False</td>\n",
       "      <td>1.000000</td>\n",
       "      <td>True</td>\n",
       "    </tr>\n",
       "    <tr>\n",
       "      <th>1</th>\n",
       "      <td>TEGSM76438944</td>\n",
       "      <td>6.01</td>\n",
       "      <td>False</td>\n",
       "      <td>0.029606</td>\n",
       "      <td>True</td>\n",
       "    </tr>\n",
       "    <tr>\n",
       "      <th>2</th>\n",
       "      <td>TEGSM76438944</td>\n",
       "      <td>6.01</td>\n",
       "      <td>False</td>\n",
       "      <td>0.029606</td>\n",
       "      <td>True</td>\n",
       "    </tr>\n",
       "    <tr>\n",
       "      <th>3</th>\n",
       "      <td>TEGSM76757665</td>\n",
       "      <td>5.22</td>\n",
       "      <td>False</td>\n",
       "      <td>0.134087</td>\n",
       "      <td>True</td>\n",
       "    </tr>\n",
       "    <tr>\n",
       "      <th>4</th>\n",
       "      <td>TEGSM78301736</td>\n",
       "      <td>398.00</td>\n",
       "      <td>True</td>\n",
       "      <td>1.000000</td>\n",
       "      <td>True</td>\n",
       "    </tr>\n",
       "    <tr>\n",
       "      <th>5</th>\n",
       "      <td>TEGSM78301736</td>\n",
       "      <td>398.00</td>\n",
       "      <td>True</td>\n",
       "      <td>1.000000</td>\n",
       "      <td>True</td>\n",
       "    </tr>\n",
       "    <tr>\n",
       "      <th>6</th>\n",
       "      <td>TEGSM78301736</td>\n",
       "      <td>398.00</td>\n",
       "      <td>True</td>\n",
       "      <td>1.000000</td>\n",
       "      <td>True</td>\n",
       "    </tr>\n",
       "    <tr>\n",
       "      <th>7</th>\n",
       "      <td>TEGSM78328200</td>\n",
       "      <td>1342.00</td>\n",
       "      <td>True</td>\n",
       "      <td>1.000000</td>\n",
       "      <td>True</td>\n",
       "    </tr>\n",
       "    <tr>\n",
       "      <th>8</th>\n",
       "      <td>TEGSM78328200</td>\n",
       "      <td>1342.00</td>\n",
       "      <td>True</td>\n",
       "      <td>1.000000</td>\n",
       "      <td>True</td>\n",
       "    </tr>\n",
       "    <tr>\n",
       "      <th>9</th>\n",
       "      <td>TEGSM78328200</td>\n",
       "      <td>1342.00</td>\n",
       "      <td>True</td>\n",
       "      <td>1.000000</td>\n",
       "      <td>True</td>\n",
       "    </tr>\n",
       "  </tbody>\n",
       "</table>\n",
       "</div>"
      ],
      "text/plain": [
       "              ID  Amount_Due  AR_Dollar_threshold  AR_Percentage  AR_Exist\n",
       "0  TEDEL21429317       70.38                False       1.000000      True\n",
       "1  TEGSM76438944        6.01                False       0.029606      True\n",
       "2  TEGSM76438944        6.01                False       0.029606      True\n",
       "3  TEGSM76757665        5.22                False       0.134087      True\n",
       "4  TEGSM78301736      398.00                 True       1.000000      True\n",
       "5  TEGSM78301736      398.00                 True       1.000000      True\n",
       "6  TEGSM78301736      398.00                 True       1.000000      True\n",
       "7  TEGSM78328200     1342.00                 True       1.000000      True\n",
       "8  TEGSM78328200     1342.00                 True       1.000000      True\n",
       "9  TEGSM78328200     1342.00                 True       1.000000      True"
      ]
     },
     "execution_count": 20,
     "metadata": {},
     "output_type": "execute_result"
    }
   ],
   "source": [
    "labels.head(10)"
   ]
  },
  {
   "cell_type": "code",
   "execution_count": 21,
   "id": "b3618b6f",
   "metadata": {
    "scrolled": true
   },
   "outputs": [
    {
     "data": {
      "text/html": [
       "<div>\n",
       "<style scoped>\n",
       "    .dataframe tbody tr th:only-of-type {\n",
       "        vertical-align: middle;\n",
       "    }\n",
       "\n",
       "    .dataframe tbody tr th {\n",
       "        vertical-align: top;\n",
       "    }\n",
       "\n",
       "    .dataframe thead th {\n",
       "        text-align: right;\n",
       "    }\n",
       "</style>\n",
       "<table border=\"1\" class=\"dataframe\">\n",
       "  <thead>\n",
       "    <tr style=\"text-align: right;\">\n",
       "      <th></th>\n",
       "      <th>ID</th>\n",
       "      <th>MM</th>\n",
       "      <th>CPT</th>\n",
       "      <th>REV_CD</th>\n",
       "      <th>Type</th>\n",
       "      <th>imt</th>\n",
       "      <th>Expect_Amount</th>\n",
       "      <th>TotPayment</th>\n",
       "      <th>Code</th>\n",
       "    </tr>\n",
       "  </thead>\n",
       "  <tbody>\n",
       "    <tr>\n",
       "      <th>0</th>\n",
       "      <td>TEDEL21429317</td>\n",
       "      <td>202</td>\n",
       "      <td>NaN</td>\n",
       "      <td>943</td>\n",
       "      <td>2</td>\n",
       "      <td>False</td>\n",
       "      <td>70.38</td>\n",
       "      <td>0.00</td>\n",
       "      <td>Other</td>\n",
       "    </tr>\n",
       "    <tr>\n",
       "      <th>1</th>\n",
       "      <td>TEGSM76438944</td>\n",
       "      <td>12</td>\n",
       "      <td>NaN</td>\n",
       "      <td>921</td>\n",
       "      <td>2</td>\n",
       "      <td>False</td>\n",
       "      <td>203.00</td>\n",
       "      <td>24.08</td>\n",
       "      <td>XR001</td>\n",
       "    </tr>\n",
       "    <tr>\n",
       "      <th>2</th>\n",
       "      <td>TEGSM76438944</td>\n",
       "      <td>12</td>\n",
       "      <td>NaN</td>\n",
       "      <td>320</td>\n",
       "      <td>2</td>\n",
       "      <td>False</td>\n",
       "      <td>203.00</td>\n",
       "      <td>24.08</td>\n",
       "      <td>XR001</td>\n",
       "    </tr>\n",
       "    <tr>\n",
       "      <th>3</th>\n",
       "      <td>TEGSM76757665</td>\n",
       "      <td>102</td>\n",
       "      <td>NaN</td>\n",
       "      <td>320</td>\n",
       "      <td>2</td>\n",
       "      <td>False</td>\n",
       "      <td>38.93</td>\n",
       "      <td>29.59</td>\n",
       "      <td>Other</td>\n",
       "    </tr>\n",
       "    <tr>\n",
       "      <th>4</th>\n",
       "      <td>TEGSM78301736</td>\n",
       "      <td>203</td>\n",
       "      <td>NaN</td>\n",
       "      <td>350</td>\n",
       "      <td>1</td>\n",
       "      <td>False</td>\n",
       "      <td>398.00</td>\n",
       "      <td>0.00</td>\n",
       "      <td>Other</td>\n",
       "    </tr>\n",
       "    <tr>\n",
       "      <th>5</th>\n",
       "      <td>TEGSM78301736</td>\n",
       "      <td>203</td>\n",
       "      <td>NaN</td>\n",
       "      <td>636</td>\n",
       "      <td>1</td>\n",
       "      <td>False</td>\n",
       "      <td>398.00</td>\n",
       "      <td>0.00</td>\n",
       "      <td>Other</td>\n",
       "    </tr>\n",
       "    <tr>\n",
       "      <th>6</th>\n",
       "      <td>TEGSM78301736</td>\n",
       "      <td>203</td>\n",
       "      <td>NaN</td>\n",
       "      <td>636</td>\n",
       "      <td>1</td>\n",
       "      <td>False</td>\n",
       "      <td>398.00</td>\n",
       "      <td>0.00</td>\n",
       "      <td>Other</td>\n",
       "    </tr>\n",
       "    <tr>\n",
       "      <th>7</th>\n",
       "      <td>TEGSM78328200</td>\n",
       "      <td>203</td>\n",
       "      <td>NaN</td>\n",
       "      <td>636</td>\n",
       "      <td>2</td>\n",
       "      <td>False</td>\n",
       "      <td>1342.00</td>\n",
       "      <td>885.68</td>\n",
       "      <td>Other</td>\n",
       "    </tr>\n",
       "    <tr>\n",
       "      <th>8</th>\n",
       "      <td>TEGSM78328200</td>\n",
       "      <td>203</td>\n",
       "      <td>NaN</td>\n",
       "      <td>341</td>\n",
       "      <td>2</td>\n",
       "      <td>False</td>\n",
       "      <td>1342.00</td>\n",
       "      <td>885.68</td>\n",
       "      <td>Other</td>\n",
       "    </tr>\n",
       "    <tr>\n",
       "      <th>9</th>\n",
       "      <td>TEGSM78328200</td>\n",
       "      <td>203</td>\n",
       "      <td>NaN</td>\n",
       "      <td>343</td>\n",
       "      <td>2</td>\n",
       "      <td>False</td>\n",
       "      <td>1342.00</td>\n",
       "      <td>885.68</td>\n",
       "      <td>Other</td>\n",
       "    </tr>\n",
       "  </tbody>\n",
       "</table>\n",
       "</div>"
      ],
      "text/plain": [
       "              ID   MM  CPT  REV_CD  Type    imt  Expect_Amount  TotPayment  \\\n",
       "0  TEDEL21429317  202  NaN     943     2  False          70.38        0.00   \n",
       "1  TEGSM76438944   12  NaN     921     2  False         203.00       24.08   \n",
       "2  TEGSM76438944   12  NaN     320     2  False         203.00       24.08   \n",
       "3  TEGSM76757665  102  NaN     320     2  False          38.93       29.59   \n",
       "4  TEGSM78301736  203  NaN     350     1  False         398.00        0.00   \n",
       "5  TEGSM78301736  203  NaN     636     1  False         398.00        0.00   \n",
       "6  TEGSM78301736  203  NaN     636     1  False         398.00        0.00   \n",
       "7  TEGSM78328200  203  NaN     636     2  False        1342.00      885.68   \n",
       "8  TEGSM78328200  203  NaN     341     2  False        1342.00      885.68   \n",
       "9  TEGSM78328200  203  NaN     343     2  False        1342.00      885.68   \n",
       "\n",
       "    Code  \n",
       "0  Other  \n",
       "1  XR001  \n",
       "2  XR001  \n",
       "3  Other  \n",
       "4  Other  \n",
       "5  Other  \n",
       "6  Other  \n",
       "7  Other  \n",
       "8  Other  \n",
       "9  Other  "
      ]
     },
     "execution_count": 21,
     "metadata": {},
     "output_type": "execute_result"
    }
   ],
   "source": [
    "account_details.head(10)"
   ]
  },
  {
   "cell_type": "markdown",
   "id": "0607cecf",
   "metadata": {},
   "source": [
    "### 2. Clean the data"
   ]
  },
  {
   "cell_type": "code",
   "execution_count": 22,
   "id": "98f5bdb9",
   "metadata": {},
   "outputs": [
    {
     "data": {
      "text/plain": [
       "ID                   0\n",
       "MM                   0\n",
       "CPT              16713\n",
       "REV_CD               0\n",
       "Type                 0\n",
       "imt                  0\n",
       "Expect_Amount        0\n",
       "TotPayment           0\n",
       "Code              8565\n",
       "dtype: int64"
      ]
     },
     "execution_count": 22,
     "metadata": {},
     "output_type": "execute_result"
    }
   ],
   "source": [
    "account_details.isna().sum()"
   ]
  },
  {
   "cell_type": "code",
   "execution_count": 23,
   "id": "7b9ecb54",
   "metadata": {},
   "outputs": [
    {
     "data": {
      "text/plain": [
       "ID                0.00\n",
       "MM                0.00\n",
       "CPT              91.30\n",
       "REV_CD            0.00\n",
       "Type              0.00\n",
       "imt               0.00\n",
       "Expect_Amount     0.00\n",
       "TotPayment        0.00\n",
       "Code             46.79\n",
       "dtype: float64"
      ]
     },
     "execution_count": 23,
     "metadata": {},
     "output_type": "execute_result"
    }
   ],
   "source": [
    "round(100*(account_details.isnull().sum()/len(account_details.index)), 2)"
   ]
  },
  {
   "cell_type": "code",
   "execution_count": 24,
   "id": "54f9395a",
   "metadata": {},
   "outputs": [],
   "source": [
    "account_details.drop('CPT', inplace=True, axis=1)"
   ]
  },
  {
   "cell_type": "code",
   "execution_count": 25,
   "id": "26d7abf1",
   "metadata": {},
   "outputs": [
    {
     "data": {
      "text/html": [
       "<div>\n",
       "<style scoped>\n",
       "    .dataframe tbody tr th:only-of-type {\n",
       "        vertical-align: middle;\n",
       "    }\n",
       "\n",
       "    .dataframe tbody tr th {\n",
       "        vertical-align: top;\n",
       "    }\n",
       "\n",
       "    .dataframe thead th {\n",
       "        text-align: right;\n",
       "    }\n",
       "</style>\n",
       "<table border=\"1\" class=\"dataframe\">\n",
       "  <thead>\n",
       "    <tr style=\"text-align: right;\">\n",
       "      <th></th>\n",
       "      <th>ID</th>\n",
       "      <th>MM</th>\n",
       "      <th>REV_CD</th>\n",
       "      <th>Type</th>\n",
       "      <th>imt</th>\n",
       "      <th>Expect_Amount</th>\n",
       "      <th>TotPayment</th>\n",
       "      <th>Code</th>\n",
       "    </tr>\n",
       "  </thead>\n",
       "  <tbody>\n",
       "    <tr>\n",
       "      <th>0</th>\n",
       "      <td>TEDEL21429317</td>\n",
       "      <td>202</td>\n",
       "      <td>943</td>\n",
       "      <td>2</td>\n",
       "      <td>False</td>\n",
       "      <td>70.38</td>\n",
       "      <td>0.00</td>\n",
       "      <td>Other</td>\n",
       "    </tr>\n",
       "    <tr>\n",
       "      <th>1</th>\n",
       "      <td>TEGSM76438944</td>\n",
       "      <td>12</td>\n",
       "      <td>921</td>\n",
       "      <td>2</td>\n",
       "      <td>False</td>\n",
       "      <td>203.00</td>\n",
       "      <td>24.08</td>\n",
       "      <td>XR001</td>\n",
       "    </tr>\n",
       "    <tr>\n",
       "      <th>2</th>\n",
       "      <td>TEGSM76438944</td>\n",
       "      <td>12</td>\n",
       "      <td>320</td>\n",
       "      <td>2</td>\n",
       "      <td>False</td>\n",
       "      <td>203.00</td>\n",
       "      <td>24.08</td>\n",
       "      <td>XR001</td>\n",
       "    </tr>\n",
       "    <tr>\n",
       "      <th>3</th>\n",
       "      <td>TEGSM76757665</td>\n",
       "      <td>102</td>\n",
       "      <td>320</td>\n",
       "      <td>2</td>\n",
       "      <td>False</td>\n",
       "      <td>38.93</td>\n",
       "      <td>29.59</td>\n",
       "      <td>Other</td>\n",
       "    </tr>\n",
       "    <tr>\n",
       "      <th>4</th>\n",
       "      <td>TEGSM78301736</td>\n",
       "      <td>203</td>\n",
       "      <td>350</td>\n",
       "      <td>1</td>\n",
       "      <td>False</td>\n",
       "      <td>398.00</td>\n",
       "      <td>0.00</td>\n",
       "      <td>Other</td>\n",
       "    </tr>\n",
       "    <tr>\n",
       "      <th>5</th>\n",
       "      <td>TEGSM78301736</td>\n",
       "      <td>203</td>\n",
       "      <td>636</td>\n",
       "      <td>1</td>\n",
       "      <td>False</td>\n",
       "      <td>398.00</td>\n",
       "      <td>0.00</td>\n",
       "      <td>Other</td>\n",
       "    </tr>\n",
       "    <tr>\n",
       "      <th>6</th>\n",
       "      <td>TEGSM78301736</td>\n",
       "      <td>203</td>\n",
       "      <td>636</td>\n",
       "      <td>1</td>\n",
       "      <td>False</td>\n",
       "      <td>398.00</td>\n",
       "      <td>0.00</td>\n",
       "      <td>Other</td>\n",
       "    </tr>\n",
       "    <tr>\n",
       "      <th>7</th>\n",
       "      <td>TEGSM78328200</td>\n",
       "      <td>203</td>\n",
       "      <td>636</td>\n",
       "      <td>2</td>\n",
       "      <td>False</td>\n",
       "      <td>1342.00</td>\n",
       "      <td>885.68</td>\n",
       "      <td>Other</td>\n",
       "    </tr>\n",
       "    <tr>\n",
       "      <th>8</th>\n",
       "      <td>TEGSM78328200</td>\n",
       "      <td>203</td>\n",
       "      <td>341</td>\n",
       "      <td>2</td>\n",
       "      <td>False</td>\n",
       "      <td>1342.00</td>\n",
       "      <td>885.68</td>\n",
       "      <td>Other</td>\n",
       "    </tr>\n",
       "    <tr>\n",
       "      <th>9</th>\n",
       "      <td>TEGSM78328200</td>\n",
       "      <td>203</td>\n",
       "      <td>343</td>\n",
       "      <td>2</td>\n",
       "      <td>False</td>\n",
       "      <td>1342.00</td>\n",
       "      <td>885.68</td>\n",
       "      <td>Other</td>\n",
       "    </tr>\n",
       "    <tr>\n",
       "      <th>10</th>\n",
       "      <td>TEGSM78328200</td>\n",
       "      <td>203</td>\n",
       "      <td>482</td>\n",
       "      <td>2</td>\n",
       "      <td>False</td>\n",
       "      <td>1342.00</td>\n",
       "      <td>885.68</td>\n",
       "      <td>Other</td>\n",
       "    </tr>\n",
       "    <tr>\n",
       "      <th>11</th>\n",
       "      <td>TEPBG26069526</td>\n",
       "      <td>203</td>\n",
       "      <td>943</td>\n",
       "      <td>2</td>\n",
       "      <td>False</td>\n",
       "      <td>286.08</td>\n",
       "      <td>0.00</td>\n",
       "      <td>Other</td>\n",
       "    </tr>\n",
       "    <tr>\n",
       "      <th>12</th>\n",
       "      <td>TEPBG26069526</td>\n",
       "      <td>203</td>\n",
       "      <td>943</td>\n",
       "      <td>2</td>\n",
       "      <td>False</td>\n",
       "      <td>286.08</td>\n",
       "      <td>0.00</td>\n",
       "      <td>Other</td>\n",
       "    </tr>\n",
       "    <tr>\n",
       "      <th>13</th>\n",
       "      <td>TEPBG26069526</td>\n",
       "      <td>203</td>\n",
       "      <td>943</td>\n",
       "      <td>2</td>\n",
       "      <td>False</td>\n",
       "      <td>286.08</td>\n",
       "      <td>0.00</td>\n",
       "      <td>Other</td>\n",
       "    </tr>\n",
       "    <tr>\n",
       "      <th>14</th>\n",
       "      <td>TEPBG26069526</td>\n",
       "      <td>203</td>\n",
       "      <td>943</td>\n",
       "      <td>2</td>\n",
       "      <td>False</td>\n",
       "      <td>286.08</td>\n",
       "      <td>0.00</td>\n",
       "      <td>Other</td>\n",
       "    </tr>\n",
       "    <tr>\n",
       "      <th>15</th>\n",
       "      <td>TEPBG26085738</td>\n",
       "      <td>203</td>\n",
       "      <td>320</td>\n",
       "      <td>1</td>\n",
       "      <td>False</td>\n",
       "      <td>208.00</td>\n",
       "      <td>0.00</td>\n",
       "      <td>Other</td>\n",
       "    </tr>\n",
       "    <tr>\n",
       "      <th>16</th>\n",
       "      <td>TEDEL19469808</td>\n",
       "      <td>1</td>\n",
       "      <td>636</td>\n",
       "      <td>2</td>\n",
       "      <td>False</td>\n",
       "      <td>27166.00</td>\n",
       "      <td>21522.00</td>\n",
       "      <td>MR080</td>\n",
       "    </tr>\n",
       "    <tr>\n",
       "      <th>17</th>\n",
       "      <td>TEDEL19469808</td>\n",
       "      <td>1</td>\n",
       "      <td>370</td>\n",
       "      <td>2</td>\n",
       "      <td>False</td>\n",
       "      <td>27166.00</td>\n",
       "      <td>21522.00</td>\n",
       "      <td>MR080</td>\n",
       "    </tr>\n",
       "    <tr>\n",
       "      <th>18</th>\n",
       "      <td>TEDEL19469808</td>\n",
       "      <td>1</td>\n",
       "      <td>636</td>\n",
       "      <td>2</td>\n",
       "      <td>False</td>\n",
       "      <td>27166.00</td>\n",
       "      <td>21522.00</td>\n",
       "      <td>MR080</td>\n",
       "    </tr>\n",
       "    <tr>\n",
       "      <th>19</th>\n",
       "      <td>TEDEL19469808</td>\n",
       "      <td>1</td>\n",
       "      <td>300</td>\n",
       "      <td>2</td>\n",
       "      <td>False</td>\n",
       "      <td>27166.00</td>\n",
       "      <td>21522.00</td>\n",
       "      <td>MR080</td>\n",
       "    </tr>\n",
       "  </tbody>\n",
       "</table>\n",
       "</div>"
      ],
      "text/plain": [
       "               ID   MM  REV_CD  Type    imt  Expect_Amount  TotPayment   Code\n",
       "0   TEDEL21429317  202     943     2  False          70.38        0.00  Other\n",
       "1   TEGSM76438944   12     921     2  False         203.00       24.08  XR001\n",
       "2   TEGSM76438944   12     320     2  False         203.00       24.08  XR001\n",
       "3   TEGSM76757665  102     320     2  False          38.93       29.59  Other\n",
       "4   TEGSM78301736  203     350     1  False         398.00        0.00  Other\n",
       "5   TEGSM78301736  203     636     1  False         398.00        0.00  Other\n",
       "6   TEGSM78301736  203     636     1  False         398.00        0.00  Other\n",
       "7   TEGSM78328200  203     636     2  False        1342.00      885.68  Other\n",
       "8   TEGSM78328200  203     341     2  False        1342.00      885.68  Other\n",
       "9   TEGSM78328200  203     343     2  False        1342.00      885.68  Other\n",
       "10  TEGSM78328200  203     482     2  False        1342.00      885.68  Other\n",
       "11  TEPBG26069526  203     943     2  False         286.08        0.00  Other\n",
       "12  TEPBG26069526  203     943     2  False         286.08        0.00  Other\n",
       "13  TEPBG26069526  203     943     2  False         286.08        0.00  Other\n",
       "14  TEPBG26069526  203     943     2  False         286.08        0.00  Other\n",
       "15  TEPBG26085738  203     320     1  False         208.00        0.00  Other\n",
       "16  TEDEL19469808    1     636     2  False       27166.00    21522.00  MR080\n",
       "17  TEDEL19469808    1     370     2  False       27166.00    21522.00  MR080\n",
       "18  TEDEL19469808    1     636     2  False       27166.00    21522.00  MR080\n",
       "19  TEDEL19469808    1     300     2  False       27166.00    21522.00  MR080"
      ]
     },
     "execution_count": 25,
     "metadata": {},
     "output_type": "execute_result"
    }
   ],
   "source": [
    "account_details.head(20)"
   ]
  },
  {
   "cell_type": "code",
   "execution_count": 26,
   "id": "e2cbd741",
   "metadata": {},
   "outputs": [
    {
     "data": {
      "text/plain": [
       "16477"
      ]
     },
     "execution_count": 26,
     "metadata": {},
     "output_type": "execute_result"
    }
   ],
   "source": [
    "account_details['REV_CD'].value_counts().head(10).sum()"
   ]
  },
  {
   "cell_type": "code",
   "execution_count": 28,
   "id": "4f56a2d8",
   "metadata": {},
   "outputs": [
    {
     "data": {
      "text/plain": [
       "<AxesSubplot:ylabel='Type'>"
      ]
     },
     "execution_count": 28,
     "metadata": {},
     "output_type": "execute_result"
    },
    {
     "data": {
      "image/png": "[encoded data removed]",
      "text/plain": [
       "<Figure size 432x288 with 1 Axes>"
      ]
     },
     "metadata": {},
     "output_type": "display_data"
    }
   ],
   "source": [
    "account_details['Type'].value_counts().plot.pie()"
   ]
  },
  {
   "cell_type": "code",
   "execution_count": 29,
   "id": "b5f9c474",
   "metadata": {},
   "outputs": [
    {
     "data": {
      "text/plain": [
       "<AxesSubplot:ylabel='imt'>"
      ]
     },
     "execution_count": 29,
     "metadata": {},
     "output_type": "execute_result"
    },
    {
     "data": {
      "image/png": "[encoded data removed]",
      "text/plain": [
       "<Figure size 432x288 with 1 Axes>"
      ]
     },
     "metadata": {},
     "output_type": "display_data"
    }
   ],
   "source": [
    "account_details['imt'].value_counts().plot.pie()"
   ]
  },
  {
   "cell_type": "code",
   "execution_count": 31,
   "id": "b9fa04e6",
   "metadata": {},
   "outputs": [
    {
     "data": {
      "image/png": "[encoded data removed]",
      "text/plain": [
       "<Figure size 432x288 with 2 Axes>"
      ]
     },
     "metadata": {
      "needs_background": "light"
     },
     "output_type": "display_data"
    }
   ],
   "source": [
    "sns.heatmap(account_details.corr(), cmap=\"YlGnBu\", annot = True)\n",
    "plt.show()"
   ]
  },
  {
   "cell_type": "code",
   "execution_count": 32,
   "id": "75bdff4f",
   "metadata": {},
   "outputs": [
    {
     "data": {
      "image/png": "[encoded data removed]",
      "text/plain": [
       "<Figure size 432x288 with 2 Axes>"
      ]
     },
     "metadata": {
      "needs_background": "light"
     },
     "output_type": "display_data"
    }
   ],
   "source": [
    "sns.heatmap(labels.corr(), cmap=\"YlGnBu\", annot = True)\n",
    "plt.show()"
   ]
  },
  {
   "cell_type": "code",
   "execution_count": 33,
   "id": "104761f3",
   "metadata": {},
   "outputs": [
    {
     "data": {
      "image/png": "[encoded data removed]",
      "text/plain": [
       "<Figure size 360x180 with 2 Axes>"
      ]
     },
     "metadata": {
      "needs_background": "light"
     },
     "output_type": "display_data"
    }
   ],
   "source": [
    "sns.pairplot(labels, x_vars=['Amount_Due','AR_Percentage'], y_vars='ID',kind='scatter')\n",
    "plt.show()"
   ]
  },
  {
   "cell_type": "code",
   "execution_count": 34,
   "id": "0d9010fd",
   "metadata": {},
   "outputs": [
    {
     "data": {
      "text/plain": [
       "<AxesSubplot:xlabel='Expect_Amount'>"
      ]
     },
     "execution_count": 34,
     "metadata": {},
     "output_type": "execute_result"
    },
    {
     "data": {
      "image/png": "[encoded data removed]",
      "text/plain": [
       "<Figure size 432x288 with 1 Axes>"
      ]
     },
     "metadata": {
      "needs_background": "light"
     },
     "output_type": "display_data"
    }
   ],
   "source": [
    "sns.boxplot(account_details['Expect_Amount'])"
   ]
  },
  {
   "cell_type": "code",
   "execution_count": 35,
   "id": "20a81d41",
   "metadata": {},
   "outputs": [
    {
     "data": {
      "text/plain": [
       "<AxesSubplot:xlabel='TotPayment'>"
      ]
     },
     "execution_count": 35,
     "metadata": {},
     "output_type": "execute_result"
    },
    {
     "data": {
      "image/png": "[encoded data removed]",
      "text/plain": [
       "<Figure size 432x288 with 1 Axes>"
      ]
     },
     "metadata": {
      "needs_background": "light"
     },
     "output_type": "display_data"
    }
   ],
   "source": [
    "sns.boxplot(account_details['TotPayment'])"
   ]
  },
  {
   "cell_type": "code",
   "execution_count": 36,
   "id": "11545a97",
   "metadata": {},
   "outputs": [
    {
     "data": {
      "text/plain": [
       "<AxesSubplot:xlabel='REV_CD'>"
      ]
     },
     "execution_count": 36,
     "metadata": {},
     "output_type": "execute_result"
    },
    {
     "data": {
      "image/png": "[encoded data removed]",
      "text/plain": [
       "<Figure size 432x288 with 1 Axes>"
      ]
     },
     "metadata": {
      "needs_background": "light"
     },
     "output_type": "display_data"
    }
   ],
   "source": [
    "sns.boxplot(account_details['REV_CD'])"
   ]
  },
  {
   "cell_type": "code",
   "execution_count": 37,
   "id": "e31ca0de",
   "metadata": {},
   "outputs": [],
   "source": [
    "# Merging on 'ID'\n",
    "New_df = pd.merge(account_details, labels, how='inner', on='ID')"
   ]
  },
  {
   "cell_type": "code",
   "execution_count": 38,
   "id": "18f8dbd0",
   "metadata": {},
   "outputs": [
    {
     "data": {
      "text/html": [
       "<div>\n",
       "<style scoped>\n",
       "    .dataframe tbody tr th:only-of-type {\n",
       "        vertical-align: middle;\n",
       "    }\n",
       "\n",
       "    .dataframe tbody tr th {\n",
       "        vertical-align: top;\n",
       "    }\n",
       "\n",
       "    .dataframe thead th {\n",
       "        text-align: right;\n",
       "    }\n",
       "</style>\n",
       "<table border=\"1\" class=\"dataframe\">\n",
       "  <thead>\n",
       "    <tr style=\"text-align: right;\">\n",
       "      <th></th>\n",
       "      <th>ID</th>\n",
       "      <th>MM</th>\n",
       "      <th>REV_CD</th>\n",
       "      <th>Type</th>\n",
       "      <th>imt</th>\n",
       "      <th>Expect_Amount</th>\n",
       "      <th>TotPayment</th>\n",
       "      <th>Code</th>\n",
       "      <th>Amount_Due</th>\n",
       "      <th>AR_Dollar_threshold</th>\n",
       "      <th>AR_Percentage</th>\n",
       "      <th>AR_Exist</th>\n",
       "    </tr>\n",
       "  </thead>\n",
       "  <tbody>\n",
       "    <tr>\n",
       "      <th>0</th>\n",
       "      <td>TEDEL21429317</td>\n",
       "      <td>202</td>\n",
       "      <td>943</td>\n",
       "      <td>2</td>\n",
       "      <td>False</td>\n",
       "      <td>70.38</td>\n",
       "      <td>0.00</td>\n",
       "      <td>Other</td>\n",
       "      <td>70.38</td>\n",
       "      <td>False</td>\n",
       "      <td>1.000000</td>\n",
       "      <td>True</td>\n",
       "    </tr>\n",
       "    <tr>\n",
       "      <th>1</th>\n",
       "      <td>TEGSM76438944</td>\n",
       "      <td>12</td>\n",
       "      <td>921</td>\n",
       "      <td>2</td>\n",
       "      <td>False</td>\n",
       "      <td>203.00</td>\n",
       "      <td>24.08</td>\n",
       "      <td>XR001</td>\n",
       "      <td>6.01</td>\n",
       "      <td>False</td>\n",
       "      <td>0.029606</td>\n",
       "      <td>True</td>\n",
       "    </tr>\n",
       "    <tr>\n",
       "      <th>2</th>\n",
       "      <td>TEGSM76438944</td>\n",
       "      <td>12</td>\n",
       "      <td>921</td>\n",
       "      <td>2</td>\n",
       "      <td>False</td>\n",
       "      <td>203.00</td>\n",
       "      <td>24.08</td>\n",
       "      <td>XR001</td>\n",
       "      <td>6.01</td>\n",
       "      <td>False</td>\n",
       "      <td>0.029606</td>\n",
       "      <td>True</td>\n",
       "    </tr>\n",
       "    <tr>\n",
       "      <th>3</th>\n",
       "      <td>TEGSM76438944</td>\n",
       "      <td>12</td>\n",
       "      <td>320</td>\n",
       "      <td>2</td>\n",
       "      <td>False</td>\n",
       "      <td>203.00</td>\n",
       "      <td>24.08</td>\n",
       "      <td>XR001</td>\n",
       "      <td>6.01</td>\n",
       "      <td>False</td>\n",
       "      <td>0.029606</td>\n",
       "      <td>True</td>\n",
       "    </tr>\n",
       "    <tr>\n",
       "      <th>4</th>\n",
       "      <td>TEGSM76438944</td>\n",
       "      <td>12</td>\n",
       "      <td>320</td>\n",
       "      <td>2</td>\n",
       "      <td>False</td>\n",
       "      <td>203.00</td>\n",
       "      <td>24.08</td>\n",
       "      <td>XR001</td>\n",
       "      <td>6.01</td>\n",
       "      <td>False</td>\n",
       "      <td>0.029606</td>\n",
       "      <td>True</td>\n",
       "    </tr>\n",
       "    <tr>\n",
       "      <th>...</th>\n",
       "      <td>...</td>\n",
       "      <td>...</td>\n",
       "      <td>...</td>\n",
       "      <td>...</td>\n",
       "      <td>...</td>\n",
       "      <td>...</td>\n",
       "      <td>...</td>\n",
       "      <td>...</td>\n",
       "      <td>...</td>\n",
       "      <td>...</td>\n",
       "      <td>...</td>\n",
       "      <td>...</td>\n",
       "    </tr>\n",
       "    <tr>\n",
       "      <th>452860</th>\n",
       "      <td>TEWBO104339778</td>\n",
       "      <td>203</td>\n",
       "      <td>710</td>\n",
       "      <td>2</td>\n",
       "      <td>False</td>\n",
       "      <td>2335.00</td>\n",
       "      <td>2335.00</td>\n",
       "      <td>NaN</td>\n",
       "      <td>0.00</td>\n",
       "      <td>False</td>\n",
       "      <td>0.000000</td>\n",
       "      <td>False</td>\n",
       "    </tr>\n",
       "    <tr>\n",
       "      <th>452861</th>\n",
       "      <td>TEWBO104339778</td>\n",
       "      <td>203</td>\n",
       "      <td>710</td>\n",
       "      <td>2</td>\n",
       "      <td>False</td>\n",
       "      <td>2335.00</td>\n",
       "      <td>2335.00</td>\n",
       "      <td>NaN</td>\n",
       "      <td>0.00</td>\n",
       "      <td>False</td>\n",
       "      <td>0.000000</td>\n",
       "      <td>False</td>\n",
       "    </tr>\n",
       "    <tr>\n",
       "      <th>452862</th>\n",
       "      <td>TEWBO104339778</td>\n",
       "      <td>203</td>\n",
       "      <td>710</td>\n",
       "      <td>2</td>\n",
       "      <td>False</td>\n",
       "      <td>2335.00</td>\n",
       "      <td>2335.00</td>\n",
       "      <td>NaN</td>\n",
       "      <td>0.00</td>\n",
       "      <td>False</td>\n",
       "      <td>0.000000</td>\n",
       "      <td>False</td>\n",
       "    </tr>\n",
       "    <tr>\n",
       "      <th>452863</th>\n",
       "      <td>TEWBO104339778</td>\n",
       "      <td>203</td>\n",
       "      <td>710</td>\n",
       "      <td>2</td>\n",
       "      <td>False</td>\n",
       "      <td>2335.00</td>\n",
       "      <td>2335.00</td>\n",
       "      <td>NaN</td>\n",
       "      <td>0.00</td>\n",
       "      <td>False</td>\n",
       "      <td>0.000000</td>\n",
       "      <td>False</td>\n",
       "    </tr>\n",
       "    <tr>\n",
       "      <th>452864</th>\n",
       "      <td>TEWBO104378579</td>\n",
       "      <td>202</td>\n",
       "      <td>480</td>\n",
       "      <td>2</td>\n",
       "      <td>False</td>\n",
       "      <td>845.00</td>\n",
       "      <td>845.00</td>\n",
       "      <td>NaN</td>\n",
       "      <td>0.00</td>\n",
       "      <td>False</td>\n",
       "      <td>0.000000</td>\n",
       "      <td>False</td>\n",
       "    </tr>\n",
       "  </tbody>\n",
       "</table>\n",
       "<p>452865 rows × 12 columns</p>\n",
       "</div>"
      ],
      "text/plain": [
       "                    ID   MM  REV_CD  Type    imt  Expect_Amount  TotPayment  \\\n",
       "0        TEDEL21429317  202     943     2  False          70.38        0.00   \n",
       "1        TEGSM76438944   12     921     2  False         203.00       24.08   \n",
       "2        TEGSM76438944   12     921     2  False         203.00       24.08   \n",
       "3        TEGSM76438944   12     320     2  False         203.00       24.08   \n",
       "4        TEGSM76438944   12     320     2  False         203.00       24.08   \n",
       "...                ...  ...     ...   ...    ...            ...         ...   \n",
       "452860  TEWBO104339778  203     710     2  False        2335.00     2335.00   \n",
       "452861  TEWBO104339778  203     710     2  False        2335.00     2335.00   \n",
       "452862  TEWBO104339778  203     710     2  False        2335.00     2335.00   \n",
       "452863  TEWBO104339778  203     710     2  False        2335.00     2335.00   \n",
       "452864  TEWBO104378579  202     480     2  False         845.00      845.00   \n",
       "\n",
       "         Code  Amount_Due  AR_Dollar_threshold  AR_Percentage  AR_Exist  \n",
       "0       Other       70.38                False       1.000000      True  \n",
       "1       XR001        6.01                False       0.029606      True  \n",
       "2       XR001        6.01                False       0.029606      True  \n",
       "3       XR001        6.01                False       0.029606      True  \n",
       "4       XR001        6.01                False       0.029606      True  \n",
       "...       ...         ...                  ...            ...       ...  \n",
       "452860    NaN        0.00                False       0.000000     False  \n",
       "452861    NaN        0.00                False       0.000000     False  \n",
       "452862    NaN        0.00                False       0.000000     False  \n",
       "452863    NaN        0.00                False       0.000000     False  \n",
       "452864    NaN        0.00                False       0.000000     False  \n",
       "\n",
       "[452865 rows x 12 columns]"
      ]
     },
     "execution_count": 38,
     "metadata": {},
     "output_type": "execute_result"
    }
   ],
   "source": [
    "New_df"
   ]
  },
  {
   "cell_type": "code",
   "execution_count": 39,
   "id": "2fb7fbfe",
   "metadata": {},
   "outputs": [
    {
     "data": {
      "text/plain": [
       "(452865, 12)"
      ]
     },
     "execution_count": 39,
     "metadata": {},
     "output_type": "execute_result"
    }
   ],
   "source": [
    "New_df.shape"
   ]
  },
  {
   "cell_type": "code",
   "execution_count": 40,
   "id": "c8bba749",
   "metadata": {},
   "outputs": [
    {
     "data": {
      "text/plain": [
       "0.00        139723\n",
       "11738.72      3136\n",
       "16819.21      2916\n",
       "22387.25      2809\n",
       "9638.47       2809\n",
       "             ...  \n",
       "190.37           1\n",
       "208.00           1\n",
       "5.22             1\n",
       "400.01           1\n",
       "105.80           1\n",
       "Name: Amount_Due, Length: 468, dtype: int64"
      ]
     },
     "execution_count": 40,
     "metadata": {},
     "output_type": "execute_result"
    }
   ],
   "source": [
    "New_df['Amount_Due'].value_counts()"
   ]
  },
  {
   "cell_type": "markdown",
   "id": "a23c6ee1",
   "metadata": {},
   "source": [
    "Deleting Amount value is equal to 0 because of no due"
   ]
  },
  {
   "cell_type": "code",
   "execution_count": 41,
   "id": "6cfaed4f",
   "metadata": {
    "scrolled": true
   },
   "outputs": [
    {
     "data": {
      "text/html": [
       "<div>\n",
       "<style scoped>\n",
       "    .dataframe tbody tr th:only-of-type {\n",
       "        vertical-align: middle;\n",
       "    }\n",
       "\n",
       "    .dataframe tbody tr th {\n",
       "        vertical-align: top;\n",
       "    }\n",
       "\n",
       "    .dataframe thead th {\n",
       "        text-align: right;\n",
       "    }\n",
       "</style>\n",
       "<table border=\"1\" class=\"dataframe\">\n",
       "  <thead>\n",
       "    <tr style=\"text-align: right;\">\n",
       "      <th></th>\n",
       "      <th>ID</th>\n",
       "      <th>MM</th>\n",
       "      <th>REV_CD</th>\n",
       "      <th>Type</th>\n",
       "      <th>imt</th>\n",
       "      <th>Expect_Amount</th>\n",
       "      <th>TotPayment</th>\n",
       "      <th>Code</th>\n",
       "      <th>Amount_Due</th>\n",
       "      <th>AR_Dollar_threshold</th>\n",
       "      <th>AR_Percentage</th>\n",
       "      <th>AR_Exist</th>\n",
       "    </tr>\n",
       "  </thead>\n",
       "  <tbody>\n",
       "    <tr>\n",
       "      <th>0</th>\n",
       "      <td>TEDEL21429317</td>\n",
       "      <td>202</td>\n",
       "      <td>943</td>\n",
       "      <td>2</td>\n",
       "      <td>False</td>\n",
       "      <td>70.38</td>\n",
       "      <td>0.00</td>\n",
       "      <td>Other</td>\n",
       "      <td>70.38</td>\n",
       "      <td>False</td>\n",
       "      <td>1.000000</td>\n",
       "      <td>True</td>\n",
       "    </tr>\n",
       "    <tr>\n",
       "      <th>1</th>\n",
       "      <td>TEGSM76438944</td>\n",
       "      <td>12</td>\n",
       "      <td>921</td>\n",
       "      <td>2</td>\n",
       "      <td>False</td>\n",
       "      <td>203.00</td>\n",
       "      <td>24.08</td>\n",
       "      <td>XR001</td>\n",
       "      <td>6.01</td>\n",
       "      <td>False</td>\n",
       "      <td>0.029606</td>\n",
       "      <td>True</td>\n",
       "    </tr>\n",
       "    <tr>\n",
       "      <th>2</th>\n",
       "      <td>TEGSM76438944</td>\n",
       "      <td>12</td>\n",
       "      <td>921</td>\n",
       "      <td>2</td>\n",
       "      <td>False</td>\n",
       "      <td>203.00</td>\n",
       "      <td>24.08</td>\n",
       "      <td>XR001</td>\n",
       "      <td>6.01</td>\n",
       "      <td>False</td>\n",
       "      <td>0.029606</td>\n",
       "      <td>True</td>\n",
       "    </tr>\n",
       "    <tr>\n",
       "      <th>3</th>\n",
       "      <td>TEGSM76438944</td>\n",
       "      <td>12</td>\n",
       "      <td>320</td>\n",
       "      <td>2</td>\n",
       "      <td>False</td>\n",
       "      <td>203.00</td>\n",
       "      <td>24.08</td>\n",
       "      <td>XR001</td>\n",
       "      <td>6.01</td>\n",
       "      <td>False</td>\n",
       "      <td>0.029606</td>\n",
       "      <td>True</td>\n",
       "    </tr>\n",
       "    <tr>\n",
       "      <th>4</th>\n",
       "      <td>TEGSM76438944</td>\n",
       "      <td>12</td>\n",
       "      <td>320</td>\n",
       "      <td>2</td>\n",
       "      <td>False</td>\n",
       "      <td>203.00</td>\n",
       "      <td>24.08</td>\n",
       "      <td>XR001</td>\n",
       "      <td>6.01</td>\n",
       "      <td>False</td>\n",
       "      <td>0.029606</td>\n",
       "      <td>True</td>\n",
       "    </tr>\n",
       "    <tr>\n",
       "      <th>5</th>\n",
       "      <td>TEGSM76757665</td>\n",
       "      <td>102</td>\n",
       "      <td>320</td>\n",
       "      <td>2</td>\n",
       "      <td>False</td>\n",
       "      <td>38.93</td>\n",
       "      <td>29.59</td>\n",
       "      <td>Other</td>\n",
       "      <td>5.22</td>\n",
       "      <td>False</td>\n",
       "      <td>0.134087</td>\n",
       "      <td>True</td>\n",
       "    </tr>\n",
       "    <tr>\n",
       "      <th>6</th>\n",
       "      <td>TEGSM78301736</td>\n",
       "      <td>203</td>\n",
       "      <td>350</td>\n",
       "      <td>1</td>\n",
       "      <td>False</td>\n",
       "      <td>398.00</td>\n",
       "      <td>0.00</td>\n",
       "      <td>Other</td>\n",
       "      <td>398.00</td>\n",
       "      <td>True</td>\n",
       "      <td>1.000000</td>\n",
       "      <td>True</td>\n",
       "    </tr>\n",
       "    <tr>\n",
       "      <th>7</th>\n",
       "      <td>TEGSM78301736</td>\n",
       "      <td>203</td>\n",
       "      <td>350</td>\n",
       "      <td>1</td>\n",
       "      <td>False</td>\n",
       "      <td>398.00</td>\n",
       "      <td>0.00</td>\n",
       "      <td>Other</td>\n",
       "      <td>398.00</td>\n",
       "      <td>True</td>\n",
       "      <td>1.000000</td>\n",
       "      <td>True</td>\n",
       "    </tr>\n",
       "    <tr>\n",
       "      <th>8</th>\n",
       "      <td>TEGSM78301736</td>\n",
       "      <td>203</td>\n",
       "      <td>350</td>\n",
       "      <td>1</td>\n",
       "      <td>False</td>\n",
       "      <td>398.00</td>\n",
       "      <td>0.00</td>\n",
       "      <td>Other</td>\n",
       "      <td>398.00</td>\n",
       "      <td>True</td>\n",
       "      <td>1.000000</td>\n",
       "      <td>True</td>\n",
       "    </tr>\n",
       "    <tr>\n",
       "      <th>9</th>\n",
       "      <td>TEGSM78301736</td>\n",
       "      <td>203</td>\n",
       "      <td>636</td>\n",
       "      <td>1</td>\n",
       "      <td>False</td>\n",
       "      <td>398.00</td>\n",
       "      <td>0.00</td>\n",
       "      <td>Other</td>\n",
       "      <td>398.00</td>\n",
       "      <td>True</td>\n",
       "      <td>1.000000</td>\n",
       "      <td>True</td>\n",
       "    </tr>\n",
       "  </tbody>\n",
       "</table>\n",
       "</div>"
      ],
      "text/plain": [
       "              ID   MM  REV_CD  Type    imt  Expect_Amount  TotPayment   Code  \\\n",
       "0  TEDEL21429317  202     943     2  False          70.38        0.00  Other   \n",
       "1  TEGSM76438944   12     921     2  False         203.00       24.08  XR001   \n",
       "2  TEGSM76438944   12     921     2  False         203.00       24.08  XR001   \n",
       "3  TEGSM76438944   12     320     2  False         203.00       24.08  XR001   \n",
       "4  TEGSM76438944   12     320     2  False         203.00       24.08  XR001   \n",
       "5  TEGSM76757665  102     320     2  False          38.93       29.59  Other   \n",
       "6  TEGSM78301736  203     350     1  False         398.00        0.00  Other   \n",
       "7  TEGSM78301736  203     350     1  False         398.00        0.00  Other   \n",
       "8  TEGSM78301736  203     350     1  False         398.00        0.00  Other   \n",
       "9  TEGSM78301736  203     636     1  False         398.00        0.00  Other   \n",
       "\n",
       "   Amount_Due  AR_Dollar_threshold  AR_Percentage  AR_Exist  \n",
       "0       70.38                False       1.000000      True  \n",
       "1        6.01                False       0.029606      True  \n",
       "2        6.01                False       0.029606      True  \n",
       "3        6.01                False       0.029606      True  \n",
       "4        6.01                False       0.029606      True  \n",
       "5        5.22                False       0.134087      True  \n",
       "6      398.00                 True       1.000000      True  \n",
       "7      398.00                 True       1.000000      True  \n",
       "8      398.00                 True       1.000000      True  \n",
       "9      398.00                 True       1.000000      True  "
      ]
     },
     "execution_count": 41,
     "metadata": {},
     "output_type": "execute_result"
    }
   ],
   "source": [
    "New_df = New_df.loc[~((New_df['Amount_Due'] == 0) | (New_df['Amount_Due'] == 0))]\n",
    "New_df.head(10)"
   ]
  },
  {
   "cell_type": "code",
   "execution_count": 50,
   "id": "de03a481",
   "metadata": {
    "scrolled": true
   },
   "outputs": [
    {
     "data": {
      "text/plain": [
       "(313142, 12)"
      ]
     },
     "execution_count": 50,
     "metadata": {},
     "output_type": "execute_result"
    }
   ],
   "source": [
    "New_df.shape"
   ]
  },
  {
   "cell_type": "code",
   "execution_count": 71,
   "id": "bb03c0ec",
   "metadata": {
    "scrolled": true
   },
   "outputs": [
    {
     "data": {
      "text/plain": [
       "True     308219\n",
       "False      4923\n",
       "Name: AR_Exist, dtype: int64"
      ]
     },
     "execution_count": 71,
     "metadata": {},
     "output_type": "execute_result"
    }
   ],
   "source": [
    "New_df['AR_Exist'].value_counts()"
   ]
  },
  {
   "cell_type": "code",
   "execution_count": 72,
   "id": "4b337c3c",
   "metadata": {
    "scrolled": true
   },
   "outputs": [
    {
     "data": {
      "text/plain": [
       "<AxesSubplot:>"
      ]
     },
     "execution_count": 72,
     "metadata": {},
     "output_type": "execute_result"
    },
    {
     "data": {
      "image/png": "[encoded data removed]",
      "text/plain": [
       "<Figure size 432x288 with 1 Axes>"
      ]
     },
     "metadata": {
      "needs_background": "light"
     },
     "output_type": "display_data"
    }
   ],
   "source": [
    "New_df['AR_Exist'].value_counts().plot.barh()"
   ]
  },
  {
   "cell_type": "code",
   "execution_count": 73,
   "id": "0bdb8b19",
   "metadata": {
    "scrolled": true
   },
   "outputs": [
    {
     "data": {
      "text/plain": [
       "<AxesSubplot:xlabel='AR_Percentage', ylabel='Density'>"
      ]
     },
     "execution_count": 73,
     "metadata": {},
     "output_type": "execute_result"
    },
    {
     "data": {
      "image/png": "[encoded data removed]",
      "text/plain": [
       "<Figure size 432x288 with 1 Axes>"
      ]
     },
     "metadata": {
      "needs_background": "light"
     },
     "output_type": "display_data"
    }
   ],
   "source": [
    "sns.distplot(New_df['AR_Percentage'])"
   ]
  },
  {
   "cell_type": "code",
   "execution_count": 74,
   "id": "7e859f67",
   "metadata": {
    "scrolled": true
   },
   "outputs": [
    {
     "data": {
      "image/png": "[encoded data removed]",
      "text/plain": [
       "<Figure size 432x288 with 2 Axes>"
      ]
     },
     "metadata": {
      "needs_background": "light"
     },
     "output_type": "display_data"
    }
   ],
   "source": [
    "sns.heatmap(New_df.corr(), cmap=\"YlGnBu\", annot = True)\n",
    "plt.show()"
   ]
  },
  {
   "cell_type": "code",
   "execution_count": 75,
   "id": "1541bd1d",
   "metadata": {},
   "outputs": [
    {
     "data": {
      "text/plain": [
       "105    20810\n",
       "9      20017\n",
       "108    17403\n",
       "111    17044\n",
       "2      15191\n",
       "5      14396\n",
       "103    14378\n",
       "106    13977\n",
       "112    13642\n",
       "8      13359\n",
       "110    12758\n",
       "203    12310\n",
       "109    12161\n",
       "7      11845\n",
       "104    11569\n",
       "3      11307\n",
       "107     9699\n",
       "6       9694\n",
       "12      9305\n",
       "201     9239\n",
       "11      8851\n",
       "102     7783\n",
       "10      7022\n",
       "202     6824\n",
       "101     6450\n",
       "1       3855\n",
       "4       2253\n",
       "Name: MM, dtype: int64"
      ]
     },
     "execution_count": 75,
     "metadata": {},
     "output_type": "execute_result"
    }
   ],
   "source": [
    "New_df['MM'].value_counts()"
   ]
  },
  {
   "cell_type": "code",
   "execution_count": 42,
   "id": "cac7146d",
   "metadata": {
    "scrolled": true
   },
   "outputs": [
    {
     "data": {
      "text/plain": [
       "MR080    168276\n",
       "Other     28325\n",
       "HR004     17326\n",
       "HR027      9755\n",
       "MR076      9592\n",
       "MR081      8255\n",
       "MR103      6958\n",
       "HR006      6315\n",
       "BR049      6026\n",
       "BR074      4898\n",
       "MR098      4810\n",
       "BR029      4762\n",
       "HR014      3579\n",
       "MR083      3204\n",
       "MR036      2819\n",
       "XR001      2813\n",
       "PR002      2758\n",
       "XR020      2704\n",
       "XR006      1936\n",
       "MR021      1682\n",
       "MR023      1681\n",
       "MR157      1518\n",
       "MR032      1478\n",
       "HR044      1089\n",
       "HR028       976\n",
       "MR042       914\n",
       "BR016       841\n",
       "BR078       818\n",
       "BR042       793\n",
       "MR077       784\n",
       "BR048       729\n",
       "HR058       729\n",
       "BR014       681\n",
       "BR070       676\n",
       "BR009       530\n",
       "PR021       529\n",
       "MR172       484\n",
       "MR094       400\n",
       "HR001       324\n",
       "MR029       324\n",
       "HR040        17\n",
       "HR068        16\n",
       "MR063         9\n",
       "PR001         4\n",
       "MR116         4\n",
       "BR001         1\n",
       "Name: Code, dtype: int64"
      ]
     },
     "execution_count": 42,
     "metadata": {},
     "output_type": "execute_result"
    }
   ],
   "source": [
    "New_df['Code'].value_counts()"
   ]
  },
  {
   "cell_type": "markdown",
   "id": "3dc60b06",
   "metadata": {},
   "source": [
    "#### 3. Prepare the data"
   ]
  },
  {
   "cell_type": "code",
   "execution_count": 43,
   "id": "aaf7fa1f",
   "metadata": {},
   "outputs": [
    {
     "data": {
      "text/html": [
       "<div>\n",
       "<style scoped>\n",
       "    .dataframe tbody tr th:only-of-type {\n",
       "        vertical-align: middle;\n",
       "    }\n",
       "\n",
       "    .dataframe tbody tr th {\n",
       "        vertical-align: top;\n",
       "    }\n",
       "\n",
       "    .dataframe thead th {\n",
       "        text-align: right;\n",
       "    }\n",
       "</style>\n",
       "<table border=\"1\" class=\"dataframe\">\n",
       "  <thead>\n",
       "    <tr style=\"text-align: right;\">\n",
       "      <th></th>\n",
       "      <th>ID</th>\n",
       "      <th>TotPayment</th>\n",
       "    </tr>\n",
       "  </thead>\n",
       "  <tbody>\n",
       "    <tr>\n",
       "      <th>0</th>\n",
       "      <td>TEDEL19469808</td>\n",
       "      <td>12396672.00</td>\n",
       "    </tr>\n",
       "    <tr>\n",
       "      <th>1</th>\n",
       "      <td>TEDEL19519236</td>\n",
       "      <td>22125869.00</td>\n",
       "    </tr>\n",
       "    <tr>\n",
       "      <th>2</th>\n",
       "      <td>TEDEL19519953</td>\n",
       "      <td>1250.00</td>\n",
       "    </tr>\n",
       "    <tr>\n",
       "      <th>3</th>\n",
       "      <td>TEDEL19545547</td>\n",
       "      <td>4441434.48</td>\n",
       "    </tr>\n",
       "    <tr>\n",
       "      <th>4</th>\n",
       "      <td>TEDEL19575837</td>\n",
       "      <td>2000.00</td>\n",
       "    </tr>\n",
       "    <tr>\n",
       "      <th>...</th>\n",
       "      <td>...</td>\n",
       "      <td>...</td>\n",
       "    </tr>\n",
       "    <tr>\n",
       "      <th>472</th>\n",
       "      <td>TEWBO103624304</td>\n",
       "      <td>121.44</td>\n",
       "    </tr>\n",
       "    <tr>\n",
       "      <th>473</th>\n",
       "      <td>TEWBO103880483</td>\n",
       "      <td>0.00</td>\n",
       "    </tr>\n",
       "    <tr>\n",
       "      <th>474</th>\n",
       "      <td>TEWBO103938880</td>\n",
       "      <td>2506.18</td>\n",
       "    </tr>\n",
       "    <tr>\n",
       "      <th>475</th>\n",
       "      <td>TEWBO104106714</td>\n",
       "      <td>0.00</td>\n",
       "    </tr>\n",
       "    <tr>\n",
       "      <th>476</th>\n",
       "      <td>TEWBO104464998</td>\n",
       "      <td>0.00</td>\n",
       "    </tr>\n",
       "  </tbody>\n",
       "</table>\n",
       "<p>477 rows × 2 columns</p>\n",
       "</div>"
      ],
      "text/plain": [
       "                 ID   TotPayment\n",
       "0     TEDEL19469808  12396672.00\n",
       "1     TEDEL19519236  22125869.00\n",
       "2     TEDEL19519953      1250.00\n",
       "3     TEDEL19545547   4441434.48\n",
       "4     TEDEL19575837      2000.00\n",
       "..              ...          ...\n",
       "472  TEWBO103624304       121.44\n",
       "473  TEWBO103880483         0.00\n",
       "474  TEWBO103938880      2506.18\n",
       "475  TEWBO104106714         0.00\n",
       "476  TEWBO104464998         0.00\n",
       "\n",
       "[477 rows x 2 columns]"
      ]
     },
     "execution_count": 43,
     "metadata": {},
     "output_type": "execute_result"
    }
   ],
   "source": [
    "grouped_df = New_df.groupby('ID')['TotPayment'].sum()\n",
    "grouped_df = grouped_df.reset_index()\n",
    "grouped_df"
   ]
  },
  {
   "cell_type": "code",
   "execution_count": 44,
   "id": "b6580b22",
   "metadata": {},
   "outputs": [
    {
     "data": {
      "text/html": [
       "<div>\n",
       "<style scoped>\n",
       "    .dataframe tbody tr th:only-of-type {\n",
       "        vertical-align: middle;\n",
       "    }\n",
       "\n",
       "    .dataframe tbody tr th {\n",
       "        vertical-align: top;\n",
       "    }\n",
       "\n",
       "    .dataframe thead th {\n",
       "        text-align: right;\n",
       "    }\n",
       "</style>\n",
       "<table border=\"1\" class=\"dataframe\">\n",
       "  <thead>\n",
       "    <tr style=\"text-align: right;\">\n",
       "      <th></th>\n",
       "      <th>ID</th>\n",
       "      <th>Amount_Due</th>\n",
       "    </tr>\n",
       "  </thead>\n",
       "  <tbody>\n",
       "    <tr>\n",
       "      <th>0</th>\n",
       "      <td>TEDEL19469808</td>\n",
       "      <td>3250944.00</td>\n",
       "    </tr>\n",
       "    <tr>\n",
       "      <th>1</th>\n",
       "      <td>TEDEL19519236</td>\n",
       "      <td>3651058.53</td>\n",
       "    </tr>\n",
       "    <tr>\n",
       "      <th>2</th>\n",
       "      <td>TEDEL19519953</td>\n",
       "      <td>27600.00</td>\n",
       "    </tr>\n",
       "    <tr>\n",
       "      <th>3</th>\n",
       "      <td>TEDEL19545547</td>\n",
       "      <td>438230.52</td>\n",
       "    </tr>\n",
       "    <tr>\n",
       "      <th>4</th>\n",
       "      <td>TEDEL19575837</td>\n",
       "      <td>2016.00</td>\n",
       "    </tr>\n",
       "    <tr>\n",
       "      <th>...</th>\n",
       "      <td>...</td>\n",
       "      <td>...</td>\n",
       "    </tr>\n",
       "    <tr>\n",
       "      <th>472</th>\n",
       "      <td>TEWBO103624304</td>\n",
       "      <td>70.56</td>\n",
       "    </tr>\n",
       "    <tr>\n",
       "      <th>473</th>\n",
       "      <td>TEWBO103880483</td>\n",
       "      <td>13320.00</td>\n",
       "    </tr>\n",
       "    <tr>\n",
       "      <th>474</th>\n",
       "      <td>TEWBO103938880</td>\n",
       "      <td>1064.96</td>\n",
       "    </tr>\n",
       "    <tr>\n",
       "      <th>475</th>\n",
       "      <td>TEWBO104106714</td>\n",
       "      <td>171.12</td>\n",
       "    </tr>\n",
       "    <tr>\n",
       "      <th>476</th>\n",
       "      <td>TEWBO104464998</td>\n",
       "      <td>4453.00</td>\n",
       "    </tr>\n",
       "  </tbody>\n",
       "</table>\n",
       "<p>477 rows × 2 columns</p>\n",
       "</div>"
      ],
      "text/plain": [
       "                 ID  Amount_Due\n",
       "0     TEDEL19469808  3250944.00\n",
       "1     TEDEL19519236  3651058.53\n",
       "2     TEDEL19519953    27600.00\n",
       "3     TEDEL19545547   438230.52\n",
       "4     TEDEL19575837     2016.00\n",
       "..              ...         ...\n",
       "472  TEWBO103624304       70.56\n",
       "473  TEWBO103880483    13320.00\n",
       "474  TEWBO103938880     1064.96\n",
       "475  TEWBO104106714      171.12\n",
       "476  TEWBO104464998     4453.00\n",
       "\n",
       "[477 rows x 2 columns]"
      ]
     },
     "execution_count": 44,
     "metadata": {},
     "output_type": "execute_result"
    }
   ],
   "source": [
    "grouped_df1 = New_df.groupby('ID')['Amount_Due'].sum()\n",
    "grouped_df1 = grouped_df1.reset_index()\n",
    "grouped_df1"
   ]
  },
  {
   "cell_type": "code",
   "execution_count": 45,
   "id": "24f32fbb",
   "metadata": {},
   "outputs": [
    {
     "data": {
      "text/html": [
       "<div>\n",
       "<style scoped>\n",
       "    .dataframe tbody tr th:only-of-type {\n",
       "        vertical-align: middle;\n",
       "    }\n",
       "\n",
       "    .dataframe tbody tr th {\n",
       "        vertical-align: top;\n",
       "    }\n",
       "\n",
       "    .dataframe thead th {\n",
       "        text-align: right;\n",
       "    }\n",
       "</style>\n",
       "<table border=\"1\" class=\"dataframe\">\n",
       "  <thead>\n",
       "    <tr style=\"text-align: right;\">\n",
       "      <th></th>\n",
       "      <th>ID</th>\n",
       "      <th>TotPayment</th>\n",
       "      <th>Amount_Due</th>\n",
       "    </tr>\n",
       "  </thead>\n",
       "  <tbody>\n",
       "    <tr>\n",
       "      <th>0</th>\n",
       "      <td>TEDEL19469808</td>\n",
       "      <td>12396672.00</td>\n",
       "      <td>3250944.00</td>\n",
       "    </tr>\n",
       "    <tr>\n",
       "      <th>1</th>\n",
       "      <td>TEDEL19519236</td>\n",
       "      <td>22125869.00</td>\n",
       "      <td>3651058.53</td>\n",
       "    </tr>\n",
       "    <tr>\n",
       "      <th>2</th>\n",
       "      <td>TEDEL19519953</td>\n",
       "      <td>1250.00</td>\n",
       "      <td>27600.00</td>\n",
       "    </tr>\n",
       "    <tr>\n",
       "      <th>3</th>\n",
       "      <td>TEDEL19545547</td>\n",
       "      <td>4441434.48</td>\n",
       "      <td>438230.52</td>\n",
       "    </tr>\n",
       "    <tr>\n",
       "      <th>4</th>\n",
       "      <td>TEDEL19575837</td>\n",
       "      <td>2000.00</td>\n",
       "      <td>2016.00</td>\n",
       "    </tr>\n",
       "  </tbody>\n",
       "</table>\n",
       "</div>"
      ],
      "text/plain": [
       "              ID   TotPayment  Amount_Due\n",
       "0  TEDEL19469808  12396672.00  3250944.00\n",
       "1  TEDEL19519236  22125869.00  3651058.53\n",
       "2  TEDEL19519953      1250.00    27600.00\n",
       "3  TEDEL19545547   4441434.48   438230.52\n",
       "4  TEDEL19575837      2000.00     2016.00"
      ]
     },
     "execution_count": 45,
     "metadata": {},
     "output_type": "execute_result"
    }
   ],
   "source": [
    "grouped_df = pd.merge(grouped_df, grouped_df1, on='ID', how='inner')\n",
    "grouped_df.head()"
   ]
  },
  {
   "cell_type": "code",
   "execution_count": 46,
   "id": "c5dfd979",
   "metadata": {},
   "outputs": [
    {
     "data": {
      "text/html": [
       "<div>\n",
       "<style scoped>\n",
       "    .dataframe tbody tr th:only-of-type {\n",
       "        vertical-align: middle;\n",
       "    }\n",
       "\n",
       "    .dataframe tbody tr th {\n",
       "        vertical-align: top;\n",
       "    }\n",
       "\n",
       "    .dataframe thead th {\n",
       "        text-align: right;\n",
       "    }\n",
       "</style>\n",
       "<table border=\"1\" class=\"dataframe\">\n",
       "  <thead>\n",
       "    <tr style=\"text-align: right;\">\n",
       "      <th></th>\n",
       "      <th>ID</th>\n",
       "      <th>AR_Percentage</th>\n",
       "    </tr>\n",
       "  </thead>\n",
       "  <tbody>\n",
       "    <tr>\n",
       "      <th>0</th>\n",
       "      <td>TEDEL19469808</td>\n",
       "      <td>576</td>\n",
       "    </tr>\n",
       "    <tr>\n",
       "      <th>1</th>\n",
       "      <td>TEDEL19519236</td>\n",
       "      <td>841</td>\n",
       "    </tr>\n",
       "    <tr>\n",
       "      <th>2</th>\n",
       "      <td>TEDEL19519953</td>\n",
       "      <td>25</td>\n",
       "    </tr>\n",
       "    <tr>\n",
       "      <th>3</th>\n",
       "      <td>TEDEL19545547</td>\n",
       "      <td>441</td>\n",
       "    </tr>\n",
       "    <tr>\n",
       "      <th>4</th>\n",
       "      <td>TEDEL19575837</td>\n",
       "      <td>4</td>\n",
       "    </tr>\n",
       "    <tr>\n",
       "      <th>...</th>\n",
       "      <td>...</td>\n",
       "      <td>...</td>\n",
       "    </tr>\n",
       "    <tr>\n",
       "      <th>472</th>\n",
       "      <td>TEWBO103624304</td>\n",
       "      <td>1</td>\n",
       "    </tr>\n",
       "    <tr>\n",
       "      <th>473</th>\n",
       "      <td>TEWBO103880483</td>\n",
       "      <td>36</td>\n",
       "    </tr>\n",
       "    <tr>\n",
       "      <th>474</th>\n",
       "      <td>TEWBO103938880</td>\n",
       "      <td>1</td>\n",
       "    </tr>\n",
       "    <tr>\n",
       "      <th>475</th>\n",
       "      <td>TEWBO104106714</td>\n",
       "      <td>4</td>\n",
       "    </tr>\n",
       "    <tr>\n",
       "      <th>476</th>\n",
       "      <td>TEWBO104464998</td>\n",
       "      <td>1</td>\n",
       "    </tr>\n",
       "  </tbody>\n",
       "</table>\n",
       "<p>477 rows × 2 columns</p>\n",
       "</div>"
      ],
      "text/plain": [
       "                 ID  AR_Percentage\n",
       "0     TEDEL19469808            576\n",
       "1     TEDEL19519236            841\n",
       "2     TEDEL19519953             25\n",
       "3     TEDEL19545547            441\n",
       "4     TEDEL19575837              4\n",
       "..              ...            ...\n",
       "472  TEWBO103624304              1\n",
       "473  TEWBO103880483             36\n",
       "474  TEWBO103938880              1\n",
       "475  TEWBO104106714              4\n",
       "476  TEWBO104464998              1\n",
       "\n",
       "[477 rows x 2 columns]"
      ]
     },
     "execution_count": 46,
     "metadata": {},
     "output_type": "execute_result"
    }
   ],
   "source": [
    "frequency = New_df.groupby('ID')['AR_Percentage'].count()\n",
    "frequency = frequency.reset_index()\n",
    "frequency.columns = ['ID', 'AR_Percentage']\n",
    "frequency"
   ]
  },
  {
   "cell_type": "code",
   "execution_count": 47,
   "id": "794ca592",
   "metadata": {},
   "outputs": [
    {
     "data": {
      "text/html": [
       "<div>\n",
       "<style scoped>\n",
       "    .dataframe tbody tr th:only-of-type {\n",
       "        vertical-align: middle;\n",
       "    }\n",
       "\n",
       "    .dataframe tbody tr th {\n",
       "        vertical-align: top;\n",
       "    }\n",
       "\n",
       "    .dataframe thead th {\n",
       "        text-align: right;\n",
       "    }\n",
       "</style>\n",
       "<table border=\"1\" class=\"dataframe\">\n",
       "  <thead>\n",
       "    <tr style=\"text-align: right;\">\n",
       "      <th></th>\n",
       "      <th>ID</th>\n",
       "      <th>TotPayment</th>\n",
       "      <th>Amount_Due</th>\n",
       "      <th>AR_Percentage</th>\n",
       "    </tr>\n",
       "  </thead>\n",
       "  <tbody>\n",
       "    <tr>\n",
       "      <th>0</th>\n",
       "      <td>TEDEL19469808</td>\n",
       "      <td>12396672.00</td>\n",
       "      <td>3250944.00</td>\n",
       "      <td>576</td>\n",
       "    </tr>\n",
       "    <tr>\n",
       "      <th>1</th>\n",
       "      <td>TEDEL19519236</td>\n",
       "      <td>22125869.00</td>\n",
       "      <td>3651058.53</td>\n",
       "      <td>841</td>\n",
       "    </tr>\n",
       "    <tr>\n",
       "      <th>2</th>\n",
       "      <td>TEDEL19519953</td>\n",
       "      <td>1250.00</td>\n",
       "      <td>27600.00</td>\n",
       "      <td>25</td>\n",
       "    </tr>\n",
       "    <tr>\n",
       "      <th>3</th>\n",
       "      <td>TEDEL19545547</td>\n",
       "      <td>4441434.48</td>\n",
       "      <td>438230.52</td>\n",
       "      <td>441</td>\n",
       "    </tr>\n",
       "    <tr>\n",
       "      <th>4</th>\n",
       "      <td>TEDEL19575837</td>\n",
       "      <td>2000.00</td>\n",
       "      <td>2016.00</td>\n",
       "      <td>4</td>\n",
       "    </tr>\n",
       "  </tbody>\n",
       "</table>\n",
       "</div>"
      ],
      "text/plain": [
       "              ID   TotPayment  Amount_Due  AR_Percentage\n",
       "0  TEDEL19469808  12396672.00  3250944.00            576\n",
       "1  TEDEL19519236  22125869.00  3651058.53            841\n",
       "2  TEDEL19519953      1250.00    27600.00             25\n",
       "3  TEDEL19545547   4441434.48   438230.52            441\n",
       "4  TEDEL19575837      2000.00     2016.00              4"
      ]
     },
     "execution_count": 47,
     "metadata": {},
     "output_type": "execute_result"
    }
   ],
   "source": [
    "grouped_df = pd.merge(grouped_df, frequency, on='ID', how='inner')\n",
    "grouped_df.columns = ['ID', 'TotPayment', 'Amount_Due', 'AR_Percentage']\n",
    "grouped_df.head()"
   ]
  },
  {
   "cell_type": "code",
   "execution_count": 48,
   "id": "866b4954",
   "metadata": {},
   "outputs": [
    {
     "data": {
      "text/plain": [
       "313142"
      ]
     },
     "execution_count": 48,
     "metadata": {},
     "output_type": "execute_result"
    }
   ],
   "source": [
    "grouped_df['AR_Percentage'].sum()"
   ]
  },
  {
   "cell_type": "code",
   "execution_count": 54,
   "id": "edd53653",
   "metadata": {},
   "outputs": [
    {
     "data": {
      "text/plain": [
       "{'whiskers': [<matplotlib.lines.Line2D at 0x253d3d3f9d0>,\n",
       "  <matplotlib.lines.Line2D at 0x253d3d3fb20>],\n",
       " 'caps': [<matplotlib.lines.Line2D at 0x253d3d3f250>,\n",
       "  <matplotlib.lines.Line2D at 0x253d4077760>],\n",
       " 'boxes': [<matplotlib.lines.Line2D at 0x253d3d3fbe0>],\n",
       " 'medians': [<matplotlib.lines.Line2D at 0x253d4077af0>],\n",
       " 'fliers': [<matplotlib.lines.Line2D at 0x253d4077490>],\n",
       " 'means': []}"
      ]
     },
     "execution_count": 54,
     "metadata": {},
     "output_type": "execute_result"
    },
    {
     "data": {
      "image/png": "[encoded data removed]",
      "text/plain": [
       "<Figure size 432x288 with 1 Axes>"
      ]
     },
     "metadata": {
      "needs_background": "light"
     },
     "output_type": "display_data"
    }
   ],
   "source": [
    "# 1. outlier treatment\n",
    "plt.boxplot(grouped_df['AR_Percentage'])"
   ]
  },
  {
   "cell_type": "code",
   "execution_count": 55,
   "id": "9e6ec0cc",
   "metadata": {},
   "outputs": [],
   "source": [
    "# two types of outliers:\n",
    "# - statistical\n",
    "# - domain specific"
   ]
  },
  {
   "cell_type": "code",
   "execution_count": 56,
   "id": "7bb3328c",
   "metadata": {},
   "outputs": [],
   "source": [
    "# removing (statistical) outliers\n",
    "Q1 = grouped_df.TotPayment.quantile(0.05)\n",
    "Q3 = grouped_df.TotPayment.quantile(0.95)\n",
    "IQR = Q3 - Q1\n",
    "grouped_df = grouped_df[(grouped_df.TotPayment >= Q1 - 1.5*IQR) & (grouped_df.TotPayment <= Q3 + 1.5*IQR)]\n",
    "\n",
    "# outlier treatment for Amount_Due\n",
    "Q1 = grouped_df.Amount_Due.quantile(0.05)\n",
    "Q3 = grouped_df.Amount_Due.quantile(0.95)\n",
    "IQR = Q3 - Q1\n",
    "grouped_df = grouped_df[(grouped_df.Amount_Due >= Q1 - 1.5*IQR) & (grouped_df.Amount_Due <= Q3 + 1.5*IQR)]\n",
    "\n",
    "# outlier treatment for AR_Percentage\n",
    "Q1 = grouped_df.AR_Percentage.quantile(0.05)\n",
    "Q3 = grouped_df.AR_Percentage.quantile(0.95)\n",
    "IQR = Q3 - Q1\n",
    "grouped_df = grouped_df[(grouped_df.AR_Percentage >= Q1 - 1.5*IQR) & (grouped_df.AR_Percentage <= Q3 + 1.5*IQR)]"
   ]
  },
  {
   "cell_type": "code",
   "execution_count": 59,
   "id": "e387c134",
   "metadata": {},
   "outputs": [
    {
     "data": {
      "text/plain": [
       "(475, 3)"
      ]
     },
     "execution_count": 59,
     "metadata": {},
     "output_type": "execute_result"
    }
   ],
   "source": [
    "# 2. rescaling\n",
    "rfm_df = grouped_df[['TotPayment', 'Amount_Due', 'AR_Percentage']]\n",
    "\n",
    "# instantiate\n",
    "scaler = StandardScaler()\n",
    "\n",
    "# fit_transform\n",
    "rfm_df_scaled = scaler.fit_transform(rfm_df)\n",
    "rfm_df_scaled.shape"
   ]
  },
  {
   "cell_type": "code",
   "execution_count": 60,
   "id": "fbf4d27f",
   "metadata": {},
   "outputs": [
    {
     "data": {
      "text/html": [
       "<div>\n",
       "<style scoped>\n",
       "    .dataframe tbody tr th:only-of-type {\n",
       "        vertical-align: middle;\n",
       "    }\n",
       "\n",
       "    .dataframe tbody tr th {\n",
       "        vertical-align: top;\n",
       "    }\n",
       "\n",
       "    .dataframe thead th {\n",
       "        text-align: right;\n",
       "    }\n",
       "</style>\n",
       "<table border=\"1\" class=\"dataframe\">\n",
       "  <thead>\n",
       "    <tr style=\"text-align: right;\">\n",
       "      <th></th>\n",
       "      <th>TotPayment</th>\n",
       "      <th>Amount_Due</th>\n",
       "      <th>AR_Percentage</th>\n",
       "    </tr>\n",
       "  </thead>\n",
       "  <tbody>\n",
       "    <tr>\n",
       "      <th>0</th>\n",
       "      <td>-0.239058</td>\n",
       "      <td>-0.320146</td>\n",
       "      <td>-0.104143</td>\n",
       "    </tr>\n",
       "    <tr>\n",
       "      <th>1</th>\n",
       "      <td>0.079122</td>\n",
       "      <td>-0.292291</td>\n",
       "      <td>0.261326</td>\n",
       "    </tr>\n",
       "    <tr>\n",
       "      <th>2</th>\n",
       "      <td>-0.644434</td>\n",
       "      <td>-0.544549</td>\n",
       "      <td>-0.864044</td>\n",
       "    </tr>\n",
       "    <tr>\n",
       "      <th>3</th>\n",
       "      <td>-0.499224</td>\n",
       "      <td>-0.515962</td>\n",
       "      <td>-0.290326</td>\n",
       "    </tr>\n",
       "    <tr>\n",
       "      <th>4</th>\n",
       "      <td>-0.644410</td>\n",
       "      <td>-0.546330</td>\n",
       "      <td>-0.893006</td>\n",
       "    </tr>\n",
       "  </tbody>\n",
       "</table>\n",
       "</div>"
      ],
      "text/plain": [
       "   TotPayment  Amount_Due  AR_Percentage\n",
       "0   -0.239058   -0.320146      -0.104143\n",
       "1    0.079122   -0.292291       0.261326\n",
       "2   -0.644434   -0.544549      -0.864044\n",
       "3   -0.499224   -0.515962      -0.290326\n",
       "4   -0.644410   -0.546330      -0.893006"
      ]
     },
     "execution_count": 60,
     "metadata": {},
     "output_type": "execute_result"
    }
   ],
   "source": [
    "rfm_df_scaled = pd.DataFrame(rfm_df_scaled)\n",
    "rfm_df_scaled.columns = ['TotPayment', 'Amount_Due', 'AR_Percentage']\n",
    "rfm_df_scaled.head()"
   ]
  },
  {
   "cell_type": "markdown",
   "id": "7a16f83f",
   "metadata": {},
   "source": [
    "#### 4. Modelling"
   ]
  },
  {
   "cell_type": "code",
   "execution_count": 61,
   "id": "20963008",
   "metadata": {},
   "outputs": [
    {
     "data": {
      "text/plain": [
       "KMeans(max_iter=50, n_clusters=4)"
      ]
     },
     "execution_count": 61,
     "metadata": {},
     "output_type": "execute_result"
    }
   ],
   "source": [
    "# k-means with some arbitrary k\n",
    "kmeans = KMeans(n_clusters=4, max_iter=50)\n",
    "kmeans.fit(rfm_df_scaled)"
   ]
  },
  {
   "cell_type": "code",
   "execution_count": 62,
   "id": "0a4c9d8d",
   "metadata": {},
   "outputs": [
    {
     "data": {
      "text/plain": [
       "array([0, 2, 0, 0, 0, 2, 0, 2, 0, 0, 0, 2, 2, 0, 0, 0, 2, 0, 0, 0, 1, 2,\n",
       "       2, 0, 1, 1, 1, 1, 0, 2, 0, 2, 0, 0, 2, 2, 0, 0, 0, 0, 0, 1, 0, 1,\n",
       "       2, 2, 0, 2, 0, 2, 1, 0, 2, 1, 0, 2, 1, 1, 0, 1, 0, 0, 2, 1, 1, 2,\n",
       "       1, 1, 1, 0, 2, 2, 2, 1, 1, 1, 2, 1, 0, 0, 0, 0, 2, 0, 0, 0, 0, 0,\n",
       "       0, 3, 3, 0, 3, 3, 0, 0, 0, 0, 0, 0, 0, 0, 0, 0, 0, 0, 0, 0, 0, 0,\n",
       "       0, 0, 0, 0, 0, 2, 0, 0, 0, 0, 0, 0, 0, 0, 0, 0, 0, 0, 0, 0, 0, 0,\n",
       "       0, 0, 0, 0, 0, 0, 0, 0, 0, 0, 0, 0, 0, 0, 0, 0, 0, 0, 0, 0, 0, 0,\n",
       "       0, 0, 0, 0, 0, 0, 0, 0, 0, 0, 0, 0, 0, 0, 0, 0, 0, 0, 0, 0, 0, 0,\n",
       "       0, 0, 0, 0, 0, 0, 0, 0, 0, 0, 0, 0, 0, 0, 0, 0, 0, 0, 0, 0, 1, 1,\n",
       "       0, 0, 2, 1, 2, 0, 1, 1, 2, 1, 2, 2, 2, 0, 0, 0, 2, 2, 2, 0, 2, 2,\n",
       "       0, 1, 2, 0, 0, 1, 0, 0, 0, 2, 1, 2, 1, 0, 0, 1, 0, 1, 0, 2, 1, 0,\n",
       "       2, 0, 0, 2, 2, 0, 0, 0, 2, 0, 0, 0, 0, 0, 2, 0, 2, 2, 0, 2, 2, 1,\n",
       "       2, 1, 0, 2, 0, 0, 0, 0, 2, 2, 1, 2, 0, 1, 0, 1, 0, 3, 0, 2, 0, 0,\n",
       "       0, 0, 0, 2, 0, 0, 0, 0, 0, 0, 0, 2, 1, 0, 1, 1, 2, 1, 0, 0, 0, 1,\n",
       "       0, 2, 1, 2, 2, 0, 0, 0, 0, 2, 0, 0, 2, 0, 0, 0, 0, 2, 0, 0, 1, 1,\n",
       "       2, 2, 2, 1, 2, 1, 0, 1, 0, 2, 0, 0, 2, 1, 0, 2, 1, 0, 0, 0, 2, 0,\n",
       "       0, 0, 0, 2, 2, 1, 1, 0, 0, 2, 1, 2, 0, 0, 1, 0, 0, 0, 2, 1, 0, 1,\n",
       "       0, 0, 2, 0, 1, 0, 0, 0, 2, 0, 1, 2, 0, 1, 2, 1, 1, 0, 2, 2, 2, 0,\n",
       "       2, 0, 0, 0, 0, 0, 0, 1, 0, 0, 0, 0, 0, 0, 0, 0, 2, 0, 0, 2, 0, 0,\n",
       "       2, 0, 0, 0, 0, 2, 0, 0, 0, 0, 0, 3, 0, 0, 0, 0, 0, 0, 0, 0, 0, 0,\n",
       "       0, 0, 0, 0, 0, 0, 0, 0, 0, 0, 0, 0, 0, 0, 0, 0, 0, 0, 0, 0, 0, 0,\n",
       "       0, 0, 0, 0, 0, 0, 0, 0, 0, 0, 0, 0, 0])"
      ]
     },
     "execution_count": 62,
     "metadata": {},
     "output_type": "execute_result"
    }
   ],
   "source": [
    "kmeans.labels_"
   ]
  },
  {
   "cell_type": "markdown",
   "id": "924ef1bb",
   "metadata": {},
   "source": [
    "Finding the Optimal Number of Clusters\n",
    "SSD"
   ]
  },
  {
   "cell_type": "code",
   "execution_count": 63,
   "id": "aff6b14b",
   "metadata": {},
   "outputs": [
    {
     "data": {
      "text/plain": [
       "[<matplotlib.lines.Line2D at 0x253d09f8790>]"
      ]
     },
     "execution_count": 63,
     "metadata": {},
     "output_type": "execute_result"
    },
    {
     "data": {
      "image/png": "[encoded data removed]",
      "text/plain": [
       "<Figure size 432x288 with 1 Axes>"
      ]
     },
     "metadata": {
      "needs_background": "light"
     },
     "output_type": "display_data"
    }
   ],
   "source": [
    "# elbow-curve/SSD\n",
    "ssd = []\n",
    "range_n_clusters = [2, 3, 4, 5, 6, 7, 8]\n",
    "for num_clusters in range_n_clusters:\n",
    "    kmeans = KMeans(n_clusters=num_clusters, max_iter=50)\n",
    "    kmeans.fit(rfm_df_scaled)\n",
    "    \n",
    "    ssd.append(kmeans.inertia_)\n",
    "    \n",
    "# plot the SSDs for each n_clusters\n",
    "# ssd\n",
    "plt.plot(ssd)"
   ]
  },
  {
   "cell_type": "code",
   "execution_count": 65,
   "id": "c99c1851",
   "metadata": {},
   "outputs": [
    {
     "name": "stdout",
     "output_type": "stream",
     "text": [
      "For n_clusters=2, the silhouette score is 0.6980991164740384\n",
      "For n_clusters=3, the silhouette score is 0.6166177662707069\n",
      "For n_clusters=4, the silhouette score is 0.6205885990278337\n",
      "For n_clusters=5, the silhouette score is 0.5696260221602801\n",
      "For n_clusters=6, the silhouette score is 0.5653707904812806\n",
      "For n_clusters=7, the silhouette score is 0.5488527723704397\n",
      "For n_clusters=8, the silhouette score is 0.5276764071859131\n"
     ]
    }
   ],
   "source": [
    "# silhouette analysis\n",
    "range_n_clusters = [2, 3, 4, 5, 6, 7, 8]\n",
    "\n",
    "for num_clusters in range_n_clusters:\n",
    "    \n",
    "    # intialise kmeans\n",
    "    kmeans = KMeans(n_clusters=num_clusters, max_iter=50)\n",
    "    kmeans.fit(rfm_df_scaled)\n",
    "    \n",
    "    cluster_labels = kmeans.labels_\n",
    "    \n",
    "    # silhouette score\n",
    "    silhouette_avg = silhouette_score(rfm_df_scaled, cluster_labels)\n",
    "    print(\"For n_clusters={0}, the silhouette score is {1}\".format(num_clusters, silhouette_avg))"
   ]
  },
  {
   "cell_type": "code",
   "execution_count": 66,
   "id": "048c7bd1",
   "metadata": {},
   "outputs": [
    {
     "data": {
      "text/plain": [
       "KMeans(max_iter=50, n_clusters=3)"
      ]
     },
     "execution_count": 66,
     "metadata": {},
     "output_type": "execute_result"
    }
   ],
   "source": [
    "# final model with k=3\n",
    "kmeans = KMeans(n_clusters=3, max_iter=50)\n",
    "kmeans.fit(rfm_df_scaled)"
   ]
  },
  {
   "cell_type": "code",
   "execution_count": 67,
   "id": "66f16af3",
   "metadata": {},
   "outputs": [
    {
     "data": {
      "text/plain": [
       "array([0, 2, 0, 0, 0, 2, 0, 2, 0, 0, 0, 2, 2, 0, 0, 0, 2, 0, 0, 0, 2, 2,\n",
       "       2, 0, 1, 1, 1, 2, 0, 2, 0, 2, 0, 0, 2, 2, 0, 0, 0, 0, 0, 1, 0, 1,\n",
       "       2, 2, 0, 2, 0, 2, 1, 0, 2, 1, 0, 2, 2, 1, 0, 1, 0, 0, 2, 1, 2, 2,\n",
       "       1, 1, 1, 0, 2, 2, 2, 1, 1, 1, 2, 1, 0, 0, 0, 0, 2, 0, 0, 0, 0, 0,\n",
       "       0, 1, 1, 0, 1, 1, 0, 0, 0, 0, 0, 0, 0, 0, 0, 0, 0, 0, 0, 0, 0, 0,\n",
       "       0, 0, 0, 0, 0, 2, 0, 0, 0, 0, 0, 0, 0, 0, 0, 0, 0, 0, 0, 0, 0, 0,\n",
       "       0, 0, 0, 0, 0, 0, 0, 0, 0, 0, 0, 0, 0, 0, 0, 0, 0, 0, 0, 0, 0, 0,\n",
       "       0, 0, 0, 0, 0, 0, 0, 0, 0, 0, 0, 0, 0, 0, 0, 0, 0, 0, 0, 0, 0, 0,\n",
       "       0, 0, 0, 0, 0, 0, 0, 0, 0, 0, 0, 0, 0, 0, 0, 0, 0, 0, 0, 0, 1, 1,\n",
       "       0, 0, 2, 1, 2, 0, 1, 1, 2, 1, 2, 2, 2, 0, 0, 0, 2, 2, 2, 0, 2, 2,\n",
       "       0, 1, 2, 0, 0, 1, 0, 0, 0, 2, 1, 2, 1, 0, 0, 1, 0, 1, 0, 2, 1, 0,\n",
       "       2, 0, 0, 2, 2, 0, 0, 0, 0, 0, 0, 0, 0, 0, 2, 0, 2, 2, 0, 2, 2, 1,\n",
       "       2, 1, 0, 2, 0, 0, 0, 0, 2, 2, 1, 2, 0, 1, 0, 1, 0, 1, 0, 2, 0, 0,\n",
       "       0, 0, 0, 2, 0, 0, 0, 0, 0, 0, 0, 2, 1, 0, 1, 1, 2, 1, 0, 0, 0, 1,\n",
       "       0, 2, 1, 2, 2, 0, 0, 0, 0, 2, 0, 0, 2, 0, 0, 0, 0, 2, 0, 0, 1, 1,\n",
       "       2, 2, 2, 1, 2, 1, 0, 1, 0, 2, 0, 0, 0, 1, 0, 2, 1, 0, 0, 0, 2, 0,\n",
       "       0, 0, 0, 2, 2, 1, 1, 0, 0, 2, 1, 2, 0, 0, 1, 0, 0, 0, 2, 1, 0, 1,\n",
       "       0, 0, 2, 0, 1, 0, 0, 0, 2, 0, 1, 2, 0, 1, 2, 1, 1, 0, 2, 2, 2, 0,\n",
       "       2, 0, 0, 0, 0, 0, 0, 1, 0, 0, 0, 0, 0, 0, 0, 0, 2, 0, 0, 0, 0, 0,\n",
       "       2, 0, 0, 0, 0, 2, 0, 0, 0, 0, 0, 1, 0, 0, 0, 0, 0, 0, 0, 0, 0, 0,\n",
       "       0, 0, 0, 0, 0, 0, 0, 0, 0, 0, 0, 0, 0, 0, 0, 0, 0, 0, 0, 0, 0, 0,\n",
       "       0, 0, 0, 0, 0, 0, 0, 0, 0, 0, 0, 0, 0])"
      ]
     },
     "execution_count": 67,
     "metadata": {},
     "output_type": "execute_result"
    }
   ],
   "source": [
    "kmeans.labels_"
   ]
  },
  {
   "cell_type": "code",
   "execution_count": 68,
   "id": "d3eccdf7",
   "metadata": {},
   "outputs": [
    {
     "data": {
      "text/html": [
       "<div>\n",
       "<style scoped>\n",
       "    .dataframe tbody tr th:only-of-type {\n",
       "        vertical-align: middle;\n",
       "    }\n",
       "\n",
       "    .dataframe tbody tr th {\n",
       "        vertical-align: top;\n",
       "    }\n",
       "\n",
       "    .dataframe thead th {\n",
       "        text-align: right;\n",
       "    }\n",
       "</style>\n",
       "<table border=\"1\" class=\"dataframe\">\n",
       "  <thead>\n",
       "    <tr style=\"text-align: right;\">\n",
       "      <th></th>\n",
       "      <th>ID</th>\n",
       "      <th>TotPayment</th>\n",
       "      <th>Amount_Due</th>\n",
       "      <th>AR_Percentage</th>\n",
       "      <th>cluster_id</th>\n",
       "    </tr>\n",
       "  </thead>\n",
       "  <tbody>\n",
       "    <tr>\n",
       "      <th>0</th>\n",
       "      <td>TEDEL19469808</td>\n",
       "      <td>12396672.00</td>\n",
       "      <td>3250944.00</td>\n",
       "      <td>576</td>\n",
       "      <td>0</td>\n",
       "    </tr>\n",
       "    <tr>\n",
       "      <th>1</th>\n",
       "      <td>TEDEL19519236</td>\n",
       "      <td>22125869.00</td>\n",
       "      <td>3651058.53</td>\n",
       "      <td>841</td>\n",
       "      <td>2</td>\n",
       "    </tr>\n",
       "    <tr>\n",
       "      <th>2</th>\n",
       "      <td>TEDEL19519953</td>\n",
       "      <td>1250.00</td>\n",
       "      <td>27600.00</td>\n",
       "      <td>25</td>\n",
       "      <td>0</td>\n",
       "    </tr>\n",
       "    <tr>\n",
       "      <th>3</th>\n",
       "      <td>TEDEL19545547</td>\n",
       "      <td>4441434.48</td>\n",
       "      <td>438230.52</td>\n",
       "      <td>441</td>\n",
       "      <td>0</td>\n",
       "    </tr>\n",
       "    <tr>\n",
       "      <th>4</th>\n",
       "      <td>TEDEL19575837</td>\n",
       "      <td>2000.00</td>\n",
       "      <td>2016.00</td>\n",
       "      <td>4</td>\n",
       "      <td>0</td>\n",
       "    </tr>\n",
       "  </tbody>\n",
       "</table>\n",
       "</div>"
      ],
      "text/plain": [
       "              ID   TotPayment  Amount_Due  AR_Percentage  cluster_id\n",
       "0  TEDEL19469808  12396672.00  3250944.00            576           0\n",
       "1  TEDEL19519236  22125869.00  3651058.53            841           2\n",
       "2  TEDEL19519953      1250.00    27600.00             25           0\n",
       "3  TEDEL19545547   4441434.48   438230.52            441           0\n",
       "4  TEDEL19575837      2000.00     2016.00              4           0"
      ]
     },
     "execution_count": 68,
     "metadata": {},
     "output_type": "execute_result"
    }
   ],
   "source": [
    "# assign the label\n",
    "grouped_df['cluster_id'] = kmeans.labels_\n",
    "grouped_df.head()"
   ]
  },
  {
   "cell_type": "code",
   "execution_count": 69,
   "id": "9e7de1b7",
   "metadata": {},
   "outputs": [
    {
     "data": {
      "text/plain": [
       "<AxesSubplot:xlabel='cluster_id', ylabel='TotPayment'>"
      ]
     },
     "execution_count": 69,
     "metadata": {},
     "output_type": "execute_result"
    },
    {
     "data": {
      "image/png": "[encoded data removed]",
      "text/plain": [
       "<Figure size 432x288 with 1 Axes>"
      ]
     },
     "metadata": {
      "needs_background": "light"
     },
     "output_type": "display_data"
    }
   ],
   "source": [
    "# plot\n",
    "sns.boxplot(x='cluster_id', y='TotPayment', data=grouped_df)"
   ]
  },
  {
   "cell_type": "code",
   "execution_count": 70,
   "id": "56c795c6",
   "metadata": {},
   "outputs": [
    {
     "data": {
      "text/plain": [
       "<AxesSubplot:xlabel='cluster_id', ylabel='Amount_Due'>"
      ]
     },
     "execution_count": 70,
     "metadata": {},
     "output_type": "execute_result"
    },
    {
     "data": {
      "image/png": "[encoded data removed]",
      "text/plain": [
       "<Figure size 432x288 with 1 Axes>"
      ]
     },
     "metadata": {
      "needs_background": "light"
     },
     "output_type": "display_data"
    }
   ],
   "source": [
    "# plot\n",
    "sns.boxplot(x='cluster_id', y='Amount_Due', data=grouped_df)"
   ]
  },
  {
   "cell_type": "code",
   "execution_count": null,
   "id": "5b2e5e55",
   "metadata": {},
   "outputs": [],
   "source": []
  }
 ],
 "metadata": {
  "kernelspec": {
   "display_name": "Python 3",
   "language": "python",
   "name": "python3"
  },
  "language_info": {
   "codemirror_mode": {
    "name": "ipython",
    "version": 3
   },
   "file_extension": ".py",
   "mimetype": "text/x-python",
   "name": "python",
   "nbconvert_exporter": "python",
   "pygments_lexer": "ipython3",
   "version": "3.8.8"
  }
 },
 "nbformat": 4,
 "nbformat_minor": 5
}
